{
 "cells": [
  {
   "cell_type": "code",
   "execution_count": 2,
   "metadata": {},
   "outputs": [],
   "source": [
    "#hide\n",
    "# default_exp core\n",
    "from nbdev.showdoc import *"
   ]
  },
  {
   "cell_type": "markdown",
   "metadata": {},
   "source": [
    "# kicad-helpers\n",
    "\n",
    "> Scripts, templates, and examples for managing KiCad projects."
   ]
  },
  {
   "cell_type": "code",
   "execution_count": 3,
   "metadata": {},
   "outputs": [],
   "source": [
    "#export\n",
    "import glob\n",
    "import os\n",
    "import subprocess\n",
    "import tempfile\n",
    "\n",
    "import git\n",
    "from yaml import load, dump\n",
    "try:\n",
    "    from yaml import CLoader as Loader, CDumper as Dumper\n",
    "except ImportError:\n",
    "    from yaml import Loader, Dumper"
   ]
  },
  {
   "cell_type": "code",
   "execution_count": 4,
   "metadata": {},
   "outputs": [],
   "source": [
    "#export\n",
    "def get_git_root(path=\".\"):\n",
    "    # Find the current projects' root directory\n",
    "    git_repo = git.Repo(path, search_parent_directories=True)\n",
    "    return git_repo.git.rev_parse(\"--show-toplevel\")"
   ]
  },
  {
   "cell_type": "code",
   "execution_count": 5,
   "metadata": {},
   "outputs": [],
   "source": [
    "#export\n",
    "# Set the PROJECT ROOT environment variable\n",
    "#PROJECT_ROOT = get_git_root()\n",
    "#os.environ[\"KH_PROJECT_ROOT\"] = PROJECT_ROOT\n",
    "#assert(os.getenv(\"KH_PROJECT_ROOT\") == PROJECT_ROOT)"
   ]
  },
  {
   "cell_type": "markdown",
   "metadata": {},
   "source": [
    "The `$KH_PROJECT_ROOT` environment variable gets automatically set when the kicad_helpers package is imported making it accessible to shell scripts. `PROJECT_ROOT` is also available as a python variable in the `kicad_helpers` module."
   ]
  },
  {
   "cell_type": "markdown",
   "metadata": {},
   "source": [
    "# Project metadata/configuration\n",
    "\n",
    "Metadata and configuration for the project are stored in the `.kicad_helpers_config` directory (including [kibot](https://github.com/INTI-CMNB/KiBot) config files for producting manufacturing outputs via continuous integration). Additional metadata (e.g., project summary, website, and manufacturing details) is stored in the project's `kitspace.yaml` file which makes it easy for other people to manufacture boards using https://kitspace.org/."
   ]
  },
  {
   "cell_type": "code",
   "execution_count": 22,
   "metadata": {},
   "outputs": [],
   "source": [
    "#export\n",
    "def _set_root(root):\n",
    "    if root == \".\":\n",
    "        # Use defaults\n",
    "        root = get_git_root(\".\")\n",
    "        \n",
    "        # Override with environment variable if set\n",
    "        root = os.getenv(\"KH_PROJECT_ROOT\", root)\n",
    "    return root\n",
    "\n",
    "def get_project_name(root=\".\"):\n",
    "    # This is based on the name of the KiCad `*.pro` file.\n",
    "    root = _set_root(root)\n",
    "    return os.path.splitext(os.path.split(glob.glob(os.path.join(root, \"*.pro\"))[0])[1])[0]\n",
    "\n",
    "def get_project_metadata(root=\".\"):\n",
    "    root = _set_root(root)\n",
    "    # Default metadata if there's no existing `kicad.yaml` file.\n",
    "    metadata = {\"summary\": \"A description for your project\",\n",
    "                \"site\": \"https://example.com # A site you would like to link to (include http:// or https://)\",\n",
    "                \"color\": \"black\"\n",
    "    }\n",
    "    \n",
    "    try:\n",
    "        # If there's an existing `kicad.yaml` file, those settings override the defaults.\n",
    "        with open(os.path.join(root, \"kitspace.yaml\")) as f:\n",
    "            metadata.update({k: v for k, v in load(f, Loader=Loader).items() if k in [\"summary\", \"site\", \"color\"]})\n",
    "    except FileNotFoundError:\n",
    "        pass\n",
    "\n",
    "    # Add the project name\n",
    "    metadata[\"project_name\"]=get_project_name(root)\n",
    "    return metadata\n",
    "\n",
    "def get_schematic_path(root=\".\"):\n",
    "    root = _set_root(root)\n",
    "    return os.path.join(root, get_project_name(root) + \".sch\")\n",
    "\n",
    "def get_bom_path(root=\".\"):\n",
    "    return os.path.join(root, \"manufacturing\", \"default\", get_project_name(root) + \"-BOM.csv\")"
   ]
  },
  {
   "cell_type": "code",
   "execution_count": 7,
   "metadata": {},
   "outputs": [],
   "source": [
    "#export\n",
    "def setup_test_repo(root):\n",
    "    subprocess.check_call(f\"git clone https://github.com/sci-bots/dropbot-40-channel-HV-switching-board.kicad { root }\", shell=True)"
   ]
  },
  {
   "cell_type": "code",
   "execution_count": 8,
   "metadata": {},
   "outputs": [
    {
     "name": "stderr",
     "output_type": "stream",
     "text": [
      "Cloning into '/tmp/tmpo6n6gt92'...\n"
     ]
    },
    {
     "name": "stdout",
     "output_type": "stream",
     "text": [
      "get_project_name() = 40-channel-hv-switching-board\n",
      "get_project_metadata() = {'summary': 'DropBot v3 40-channel high-voltage switching board', 'site': 'https://github.com/sci-bots/dropbot-40-channel-HV-switching-board.kicad', 'color': 'black', 'project_name': '40-channel-hv-switching-board'}\n",
      "get_schematic_path() = /tmp/tmpo6n6gt92/40-channel-hv-switching-board.sch\n"
     ]
    },
    {
     "name": "stderr",
     "output_type": "stream",
     "text": [
      "Updating files: 100% (58/58), done.\n"
     ]
    },
    {
     "ename": "NameError",
     "evalue": "name 'manufacturing' is not defined",
     "output_type": "error",
     "traceback": [
      "\u001b[0;31m---------------------------------------------------------------------------\u001b[0m",
      "\u001b[0;31mNameError\u001b[0m                                 Traceback (most recent call last)",
      "\u001b[0;32m/tmp/ipykernel_17721/3283489848.py\u001b[0m in \u001b[0;36m<module>\u001b[0;34m\u001b[0m\n\u001b[1;32m      4\u001b[0m \u001b[0mprint\u001b[0m\u001b[0;34m(\u001b[0m\u001b[0;34mf\"get_project_metadata() = { get_project_metadata(temp_dir) }\"\u001b[0m\u001b[0;34m)\u001b[0m\u001b[0;34m\u001b[0m\u001b[0;34m\u001b[0m\u001b[0m\n\u001b[1;32m      5\u001b[0m \u001b[0mprint\u001b[0m\u001b[0;34m(\u001b[0m\u001b[0;34mf\"get_schematic_path() = { get_schematic_path(temp_dir) }\"\u001b[0m\u001b[0;34m)\u001b[0m\u001b[0;34m\u001b[0m\u001b[0;34m\u001b[0m\u001b[0m\n\u001b[0;32m----> 6\u001b[0;31m \u001b[0mprint\u001b[0m\u001b[0;34m(\u001b[0m\u001b[0;34mf\"get_bom_path() = { get_bom_path(temp_dir) }\"\u001b[0m\u001b[0;34m)\u001b[0m\u001b[0;34m\u001b[0m\u001b[0;34m\u001b[0m\u001b[0m\n\u001b[0m\u001b[1;32m      7\u001b[0m \u001b[0;32massert\u001b[0m \u001b[0mget_project_name\u001b[0m\u001b[0;34m(\u001b[0m\u001b[0mtemp_dir\u001b[0m\u001b[0;34m)\u001b[0m \u001b[0;34m==\u001b[0m \u001b[0;34m\"40-channel-hv-switching-board\"\u001b[0m\u001b[0;34m\u001b[0m\u001b[0;34m\u001b[0m\u001b[0m\n\u001b[1;32m      8\u001b[0m \u001b[0;32massert\u001b[0m \u001b[0mget_project_metadata\u001b[0m\u001b[0;34m(\u001b[0m\u001b[0mtemp_dir\u001b[0m\u001b[0;34m)\u001b[0m \u001b[0;34m==\u001b[0m \u001b[0;34m{\u001b[0m\u001b[0;34m'summary'\u001b[0m\u001b[0;34m:\u001b[0m \u001b[0;34m'DropBot v3 40-channel high-voltage switching board'\u001b[0m\u001b[0;34m,\u001b[0m \u001b[0;34m'site'\u001b[0m\u001b[0;34m:\u001b[0m \u001b[0;34m'https://github.com/sci-bots/dropbot-40-channel-HV-switching-board.kicad'\u001b[0m\u001b[0;34m,\u001b[0m \u001b[0;34m'color'\u001b[0m\u001b[0;34m:\u001b[0m \u001b[0;34m'black'\u001b[0m\u001b[0;34m,\u001b[0m \u001b[0;34m'project_name'\u001b[0m\u001b[0;34m:\u001b[0m \u001b[0;34m'40-channel-hv-switching-board'\u001b[0m\u001b[0;34m}\u001b[0m\u001b[0;34m\u001b[0m\u001b[0;34m\u001b[0m\u001b[0m\n",
      "\u001b[0;32m/tmp/ipykernel_17721/131960259.py\u001b[0m in \u001b[0;36mget_bom_path\u001b[0;34m(root)\u001b[0m\n\u001b[1;32m     39\u001b[0m \u001b[0;34m\u001b[0m\u001b[0m\n\u001b[1;32m     40\u001b[0m \u001b[0;32mdef\u001b[0m \u001b[0mget_bom_path\u001b[0m\u001b[0;34m(\u001b[0m\u001b[0mroot\u001b[0m\u001b[0;34m)\u001b[0m\u001b[0;34m:\u001b[0m\u001b[0;34m\u001b[0m\u001b[0;34m\u001b[0m\u001b[0m\n\u001b[0;32m---> 41\u001b[0;31m     \u001b[0;32mreturn\u001b[0m \u001b[0mos\u001b[0m\u001b[0;34m.\u001b[0m\u001b[0mpath\u001b[0m\u001b[0;34m.\u001b[0m\u001b[0mjoin\u001b[0m\u001b[0;34m(\u001b[0m\u001b[0mroot\u001b[0m\u001b[0;34m,\u001b[0m \u001b[0mmanufacturing\u001b[0m\u001b[0;34m,\u001b[0m \u001b[0mget_project_name\u001b[0m\u001b[0;34m(\u001b[0m\u001b[0mroot\u001b[0m\u001b[0;34m)\u001b[0m \u001b[0;34m+\u001b[0m \u001b[0;34m\"_BOM.csv\"\u001b[0m\u001b[0;34m)\u001b[0m\u001b[0;34m\u001b[0m\u001b[0;34m\u001b[0m\u001b[0m\n\u001b[0m",
      "\u001b[0;31mNameError\u001b[0m: name 'manufacturing' is not defined"
     ]
    }
   ],
   "source": [
    "temp_dir = tempfile.mkdtemp()\n",
    "setup_test_repo(temp_dir)\n",
    "print(f\"get_project_name() = { get_project_name(temp_dir) }\")\n",
    "print(f\"get_project_metadata() = { get_project_metadata(temp_dir) }\")\n",
    "print(f\"get_schematic_path() = { get_schematic_path(temp_dir) }\")\n",
    "print(f\"get_bom_path() = { get_bom_path(temp_dir) }\")\n",
    "assert get_project_name(temp_dir) == \"40-channel-hv-switching-board\"\n",
    "assert get_project_metadata(temp_dir) == {'summary': 'DropBot v3 40-channel high-voltage switching board', 'site': 'https://github.com/sci-bots/dropbot-40-channel-HV-switching-board.kicad', 'color': 'black', 'project_name': '40-channel-hv-switching-board'}"
   ]
  },
  {
   "cell_type": "code",
   "execution_count": 24,
   "metadata": {},
   "outputs": [
    {
     "name": "stdout",
     "output_type": "stream",
     "text": [
      "get_project_name() = 40-channel-hv-switching-board\n",
      "get_project_metadata() = {'summary': 'DropBot v3 40-channel high-voltage switching board', 'site': 'https://github.com/sci-bots/dropbot-40-channel-HV-switching-board.kicad', 'color': 'black', 'project_name': '40-channel-hv-switching-board'}\n",
      "get_schematic_path() = /tmp/tmpo6n6gt92/40-channel-hv-switching-board.sch\n",
      "get_bom_path() = /tmp/tmpo6n6gt92/manufacturing/default/40-channel-hv-switching-board-BOM.csv\n"
     ]
    }
   ],
   "source": [
    "print(f\"get_project_name() = { get_project_name(temp_dir) }\")\n",
    "print(f\"get_project_metadata() = { get_project_metadata(temp_dir) }\")\n",
    "print(f\"get_schematic_path() = { get_schematic_path(temp_dir) }\")\n",
    "print(f\"get_bom_path() = { get_bom_path(temp_dir) }\")\n",
    "assert get_project_name(temp_dir) == \"40-channel-hv-switching-board\"\n",
    "assert get_project_metadata(temp_dir) == {'summary': 'DropBot v3 40-channel high-voltage switching board', 'site': 'https://github.com/sci-bots/dropbot-40-channel-HV-switching-board.kicad', 'color': 'black', 'project_name': '40-channel-hv-switching-board'}\n",
    "assert os.path.exists(get_schematic_path(temp_dir))\n",
    "assert os.path.exists(get_bom_path(temp_dir))"
   ]
  },
  {
   "cell_type": "code",
   "execution_count": null,
   "metadata": {},
   "outputs": [],
   "source": [
    "#export\n",
    "def get_gitignore_list(root=\".\"):\n",
    "    root =_set_root(root)\n",
    "    with open(f\"{ root }/.gitignore\") as f:\n",
    "        gitignore = f.readlines()\n",
    "    return \"|\".join([line.strip() for line in gitignore])\n",
    "\n",
    "def in_gitignore(filename):\n",
    "    try:\n",
    "        if len(subprocess.check_output(f\"echo '{ filename }' | git check-ignore --stdin --no-index\", shell=True)):\n",
    "            return True\n",
    "    except subprocess.CalledProcessError:\n",
    "        pass\n",
    "    return False"
   ]
  }
 ],
 "metadata": {
  "kernelspec": {
   "display_name": "Python 3 (ipykernel)",
   "language": "python",
   "name": "python3"
  },
  "language_info": {
   "codemirror_mode": {
    "name": "ipython",
    "version": 3
   },
   "file_extension": ".py",
   "mimetype": "text/x-python",
   "name": "python",
   "nbconvert_exporter": "python",
   "pygments_lexer": "ipython3",
   "version": "3.9.7"
  }
 },
 "nbformat": 4,
 "nbformat_minor": 4
}
