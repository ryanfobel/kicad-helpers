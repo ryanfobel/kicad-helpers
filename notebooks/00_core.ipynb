{
 "cells": [
  {
   "cell_type": "code",
   "execution_count": null,
   "metadata": {},
   "outputs": [],
   "source": [
    "#hide\n",
    "# default_exp core\n",
    "from nbdev.showdoc import *"
   ]
  },
  {
   "cell_type": "markdown",
   "metadata": {},
   "source": [
    "# kicad-helpers\n",
    "\n",
    "> Scripts, templates, and examples for managing KiCad projects."
   ]
  },
  {
   "cell_type": "code",
   "execution_count": null,
   "metadata": {},
   "outputs": [],
   "source": [
    "#export\n",
    "import glob\n",
    "import os\n",
    "import subprocess\n",
    "import tempfile\n",
    "\n",
    "import git\n",
    "from yaml import load, dump\n",
    "try:\n",
    "    from yaml import CLoader as Loader, CDumper as Dumper\n",
    "except ImportError:\n",
    "    from yaml import Loader, Dumper"
   ]
  },
  {
   "cell_type": "code",
   "execution_count": null,
   "metadata": {},
   "outputs": [],
   "source": [
    "#export\n",
    "def get_git_root(path=\".\"):\n",
    "    # Find the current projects' root directory\n",
    "    git_repo = git.Repo(path, search_parent_directories=True)\n",
    "    return git_repo.git.rev_parse(\"--show-toplevel\")"
   ]
  },
  {
   "cell_type": "code",
   "execution_count": null,
   "metadata": {},
   "outputs": [],
   "source": [
    "#export\n",
    "# Set the PROJECT ROOT environment variable\n",
    "PROJECT_ROOT = get_git_root()\n",
    "os.environ[\"KH_PROJECT_ROOT\"] = PROJECT_ROOT\n",
    "assert(os.getenv(\"KH_PROJECT_ROOT\") == PROJECT_ROOT)"
   ]
  },
  {
   "cell_type": "markdown",
   "metadata": {},
   "source": [
    "The `$KH_PROJECT_ROOT` environment variable gets automatically set when the kicad_helpers package is imported making it accessible to shell scripts. `PROJECT_ROOT` is also available as a python variable in the `kicad_helpers` module."
   ]
  },
  {
   "cell_type": "markdown",
   "metadata": {},
   "source": [
    "# Project metadata/configuration\n",
    "\n",
    "Metadata and configuration for the project are stored in the `.kicad_helpers_config` directory (including [kibot](https://github.com/INTI-CMNB/KiBot) config files for producting manufacturing outputs via continuous integration). Additional metadata (e.g., project summary, website, and manufacturing details) is stored in the project's `kitspace.yaml` file which makes it easy for other people to manufacture boards using https://kitspace.org/."
   ]
  },
  {
   "cell_type": "code",
   "execution_count": null,
   "metadata": {},
   "outputs": [],
   "source": [
    "#export\n",
    "def get_project_name(root=None):\n",
    "    # This is based on the name of the KiCad `*.pro` file.\n",
    "    if root is None:\n",
    "        # Use defaults\n",
    "        root = get_git_root(\".\")\n",
    "        \n",
    "        # Override with environment variable if set\n",
    "        root = os.getenv(\"KH_PROJECT_ROOT\", root)\n",
    "    return os.path.splitext(os.path.split(glob.glob(os.path.join(root, \"*.pro\"))[0])[1])[0]\n",
    "\n",
    "def get_project_metadata(root=None):\n",
    "    if root is None:\n",
    "        # Use defaults\n",
    "        root = get_git_root(\".\")\n",
    "        \n",
    "        # Override with environment variable if set\n",
    "        root = os.getenv(\"KH_PROJECT_ROOT\", root)\n",
    "    \n",
    "    # Default metadata if there's no existing `kicad.yaml` file.\n",
    "    metadata = {\"summary\": \"A description for your project\",\n",
    "                \"site\": \"https://example.com # A site you would like to link to (include http:// or https://)\",\n",
    "                \"color\": \"black\"\n",
    "    }\n",
    "    \n",
    "    try:\n",
    "        # If there's an existing `kicad.yaml` file, those settings override the defaults.\n",
    "        with open(os.path.join(root, \"kitspace.yaml\")) as f:\n",
    "            metadata.update({k: v for k, v in load(f, Loader=Loader).items() if k in [\"summary\", \"site\", \"color\"]})\n",
    "    except FileNotFoundError:\n",
    "        pass\n",
    "\n",
    "    # Add the project name\n",
    "    metadata[\"project_name\"]=get_project_name(root)\n",
    "    return metadata"
   ]
  },
  {
   "cell_type": "code",
   "execution_count": null,
   "metadata": {},
   "outputs": [],
   "source": [
    "#export\n",
    "def setup_test_repo(root):\n",
    "    subprocess.check_call(f\"git clone https://github.com/sci-bots/dropbot-40-channel-HV-switching-board.kicad { root }\", shell=True)"
   ]
  },
  {
   "cell_type": "code",
   "execution_count": null,
   "metadata": {},
   "outputs": [
    {
     "name": "stderr",
     "output_type": "stream",
     "text": [
      "Cloning into '/tmp/tmp9z8e3185'...\n"
     ]
    },
    {
     "name": "stdout",
     "output_type": "stream",
     "text": [
      "project_name = 40-channel-hv-switching-board\n",
      "metadata = {'summary': 'DropBot v3 40-channel high-voltage switching board', 'site': 'https://github.com/sci-bots/dropbot-40-channel-HV-switching-board.kicad', 'color': 'black', 'project_name': '40-channel-hv-switching-board'}\n"
     ]
    }
   ],
   "source": [
    "temp_dir = tempfile.mkdtemp()\n",
    "setup_test_repo(temp_dir)\n",
    "print(f\"project_name = { get_project_name(temp_dir) }\")\n",
    "print(f\"metadata = { get_project_metadata(temp_dir) }\")\n",
    "assert get_project_name(temp_dir) == \"40-channel-hv-switching-board\"\n",
    "assert get_project_metadata(temp_dir) == {'summary': 'DropBot v3 40-channel high-voltage switching board', 'site': 'https://github.com/sci-bots/dropbot-40-channel-HV-switching-board.kicad', 'color': 'black', 'project_name': '40-channel-hv-switching-board'}"
   ]
  },
  {
   "cell_type": "code",
   "execution_count": null,
   "metadata": {},
   "outputs": [],
   "source": [
    "#export\n",
    "def get_gitignore_list(root=None):\n",
    "    if root is None:\n",
    "        # Use defaults\n",
    "        root = get_git_root(\".\")\n",
    "        \n",
    "        # Override with environment variable if set\n",
    "        root = os.getenv(\"KH_PROJECT_ROOT\", root)\n",
    "    with open(f\"{ root }/.gitignore\") as f:\n",
    "        gitignore = f.readlines()\n",
    "    return \"|\".join([line.strip() for line in gitignore])\n",
    "\n",
    "def in_gitignore(filename):\n",
    "    try:\n",
    "        if len(subprocess.check_output(f\"echo '{ filename }' | git check-ignore --stdin --no-index\", shell=True)):\n",
    "            return True\n",
    "    except subprocess.CalledProcessError:\n",
    "        pass\n",
    "    return False"
   ]
  }
 ],
 "metadata": {
  "kernelspec": {
   "display_name": "Python 3 (ipykernel)",
   "language": "python",
   "name": "python3"
  }
 },
 "nbformat": 4,
 "nbformat_minor": 4
}
