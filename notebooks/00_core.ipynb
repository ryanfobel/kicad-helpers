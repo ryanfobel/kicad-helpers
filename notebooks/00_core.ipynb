{
 "cells": [
  {
   "cell_type": "code",
   "execution_count": null,
   "metadata": {},
   "outputs": [],
   "source": [
    "#hide\n",
    "# default_exp core\n",
    "from nbdev.showdoc import *"
   ]
  },
  {
   "cell_type": "markdown",
   "metadata": {},
   "source": [
    "# kicad-helpers\n",
    "\n",
    "> Scripts, templates, and examples for managing KiCad projects."
   ]
  },
  {
   "cell_type": "code",
   "execution_count": null,
   "metadata": {},
   "outputs": [],
   "source": [
    "#export\n",
    "import glob\n",
    "import os\n",
    "import subprocess\n",
    "\n",
    "import git\n",
    "from yaml import load, dump\n",
    "try:\n",
    "    from yaml import CLoader as Loader, CDumper as Dumper\n",
    "except ImportError:\n",
    "    from yaml import Loader, Dumper"
   ]
  },
  {
   "cell_type": "code",
   "execution_count": null,
   "metadata": {},
   "outputs": [],
   "source": [
    "#export\n",
    "def get_project_root():\n",
    "    # Find the current projects' root directory\n",
    "    git_repo = git.Repo(\".\", search_parent_directories=True)\n",
    "    return git_repo.git.rev_parse(\"--show-toplevel\")"
   ]
  },
  {
   "cell_type": "code",
   "execution_count": null,
   "metadata": {},
   "outputs": [],
   "source": [
    "#export\n",
    "# Set the PROJECT ROOT environment variable\n",
    "PROJECT_ROOT = get_project_root()\n",
    "os.environ[\"KH_PROJECT_ROOT\"] = PROJECT_ROOT\n",
    "assert(os.getenv(\"KH_PROJECT_ROOT\") == PROJECT_ROOT)"
   ]
  },
  {
   "cell_type": "code",
   "execution_count": null,
   "metadata": {},
   "outputs": [
    {
     "name": "stdout",
     "output_type": "stream",
     "text": [
      "/mnt/c/Users/ryan/OneDrive/dev/kicad/kicad-helpers\n"
     ]
    }
   ],
   "source": [
    "%%sh\n",
    "echo $KH_PROJECT_ROOT"
   ]
  },
  {
   "cell_type": "markdown",
   "metadata": {},
   "source": [
    "The `$KH_PROJECT_ROOT` environment variable gets automatically set when the kicad_helpers package is imported making it accessible to shell scripts. `PROJECT_ROOT` is also available as a python variable in the `kicad_helpers` module."
   ]
  },
  {
   "cell_type": "markdown",
   "metadata": {},
   "source": [
    "# Project metadata/configuration\n",
    "\n",
    "Metadata and configuration for the project are stored in the `.kicad_helpers_config` directory (including [kibot](https://github.com/INTI-CMNB/KiBot) config files for producting manufacturing outputs via continuous integration). Additional metadata (e.g., project summary, website, and manufacturing details) is stored in the project's `kitspace.yaml` file which makes it easy for other people to manufacture boards using https://kitspace.org/."
   ]
  },
  {
   "cell_type": "code",
   "execution_count": null,
   "metadata": {},
   "outputs": [],
   "source": [
    "#export\n",
    "def get_project_name():\n",
    "    # This is based on the name of the KiCad `*.pro` file.\n",
    "    root = get_project_root()\n",
    "    return os.path.splitext(os.path.split(glob.glob(os.path.join(root, \"*.pro\"))[0])[1])[0]\n",
    "\n",
    "def get_project_metadata():\n",
    "    PROJECT_ROOT = get_project_root()\n",
    "    \n",
    "    # Default metadata if there's no existing `kicad.yaml` file.\n",
    "    metadata = {\"summary\": \"A description for your project\",\n",
    "                \"site\": \"https://example.com # A site you would like to link to (include http:// or https://)\",\n",
    "                \"color\": \"black\"\n",
    "    }\n",
    "    \n",
    "    try:\n",
    "        # If there's an existing `kicad.yaml` file, those settings override the defaults.\n",
    "        with open(os.path.join(PROJECT_ROOT, \"kitspace.yaml\")) as f:\n",
    "            metadata.update({k: v for k, v in load(f, Loader=Loader).items() if k in [\"summary\", \"site\", \"color\"]})\n",
    "    except FileNotFoundError:\n",
    "        pass\n",
    "\n",
    "    # Add the project name\n",
    "    metadata[\"project_name\"]=get_project_name()\n",
    "    return metadata"
   ]
  },
  {
   "cell_type": "code",
   "execution_count": null,
   "metadata": {},
   "outputs": [
    {
     "data": {
      "text/plain": [
       "{'summary': 'A description for your project',\n",
       " 'site': 'https://example.com',\n",
       " 'color': 'black',\n",
       " 'project_name': '40-channel-hv-switching-board'}"
      ]
     },
     "execution_count": null,
     "metadata": {},
     "output_type": "execute_result"
    }
   ],
   "source": [
    "get_project_metadata()"
   ]
  },
  {
   "cell_type": "code",
   "execution_count": null,
   "metadata": {},
   "outputs": [],
   "source": [
    "#export\n",
    "def get_gitignore_list():\n",
    "    PROJECT_ROOT = get_project_root()\n",
    "    with open(f\"{PROJECT_ROOT}/.gitignore\") as f:\n",
    "        gitignore = f.readlines()\n",
    "    return \"|\".join([line.strip() for line in gitignore])"
   ]
  },
  {
   "cell_type": "code",
   "execution_count": null,
   "metadata": {},
   "outputs": [],
   "source": [
    "#export\n",
    "def in_gitignore(filename):\n",
    "    try:\n",
    "        if len(subprocess.check_output(f\"echo '{ filename }' | git check-ignore --stdin --no-index\", shell=True)):\n",
    "            return True\n",
    "    except subprocess.CalledProcessError:\n",
    "        pass\n",
    "    return False"
   ]
  },
  {
   "cell_type": "code",
   "execution_count": null,
   "metadata": {},
   "outputs": [],
   "source": []
  },
  {
   "cell_type": "code",
   "execution_count": null,
   "metadata": {},
   "outputs": [],
   "source": []
  },
  {
   "cell_type": "code",
   "execution_count": null,
   "metadata": {},
   "outputs": [],
   "source": []
  }
 ],
 "metadata": {
  "kernelspec": {
   "display_name": "Python 3 (ipykernel)",
   "language": "python",
   "name": "python3"
  }
 },
 "nbformat": 4,
 "nbformat_minor": 4
}
