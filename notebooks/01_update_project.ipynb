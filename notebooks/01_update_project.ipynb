{
 "cells": [
  {
   "cell_type": "code",
   "execution_count": null,
   "id": "63c3d1ea-5269-4e4e-bc12-a27f7392a9a8",
   "metadata": {},
   "outputs": [],
   "source": [
    "#hide\n",
    "#default_exp update_project\n",
    "from nbdev.showdoc import show_doc"
   ]
  },
  {
   "cell_type": "code",
   "execution_count": null,
   "id": "6e261d24-7a5f-4f2a-ab73-860c196cdbcd",
   "metadata": {},
   "outputs": [],
   "source": [
    "#export\n",
    "import os\n",
    "import pkg_resources\n",
    "\n",
    "import jinja2\n",
    "from fastcore.script import *\n",
    "\n",
    "from kicad_helpers import get_git_root, get_project_metadata, get_gitignore_list, in_gitignore"
   ]
  },
  {
   "cell_type": "markdown",
   "id": "32f4c677-eaec-4b28-92e3-3aa428b618a1",
   "metadata": {},
   "source": [
    "# update_project\n",
    "\n",
    "> Functions scripts to initialize a new kicad-helpers project or to update an existing project.\n",
    "\n",
    "* toc: true\n",
    "\n",
    "Similar to `nbdev`: [nbdev_new](https://nbdev.fast.ai/tutorial.html#Set-up-Repo)\n",
    "\n",
    "* [x] github workflows\n",
    "* [x] .kicad_helpers_config\n",
    "* [x] kitspace.yaml\n",
    "* [ ] Example notebooks (e.g., for syncing the BOM)\n",
    "\n",
    "Templates are stored in the \"kicad_helpers/templates\" folder, and are included in the python package by adding the following line to the `MANIFEST.in` file:\n",
    "\n",
    "```\n",
    "graft kicad_helpers/templates\n",
    "```"
   ]
  },
  {
   "cell_type": "code",
   "execution_count": null,
   "id": "16ae823c-b16e-4c65-9d29-a80316e12bb2",
   "metadata": {},
   "outputs": [],
   "source": [
    "#export\n",
    "@call_parse\n",
    "def update_templates(root=None):\n",
    "    # Render all files in the `templates` directory (ignoring anything that is\n",
    "    # in the `.gitignore` list) as jinja2 templates.\n",
    "    templates_path = os.path.abspath(pkg_resources.resource_filename('kicad_helpers', 'templates'))\n",
    "    \n",
    "    if root is None:\n",
    "        # Use defaults\n",
    "        root = get_git_root(\".\")\n",
    "        \n",
    "        # Override with environment variable if set\n",
    "        root = os.getenv(\"KH_PROJECT_ROOT\", root)\n",
    "    \n",
    "    metadata = get_project_metadata(root)\n",
    "    \n",
    "    file_list = []\n",
    "    for root_, dirs, files in os.walk(templates_path):\n",
    "        if len(files):\n",
    "            for file in files:\n",
    "                path = os.path.join(root_[len(templates_path) + 1:], file)\n",
    "                if not in_gitignore(path):\n",
    "                    src_path = os.path.abspath(os.path.join(templates_path, path))\n",
    "                    dst_path = os.path.abspath(os.path.join(root, path))\n",
    "                    \n",
    "                    # Create the `dst_path` directory if it doesn't exist\n",
    "                    os.makedirs(os.path.split(dst_path)[0], exist_ok=True)\n",
    "\n",
    "                    if os.path.exists(dst_path):\n",
    "                        print(f\"{dst_path} already exists\")\n",
    "    \n",
    "                    with open(src_path) as f:\n",
    "                        template = jinja2.Template(f.read())\n",
    "\n",
    "                    with open(dst_path, \"w\") as f:\n",
    "                        f.write(template.render(**metadata))"
   ]
  },
  {
   "cell_type": "code",
   "execution_count": null,
   "id": "9748742e-ef1f-41af-a1ac-761453932637",
   "metadata": {},
   "outputs": [
    {
     "name": "stderr",
     "output_type": "stream",
     "text": [
      "Cloning into '/tmp/tmpc8ijn9js'...\n"
     ]
    },
    {
     "name": "stdout",
     "output_type": "stream",
     "text": [
      "/tmp/tmpc8ijn9js/kitspace.yaml already exists\n",
      "/tmp/tmpc8ijn9js/.github/workflows/build.yml already exists\n",
      "/tmp/tmpc8ijn9js/.kicad_helpers_config/config.kibot.yaml already exists\n",
      "/tmp/tmpc8ijn9js/.kicad_helpers_config/manufacturers/PCBWay.kibot.yaml already exists\n"
     ]
    }
   ],
   "source": [
    "import tempfile\n",
    "\n",
    "from kicad_helpers import setup_test_repo\n",
    "\n",
    "temp_dir = tempfile.mkdtemp()\n",
    "setup_test_repo(temp_dir)\n",
    "update_templates(temp_dir)\n",
    "os.chdir(temp_dir)"
   ]
  },
  {
   "cell_type": "markdown",
   "id": "c83d4cce-e155-4c72-8f2a-0aae8e1aaadc",
   "metadata": {},
   "source": [
    "# Project structure\n",
    "\n",
    "Here's an example showing the recommended KiCad project structure."
   ]
  },
  {
   "cell_type": "code",
   "execution_count": null,
   "id": "098a0499-4612-47e8-80f3-599669e07094",
   "metadata": {},
   "outputs": [
    {
     "name": "stdout",
     "output_type": "stream",
     "text": [
      ".\n",
      "├── docs\n",
      "│   ├── png\n",
      "│   └── src\n",
      "├── library\n",
      "└── manufacturing\n",
      "    └── default\n",
      "        ├── assembly_photos\n",
      "        ├── gerbers\n",
      "        └── position\n",
      "\n",
      "9 directories\n"
     ]
    }
   ],
   "source": [
    "%%sh\n",
    "tree --dirsfirst -d -I $(python -c \"from kicad_helpers import get_gitignore_list; print('kicad_helpers|' + get_gitignore_list())\") ."
   ]
  }
 ],
 "metadata": {
  "kernelspec": {
   "display_name": "Python 3 (ipykernel)",
   "language": "python",
   "name": "python3"
  }
 },
 "nbformat": 4,
 "nbformat_minor": 5
}
