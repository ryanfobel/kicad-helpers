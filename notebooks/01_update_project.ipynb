{
 "cells": [
  {
   "cell_type": "code",
   "execution_count": 40,
   "id": "63c3d1ea-5269-4e4e-bc12-a27f7392a9a8",
   "metadata": {},
   "outputs": [],
   "source": [
    "#hide\n",
    "#default_exp update_project\n",
    "from nbdev.showdoc import show_doc"
   ]
  },
  {
   "cell_type": "code",
   "execution_count": 41,
   "id": "6e261d24-7a5f-4f2a-ab73-860c196cdbcd",
   "metadata": {},
   "outputs": [],
   "source": [
    "#export\n",
    "import os\n",
    "import pkg_resources\n",
    "import subprocess\n",
    "\n",
    "import jinja2\n",
    "from fastcore.script import *\n",
    "\n",
    "from kicad_helpers import get_git_root, get_project_metadata, get_gitignore_list, in_gitignore\n",
    "from kicad_helpers.core import _set_root"
   ]
  },
  {
   "cell_type": "markdown",
   "id": "32f4c677-eaec-4b28-92e3-3aa428b618a1",
   "metadata": {},
   "source": [
    "# update_project\n",
    "\n",
    "> Functions scripts to initialize a new kicad-helpers project or to update an existing project.\n",
    "\n",
    "* toc: true\n",
    "\n",
    "Similar to `nbdev`: [nbdev_new](https://nbdev.fast.ai/tutorial.html#Set-up-Repo)\n",
    "\n",
    "* [x] github workflows\n",
    "* [x] .kicad_helpers_config\n",
    "* [x] kitspace.yaml\n",
    "* [ ] Example notebooks (e.g., for syncing the BOM)\n",
    "\n",
    "Templates are stored in the \"kicad_helpers/templates\" folder, and are included in the python package by adding the following line to the `MANIFEST.in` file:\n",
    "\n",
    "```\n",
    "graft kicad_helpers/templates\n",
    "```"
   ]
  },
  {
   "cell_type": "code",
   "execution_count": 42,
   "id": "16ae823c-b16e-4c65-9d29-a80316e12bb2",
   "metadata": {},
   "outputs": [],
   "source": [
    "#export\n",
    "@call_parse\n",
    "def update_templates(v:Param(\"verbose\", bool),\n",
    "                     overwrite:Param(\"overwrite existing templates\", bool),\n",
    "                     root:Param(\"project root directory\", str)=\".\"):\n",
    "    \"\"\"\n",
    "    Update project templates from the `kicad_helpers/templates` directory\n",
    "    (ignoring anything in the project's `.gitignore` list).\n",
    "    \"\"\"\n",
    "    templates_path = os.path.abspath(pkg_resources.resource_filename('kicad_helpers', 'templates'))\n",
    "    root = _set_root(root)\n",
    "    metadata = get_project_metadata(root)\n",
    "    \n",
    "    file_list = []\n",
    "    for root_, dirs, files in os.walk(templates_path):\n",
    "        if len(files):\n",
    "            for file in files:\n",
    "                path = os.path.join(root_[len(templates_path) + 1:], file)\n",
    "                if not in_gitignore(path):\n",
    "                    src_path = os.path.abspath(os.path.join(templates_path, path))\n",
    "                    dst_path = os.path.abspath(os.path.join(root, path))\n",
    "                    \n",
    "                    # Create the `dst_path` directory if it doesn't exist\n",
    "                    os.makedirs(os.path.split(dst_path)[0], exist_ok=True)\n",
    "\n",
    "                    if os.path.exists(dst_path):\n",
    "                        if v:\n",
    "                            print(f\"{ path } already exists\")\n",
    "                        if not overwrite:\n",
    "                            continue\n",
    "    \n",
    "                    with open(src_path) as f:\n",
    "                        template = jinja2.Template(f.read())\n",
    "\n",
    "                    with open(dst_path, \"w\") as f:\n",
    "                        if v:\n",
    "                            print(f\"Rendering { path } template.\")\n",
    "                        f.write(template.render(**metadata))"
   ]
  },
  {
   "cell_type": "code",
   "execution_count": 43,
   "id": "9748742e-ef1f-41af-a1ac-761453932637",
   "metadata": {},
   "outputs": [],
   "source": [
    "#hide\n",
    "from kicad_helpers import setup_test_repo\n",
    "\n",
    "root = os.path.join(get_git_root(\".\"), \"_temp\")\n",
    "setup_test_repo(root)"
   ]
  },
  {
   "cell_type": "markdown",
   "id": "65bb2529-1f08-4c2f-bb61-94f9f6d35ac1",
   "metadata": {},
   "source": [
    "```sh\n",
    "kh_update --help\n",
    "```"
   ]
  },
  {
   "cell_type": "code",
   "execution_count": 44,
   "id": "c6467f6e-8224-4342-b661-b40896023453",
   "metadata": {},
   "outputs": [
    {
     "name": "stdout",
     "output_type": "stream",
     "text": [
      "usage: kh_update [-h] [--v] [--overwrite] [--root ROOT]\n",
      "\n",
      "Update project templates from the `kicad_helpers/templates` directory (ignoring anything in the project's `.gitignore`\n",
      "list).\n",
      "\n",
      "optional arguments:\n",
      "  -h, --help   show this help message and exit\n",
      "  --v          verbose (default: False)\n",
      "  --overwrite  overwrite existing templates (default: False)\n",
      "  --root ROOT  project root directory (default: .)\n",
      "\n"
     ]
    }
   ],
   "source": [
    "#hide_input\n",
    "print(subprocess.check_output(f\"kh_update --help\", shell=True).decode(\"utf-8\"))"
   ]
  },
  {
   "cell_type": "markdown",
   "id": "85479a6e-b0a9-471e-a3d2-304a05467bcd",
   "metadata": {},
   "source": [
    "```sh\n",
    "kh_update --v --overwrite\n",
    "```"
   ]
  },
  {
   "cell_type": "code",
   "execution_count": 45,
   "id": "deeea36f-ff52-4c1c-ac05-8d00a8222fcf",
   "metadata": {},
   "outputs": [
    {
     "name": "stdout",
     "output_type": "stream",
     "text": [
      "kitspace.yaml already exists\n",
      "Rendering kitspace.yaml template.\n",
      ".github/workflows/build.yml already exists\n",
      "Rendering .github/workflows/build.yml template.\n",
      ".kicad_helpers_config/config.kibot.yaml already exists\n",
      "Rendering .kicad_helpers_config/config.kibot.yaml template.\n",
      ".kicad_helpers_config/manufacturers/PCBWay.kibot.yaml already exists\n",
      "Rendering .kicad_helpers_config/manufacturers/PCBWay.kibot.yaml template.\n",
      "tests/Tests.ipynb already exists\n",
      "Rendering tests/Tests.ipynb template.\n",
      "\n"
     ]
    }
   ],
   "source": [
    "#hide_input\n",
    "print(subprocess.check_output(f\"kh_update --v --overwrite --root { root }\", shell=True).decode(\"utf-8\"))"
   ]
  },
  {
   "cell_type": "markdown",
   "id": "c83d4cce-e155-4c72-8f2a-0aae8e1aaadc",
   "metadata": {},
   "source": [
    "# Project structure\n",
    "\n",
    "Here's an example showing the recommended KiCad project structure."
   ]
  },
  {
   "cell_type": "code",
   "execution_count": 46,
   "id": "098a0499-4612-47e8-80f3-599669e07094",
   "metadata": {},
   "outputs": [
    {
     "name": "stdout",
     "output_type": "stream",
     "text": [
      ".\n",
      "├── docs\n",
      "│   ├── png\n",
      "│   ├── src\n",
      "│   └── svg\n",
      "├── library\n",
      "├── manufacturing\n",
      "│   └── default\n",
      "│       ├── assembly_photos\n",
      "│       ├── gerbers\n",
      "│       └── position\n",
      "└── tests\n",
      "\n",
      "11 directories\n",
      "\n"
     ]
    }
   ],
   "source": [
    "#hide input\n",
    "print(subprocess.check_output(f\"cd { root } && tree --dirsfirst -d -I $(python -c \\\"from kicad_helpers import get_gitignore_list; print('kicad_helpers|' + get_gitignore_list())\\\") .\", shell=True).decode(\"utf-8\"))"
   ]
  }
 ],
 "metadata": {
  "kernelspec": {
   "display_name": "Python 3 (ipykernel)",
   "language": "python",
   "name": "python3"
  },
  "language_info": {
   "codemirror_mode": {
    "name": "ipython",
    "version": 3
   },
   "file_extension": ".py",
   "mimetype": "text/x-python",
   "name": "python",
   "nbconvert_exporter": "python",
   "pygments_lexer": "ipython3",
   "version": "3.9.7"
  }
 },
 "nbformat": 4,
 "nbformat_minor": 5
}
