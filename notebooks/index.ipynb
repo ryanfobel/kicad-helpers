{
 "cells": [
  {
   "cell_type": "code",
   "execution_count": null,
   "metadata": {},
   "outputs": [],
   "source": [
    "#hide\n",
    "from kicad_helpers.core import *"
   ]
  },
  {
   "cell_type": "markdown",
   "metadata": {},
   "source": [
    "[![Build, Test, Package](https://github.com/ryanfobel/kicad-helpers/actions/workflows/python-package.yml/badge.svg)](https://github.com/ryanfobel/kicad-helpers/actions/workflows/python-package.yml)\n",
    "[![PyPI version shields.io](https://img.shields.io/pypi/v/kicad-helpers.svg)](https://pypi.python.org/pypi/kicad-helpers/)\n",
    "\n",
    "# kicad-helpers\n",
    "\n",
    "> Scripts, templates, and examples for managing KiCad projects."
   ]
  },
  {
   "cell_type": "markdown",
   "metadata": {},
   "source": [
    "## Project goals:\n",
    "\n",
    "* provide a sensible default project structure/actions for KiCad projects managed with git\n",
    "* automate anything that can be automated (update BOMs, produce manufacturing files, run tests, generate documentation, etc.)\n",
    "* configure git and KiCad to play nicely together\n",
    "* support customization via command line arguments, environment variables, etc.\n",
    "* make everything easy to install/setup/use\n",
    "* make [awesome documentation](https://ryanfobel.github.io/kicad-helpers/)"
   ]
  },
  {
   "cell_type": "markdown",
   "metadata": {},
   "source": [
    "## Install"
   ]
  },
  {
   "cell_type": "markdown",
   "metadata": {},
   "source": [
    "`pip install kicad_helpers`"
   ]
  },
  {
   "cell_type": "markdown",
   "metadata": {},
   "source": [
    "## How to use"
   ]
  },
  {
   "cell_type": "markdown",
   "metadata": {},
   "source": [
    "Navigate to the directory containing your KiCad project.\n",
    "\n",
    "```sh\n",
    "cd KICAD/PROJECT/PATH\n",
    "```"
   ]
  },
  {
   "cell_type": "code",
   "execution_count": null,
   "metadata": {},
   "outputs": [
    {
     "name": "stderr",
     "output_type": "stream",
     "text": [
      "Cloning into '/tmp/tmpywewe2q8'...\n",
      "Updating files: 100% (57/57), done.\n"
     ]
    }
   ],
   "source": [
    "#hide\n",
    "import tempfile\n",
    "import os\n",
    "\n",
    "from kicad_helpers import setup_test_repo\n",
    "from kicad_helpers.update_project import update_templates\n",
    "\n",
    "temp_dir = tempfile.mkdtemp()\n",
    "setup_test_repo(temp_dir)\n",
    "os.chdir(temp_dir)"
   ]
  },
  {
   "cell_type": "code",
   "execution_count": null,
   "metadata": {},
   "outputs": [
    {
     "name": "stdout",
     "output_type": "stream",
     "text": [
      "usage: kh_update [-h] [--v] [--overwrite] [--root ROOT]\n",
      "\n",
      "Update project templates from the `kicad_helpers/templates` directory (ignoring anything in the project's `.gitignore`\n",
      "list).\n",
      "\n",
      "optional arguments:\n",
      "  -h, --help   show this help message and exit\n",
      "  --v          verbose (default: False)\n",
      "  --overwrite  overwrite existing templates (default: False)\n",
      "  --root ROOT  project root directory (default: .)\n"
     ]
    }
   ],
   "source": [
    "%%sh\n",
    "kh_update --help"
   ]
  }
 ],
 "metadata": {
  "kernelspec": {
   "display_name": "Python 3 (ipykernel)",
   "language": "python",
   "name": "python3"
  }
 },
 "nbformat": 4,
 "nbformat_minor": 4
}
