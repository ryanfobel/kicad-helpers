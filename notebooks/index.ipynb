{
 "cells": [
  {
   "cell_type": "code",
   "execution_count": 1,
   "metadata": {},
   "outputs": [],
   "source": [
    "#hide\n",
    "from nbdev.showdoc import show_doc\n",
    "from kicad_helpers import *\n",
    "from kicad_helpers.utilities import _set_root"
   ]
  },
  {
   "cell_type": "markdown",
   "metadata": {},
   "source": [
    "# kicad-helpers\n",
    "\n",
    "> Scripts, templates, and examples for managing KiCad projects."
   ]
  },
  {
   "cell_type": "markdown",
   "metadata": {},
   "source": [
    "[![Build, Test, Package](https://github.com/ryanfobel/kicad-helpers/actions/workflows/python-package.yml/badge.svg)](https://github.com/ryanfobel/kicad-helpers/actions/workflows/python-package.yml)\n",
    "[![PyPI version shields.io](https://img.shields.io/pypi/v/kicad-helpers.svg)](https://pypi.python.org/pypi/kicad-helpers/)"
   ]
  },
  {
   "cell_type": "markdown",
   "metadata": {},
   "source": [
    "## Project goals:\n",
    "\n",
    "* provide a sensible default structure and scripts for managing KiCad projects\n",
    "* automate everything that can be automated (update BOMs, produce manufacturing files, run tests, generate documentation, etc.)\n",
    "* configure git and KiCad to play nicely together\n",
    "* support customization via command line arguments, environment variables, etc.\n",
    "* make everything easy to install/setup/use\n",
    "* make [awesome documentation](https://ryanfobel.github.io/kicad-helpers/)"
   ]
  },
  {
   "cell_type": "markdown",
   "metadata": {},
   "source": [
    "## Install"
   ]
  },
  {
   "cell_type": "markdown",
   "metadata": {},
   "source": [
    "`pip install kicad_helpers`"
   ]
  },
  {
   "cell_type": "code",
   "execution_count": 2,
   "metadata": {},
   "outputs": [],
   "source": [
    "#hide\n",
    "import os\n",
    "import subprocess\n",
    "\n",
    "root = os.path.join(get_git_root(\".\"), \"_temp\")\n",
    "setup_test_repo(root)"
   ]
  },
  {
   "cell_type": "markdown",
   "metadata": {},
   "source": [
    "## Setup a new project\n",
    "\n",
    "Open a command line shell and navigate to the directory containing your KiCad project. Then run `kh_update` to apply various project templates to the project directory:\n",
    "\n",
    "```sh\n",
    "cd kicad/project/path\n",
    "kh_update\n",
    "```"
   ]
  },
  {
   "cell_type": "markdown",
   "metadata": {},
   "source": [
    "By default, this will install the following templates:\n",
    "* [.github/workflows/build.yml](https://github.com/ryanfobel/kicad-helpers/blob/main/kicad_helpers/templates/.github/workflows/build.yml): a github workflow for updating the BOM, producing manufacturing files, running tests, generating documentation, etc.\n",
    "* [kitspace.yaml](https://github.com/ryanfobel/kicad-helpers/blob/main/kicad_helpers/templates/kitspace.yaml): metadata file for the [kitspace](https://kitspace.org/) service\n",
    "* [.kicad_helpers_config/config.kibot.yaml](https://github.com/ryanfobel/kicad-helpers/blob/main/kicad_helpers/templates/.kicad_helpers_config/config.kibot.yaml): configuration file for [KiBot](https://github.com/INTI-CMNB/KiBot) which allow automation of various KiCad actions\n",
    "* [.kicad_helpers_config/manufacturers/PCBWay.kibot.yaml](https://github.com/ryanfobel/kicad-helpers/blob/main/kicad_helpers/templates/.kicad_helpers_config/manufacturers/PCBWay.kibot.yaml): [KiBot](https://github.com/INTI-CMNB/KiBot) configuration to generate manufacturing files for [PCBWay](https://www.pcbway.com/)\n"
   ]
  },
  {
   "cell_type": "markdown",
   "metadata": {},
   "source": [
    "To overwrite existing templates, run `kh_update` with the `--overwrite` flag:\n",
    "\n",
    "```sh\n",
    "kh_update --v --overwrite\n",
    "```"
   ]
  },
  {
   "cell_type": "code",
   "execution_count": 3,
   "metadata": {},
   "outputs": [
    {
     "name": "stdout",
     "output_type": "stream",
     "text": [
      "kitspace.yaml already exists\n",
      "Rendering kitspace.yaml template.\n",
      "settings.ini already exists\n",
      "Rendering settings.ini template.\n",
      ".github/workflows/build.yml already exists\n",
      "Rendering .github/workflows/build.yml template.\n",
      ".kicad_helpers_config/config.kibot.yaml already exists\n",
      "Rendering .kicad_helpers_config/config.kibot.yaml template.\n",
      ".kicad_helpers_config/manufacturers/PCBWay.kibot.yaml already exists\n",
      "Rendering .kicad_helpers_config/manufacturers/PCBWay.kibot.yaml template.\n",
      "tests/tests.ipynb already exists\n",
      "Rendering tests/tests.ipynb template.\n",
      "\n"
     ]
    }
   ],
   "source": [
    "#hide_input\n",
    "print(subprocess.check_output(f\"kh_update --v --overwrite --root { root }\", shell=True).decode(\"utf-8\"))"
   ]
  },
  {
   "cell_type": "markdown",
   "metadata": {},
   "source": [
    "To see the options that are available, run the command:\n",
    "\n",
    "```sh\n",
    "kh_update --help\n",
    "```"
   ]
  },
  {
   "cell_type": "code",
   "execution_count": 4,
   "metadata": {},
   "outputs": [
    {
     "name": "stdout",
     "output_type": "stream",
     "text": [
      "usage: kh_update [-h] [--v] [--overwrite] [--root ROOT]\n",
      "\n",
      "Update project templates from the `kicad_helpers/templates` directory (ignoring anything in the project's `.gitignore`\n",
      "list).\n",
      "\n",
      "optional arguments:\n",
      "  -h, --help   show this help message and exit\n",
      "  --v          verbose (default: False)\n",
      "  --overwrite  overwrite existing templates (default: False)\n",
      "  --root ROOT  project root directory (default: .)\n",
      "\n"
     ]
    }
   ],
   "source": [
    "#hide_input\n",
    "print(subprocess.check_output(\"kh_update --help\", shell=True).decode(\"utf-8\"))"
   ]
  },
  {
   "cell_type": "markdown",
   "metadata": {},
   "source": [
    "## Export a BOM from the KiCad schematic\n",
    "\n",
    "```sh\n",
    "kh_sch_to_bom --v\n",
    "```"
   ]
  },
  {
   "cell_type": "code",
   "execution_count": 5,
   "metadata": {},
   "outputs": [
    {
     "name": "stdout",
     "output_type": "stream",
     "text": [
      "/home/ryan/miniconda3/envs/kh/bin/python3.9 -m kifield --nobackup --overwrite --group -aq -x /mnt/c/Users/ryan/OneDrive/dev/python/kicad-helpers/_temp/40-channel-hv-switching-board.sch -i /mnt/c/Users/ryan/OneDrive/dev/python/kicad-helpers/_temp/manufacturing/default/40-channel-hv-switching-board-BOM.csv\n",
      "\n"
     ]
    }
   ],
   "source": [
    "#hide_input\n",
    "print(subprocess.check_output(f\"kh_sch_to_bom --v --root { root }\", shell=True).decode(\"utf-8\"))"
   ]
  },
  {
   "cell_type": "markdown",
   "metadata": {},
   "source": [
    "## Import data from the BOM into the KiCad schematic\n",
    "\n",
    "```sh\n",
    "kh_sch_to_bom\n",
    "```"
   ]
  },
  {
   "cell_type": "code",
   "execution_count": 6,
   "metadata": {},
   "outputs": [
    {
     "name": "stdout",
     "output_type": "stream",
     "text": [
      "/home/ryan/miniconda3/envs/kh/bin/python3.9 -m kifield --nobackup --overwrite --fields ~quantity -x /mnt/c/Users/ryan/OneDrive/dev/python/kicad-helpers/_temp/manufacturing/default/40-channel-hv-switching-board-BOM.csv -i /mnt/c/Users/ryan/OneDrive/dev/python/kicad-helpers/_temp/40-channel-hv-switching-board.sch\n",
      "\n"
     ]
    }
   ],
   "source": [
    "#hide_input\n",
    "print(subprocess.check_output(f\"kh_bom_to_sch --v --root { root }\", shell=True).decode(\"utf-8\"))"
   ]
  },
  {
   "cell_type": "markdown",
   "metadata": {},
   "source": [
    "## Run all tests in the `tests` directory\n",
    "\n",
    "```sh\n",
    "kh_test\n",
    "```"
   ]
  },
  {
   "cell_type": "code",
   "execution_count": 8,
   "metadata": {},
   "outputs": [
    {
     "name": "stdout",
     "output_type": "stream",
     "text": [
      "testing /mnt/c/Users/ryan/OneDrive/dev/python/kicad-helpers/_temp/tests/Tests.ipynb\n",
      "All tests are passing!\n",
      "\n"
     ]
    }
   ],
   "source": [
    "#hide_input\n",
    "print(subprocess.check_output(f\"kh_test --root { root }\", shell=True).decode(\"utf-8\"))"
   ]
  },
  {
   "cell_type": "markdown",
   "metadata": {},
   "source": [
    "## Contributors\n",
    "\n",
    "* Ryan Fobel ([@ryanfobel](https://github.com/ryanfobel))"
   ]
  }
 ],
 "metadata": {
  "kernelspec": {
   "display_name": "Python 3 (ipykernel)",
   "language": "python",
   "name": "python3"
  },
  "language_info": {
   "codemirror_mode": {
    "name": "ipython",
    "version": 3
   },
   "file_extension": ".py",
   "mimetype": "text/x-python",
   "name": "python",
   "nbconvert_exporter": "python",
   "pygments_lexer": "ipython3",
   "version": "3.9.7"
  }
 },
 "nbformat": 4,
 "nbformat_minor": 4
}
