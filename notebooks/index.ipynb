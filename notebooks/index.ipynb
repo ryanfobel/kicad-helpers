{
 "cells": [
  {
   "cell_type": "code",
   "execution_count": null,
   "metadata": {},
   "outputs": [],
   "source": [
    "#hide\n",
    "from kicad_helpers.core import *"
   ]
  },
  {
   "cell_type": "markdown",
   "metadata": {},
   "source": [
    "# kicad-helpers\n",
    "\n",
    "> Scripts, templates, and examples for managing KiCad projects."
   ]
  },
  {
   "cell_type": "markdown",
   "metadata": {},
   "source": [
    "[![Build, Test, Package](https://github.com/ryanfobel/kicad-helpers/actions/workflows/python-package.yml/badge.svg)](https://github.com/ryanfobel/kicad-helpers/actions/workflows/python-package.yml)\n",
    "[![PyPI version shields.io](https://img.shields.io/pypi/v/kicad-helpers.svg)](https://pypi.python.org/pypi/kicad-helpers/)"
   ]
  },
  {
   "cell_type": "markdown",
   "metadata": {},
   "source": [
    "## Project goals:\n",
    "\n",
    "* provide a sensible default project structure and scripts for managing KiCad projects with git\n",
    "* automate anything that can be automated (update BOMs, produce manufacturing files, run tests, generate documentation, etc.)\n",
    "* configure git and KiCad to play nicely together\n",
    "* support customization via command line arguments, environment variables, etc.\n",
    "* make everything easy to install/setup/use\n",
    "* make [awesome documentation](https://ryanfobel.github.io/kicad-helpers/)"
   ]
  },
  {
   "cell_type": "markdown",
   "metadata": {},
   "source": [
    "## Install"
   ]
  },
  {
   "cell_type": "markdown",
   "metadata": {},
   "source": [
    "`pip install kicad_helpers`"
   ]
  },
  {
   "cell_type": "markdown",
   "metadata": {},
   "source": [
    "## How to use"
   ]
  },
  {
   "cell_type": "markdown",
   "metadata": {},
   "source": [
    "Navigate to the directory containing your KiCad project:\n",
    "\n",
    "```sh\n",
    "cd kicad/project/path\n",
    "```"
   ]
  },
  {
   "cell_type": "code",
   "execution_count": null,
   "metadata": {},
   "outputs": [
    {
     "name": "stderr",
     "output_type": "stream",
     "text": [
      "Cloning into '/tmp/tmpyv_wzivh'...\n"
     ]
    }
   ],
   "source": [
    "#hide\n",
    "import tempfile\n",
    "import os\n",
    "\n",
    "from kicad_helpers import setup_test_repo\n",
    "from kicad_helpers.update_project import update_templates\n",
    "\n",
    "temp_dir = tempfile.mkdtemp()\n",
    "setup_test_repo(temp_dir)\n",
    "os.chdir(temp_dir)"
   ]
  },
  {
   "cell_type": "markdown",
   "metadata": {},
   "source": [
    "Run the `kh_update` script to update all project templates:\n",
    "\n",
    "```sh\n",
    "kh_update --help\n",
    "```"
   ]
  },
  {
   "cell_type": "code",
   "execution_count": null,
   "metadata": {},
   "outputs": [
    {
     "name": "stdout",
     "output_type": "stream",
     "text": [
      "usage: kh_update [-h] [--v] [--overwrite] [--root ROOT]\n",
      "\n",
      "Update project templates from the `kicad_helpers/templates` directory (ignoring anything in the project's `.gitignore`\n",
      "list).\n",
      "\n",
      "optional arguments:\n",
      "  -h, --help   show this help message and exit\n",
      "  --v          verbose (default: False)\n",
      "  --overwrite  overwrite existing templates (default: False)\n",
      "  --root ROOT  project root directory (default: .)\n"
     ]
    }
   ],
   "source": [
    "%%sh\n",
    "#hide_input\n",
    "kh_update --help"
   ]
  },
  {
   "cell_type": "markdown",
   "metadata": {},
   "source": [
    "The following templates are installed by default:\n",
    "* [.github/workflows/build.yml](https://github.com/ryanfobel/kicad-helpers/blob/main/kicad_helpers/templates/.github/workflows/build.yml): a github workflow for updating the BOM, producing manufacturing files, running tests, generating documentation, etc.\n",
    "* [kitspace.yaml](https://github.com/ryanfobel/kicad-helpers/blob/main/kicad_helpers/templates/kitspace.yaml): metadata file for the [kitspace](https://kitspace.org/) service\n",
    "* [.kicad_helpers_config/config.kibot.yaml](https://github.com/ryanfobel/kicad-helpers/blob/main/kicad_helpers/templates/.kicad_helpers_config/config.kibot.yaml): configuration file for [KiBot](https://github.com/INTI-CMNB/KiBot) which allow automation of various KiCad actions\n",
    "* [.kicad_helpers_config/manufacturers/PCBWay.kibot.yaml](https://github.com/ryanfobel/kicad-helpers/blob/main/kicad_helpers/templates/.kicad_helpers_config/manufacturers/PCBWay.kibot.yaml): [KiBot](https://github.com/INTI-CMNB/KiBot) configuration to generate manufacturing files for [PCBWay](https://www.pcbway.com/)"
   ]
  },
  {
   "cell_type": "markdown",
   "metadata": {},
   "source": [
    "To overwrite existing templates, run `kh_update` with the `--overwrite` flag:\n",
    "\n",
    "```sh\n",
    "kh_update --v --overwrite\n",
    "```"
   ]
  },
  {
   "cell_type": "code",
   "execution_count": null,
   "metadata": {},
   "outputs": [
    {
     "name": "stdout",
     "output_type": "stream",
     "text": [
      "kitspace.yaml already exists\n",
      "Rendering kitspace.yaml template.\n",
      ".github/workflows/build.yml already exists\n",
      "Rendering .github/workflows/build.yml template.\n",
      ".kicad_helpers_config/config.kibot.yaml already exists\n",
      "Rendering .kicad_helpers_config/config.kibot.yaml template.\n",
      ".kicad_helpers_config/manufacturers/PCBWay.kibot.yaml already exists\n",
      "Rendering .kicad_helpers_config/manufacturers/PCBWay.kibot.yaml template.\n"
     ]
    }
   ],
   "source": [
    "%%sh\n",
    "#hide_input\n",
    "kh_update --v --overwrite"
   ]
  }
 ],
 "metadata": {
  "kernelspec": {
   "display_name": "Python 3 (ipykernel)",
   "language": "python",
   "name": "python3"
  }
 },
 "nbformat": 4,
 "nbformat_minor": 4
}
