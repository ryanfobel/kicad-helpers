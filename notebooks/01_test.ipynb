{
 "cells": [
  {
   "cell_type": "code",
   "execution_count": 1,
   "id": "a83fc968-6c3c-4567-847d-74cae2794346",
   "metadata": {},
   "outputs": [],
   "source": [
    "#hide\n",
    "#default_exp test\n",
    "from nbdev.showdoc import *\n",
    "from nbdev.export import notebook2script"
   ]
  },
  {
   "cell_type": "markdown",
   "id": "6c737b05-fa2e-4431-b917-2a35dfb8955b",
   "metadata": {},
   "source": [
    "# Tests\n",
    "\n",
    "> Functions and scripts for performing automated testing on a KiCad project\n",
    "\n",
    "* toc: true"
   ]
  },
  {
   "cell_type": "code",
   "execution_count": 2,
   "id": "b4e0ed22-74f4-4a63-b204-6482090b6db0",
   "metadata": {},
   "outputs": [],
   "source": [
    "#export\n",
    "import os\n",
    "import subprocess\n",
    "\n",
    "from fastcore.script import *\n",
    "from nbdev.test import *\n",
    "from nbdev.test import nbglob, num_cpus, parallel, _test_one, Path\n",
    "from kicad_helpers import *\n",
    "from kicad_helpers.utilities import _set_root"
   ]
  },
  {
   "cell_type": "code",
   "execution_count": 3,
   "id": "d128078c-71dc-4b5d-a4f1-bbd1cb21f153",
   "metadata": {},
   "outputs": [
    {
     "name": "stdout",
     "output_type": "stream",
     "text": [
      "\n"
     ]
    }
   ],
   "source": [
    "#hide\n",
    "root = os.path.join(get_git_root(\".\"), \"_temp\")\n",
    "setup_test_repo(root)\n",
    "print(subprocess.check_output(f\"kh_update --overwrite --root { root }\", shell=True).decode(\"utf-8\"))"
   ]
  },
  {
   "cell_type": "code",
   "execution_count": 4,
   "id": "5cca3277-6df4-4bef-a47d-b5bd1d64980e",
   "metadata": {},
   "outputs": [],
   "source": [
    "#export\n",
    "@call_parse\n",
    "def test_notebooks(fname:Param(\"A notebook name or glob to convert\", str)=None,\n",
    "                   flags:Param(\"Space separated list of flags\", str)=None,\n",
    "                   n_workers:Param(\"Number of workers to use\", int)=None,\n",
    "                   verbose:Param(\"Print errors along the way\", bool_arg)=True,\n",
    "                   timing:Param(\"Timing each notebook to see the ones are slow\", bool)=False,\n",
    "                   pause:Param(\"Pause time (in secs) between notebooks to avoid race conditions\", float)=0.5,\n",
    "                   root:Param(\"project root directory\", str)=\".\"):\n",
    "    \"Test in parallel the notebooks matching `fname`, passing along `flags`\"\n",
    "    root = _set_root(root)\n",
    "    if flags is not None: flags = flags.split(' ')\n",
    "    if fname is None:\n",
    "        fname = os.path.join(root, \"tests\", \"*.ipynb\")\n",
    "    files = nbglob(fname, recursive=False)\n",
    "    files = [Path(f).absolute() for f in sorted(files)]\n",
    "    assert len(files) > 0, \"No files to test found.\"\n",
    "    if n_workers is None: n_workers = 0 if len(files)==1 else min(num_cpus(), 8)\n",
    "    # make sure we are inside the tests folder\n",
    "    os.chdir(os.path.join(root, \"tests\"))\n",
    "    results = parallel(_test_one, files, flags=flags, verbose=verbose, n_workers=n_workers, pause=pause)\n",
    "    passed,times = [r[0] for r in results],[r[1] for r in results]\n",
    "    if all(passed): print(\"All tests are passing!\")\n",
    "    else:\n",
    "        msg = \"The following notebooks failed:\\n\"\n",
    "        raise Exception(msg + '\\n'.join([f.name for p,f in zip(passed,files) if not p]))\n",
    "    if timing:\n",
    "        for i,t in sorted(enumerate(times), key=lambda o:o[1], reverse=True):\n",
    "            print(f\"Notebook {files[i].name} took {int(t)} seconds\")"
   ]
  },
  {
   "cell_type": "markdown",
   "id": "d7189b81-06f5-4476-82f0-d4c07c2f466a",
   "metadata": {},
   "source": [
    "Run all tests in the `tests` directory.\n",
    "\n",
    "```sh\n",
    "> kh_test\n",
    "```"
   ]
  },
  {
   "cell_type": "code",
   "execution_count": 5,
   "id": "fa33a6e8-80c6-4840-8dff-75a9a738c62f",
   "metadata": {},
   "outputs": [
    {
     "name": "stdout",
     "output_type": "stream",
     "text": [
      "testing /mnt/c/Users/ryan/OneDrive/dev/python/kicad-helpers/_temp/tests/Tests.ipynb\n",
      "All tests are passing!\n",
      "\n"
     ]
    }
   ],
   "source": [
    "#hide_input\n",
    "print(subprocess.check_output(f\"kh_test --root { root }\", shell=True).decode(\"utf-8\"))"
   ]
  },
  {
   "cell_type": "code",
   "execution_count": 6,
   "id": "0be1f776-1982-4f17-b5c8-6bc2a74e24a6",
   "metadata": {},
   "outputs": [
    {
     "name": "stdout",
     "output_type": "stream",
     "text": [
      "Converted 00_actions.ipynb.\n",
      "Converted 01_test.ipynb.\n",
      "Converted 02_utilities.ipynb.\n",
      "Converted index.ipynb.\n"
     ]
    }
   ],
   "source": [
    "#hide\n",
    "notebook2script()"
   ]
  }
 ],
 "metadata": {
  "kernelspec": {
   "display_name": "Python 3 (ipykernel)",
   "language": "python",
   "name": "python3"
  },
  "language_info": {
   "codemirror_mode": {
    "name": "ipython",
    "version": 3
   },
   "file_extension": ".py",
   "mimetype": "text/x-python",
   "name": "python",
   "nbconvert_exporter": "python",
   "pygments_lexer": "ipython3",
   "version": "3.9.7"
  }
 },
 "nbformat": 4,
 "nbformat_minor": 5
}
