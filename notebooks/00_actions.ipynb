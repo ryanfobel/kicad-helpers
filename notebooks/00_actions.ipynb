{
 "cells": [
  {
   "cell_type": "code",
   "execution_count": 1,
   "id": "63c3d1ea-5269-4e4e-bc12-a27f7392a9a8",
   "metadata": {},
   "outputs": [],
   "source": [
    "#hide\n",
    "#default_exp actions\n",
    "from nbdev.showdoc import show_doc"
   ]
  },
  {
   "cell_type": "markdown",
   "id": "32f4c677-eaec-4b28-92e3-3aa428b618a1",
   "metadata": {},
   "source": [
    "# Actions\n",
    "\n",
    "> Functions and scripts that act on a KiCad project.\n",
    "\n",
    "* toc: true"
   ]
  },
  {
   "cell_type": "code",
   "execution_count": 15,
   "id": "544c65a0-96d9-4890-8901-aaeddbca732d",
   "metadata": {},
   "outputs": [],
   "source": [
    "#export\n",
    "import os\n",
    "import sys\n",
    "import pkg_resources\n",
    "import subprocess\n",
    "\n",
    "import jinja2\n",
    "from fastcore.script import *\n",
    "import pandas as pd\n",
    "\n",
    "from kicad_helpers import *\n",
    "from kicad_helpers.utilities import _set_root"
   ]
  },
  {
   "cell_type": "markdown",
   "id": "7bd01e13-2d9f-4a21-89bb-3b382e32016c",
   "metadata": {},
   "source": [
    "## update_templates\n",
    "\n",
    "Installs various templates from the `kicad_helpers/templates` directory (ignoring anything in the project's\n",
    "`.gitignore` list). Similar to `nbdev`: [nbdev_new](https://nbdev.fast.ai/tutorial.html#Set-up-Repo). Templates\n",
    "are stored in the [kicad_helpers/templates](https://github.com/ryanfobel/kicad-helpers/tree/main/kicad_helpers/templates)\n",
    "folder, and are included with the python package by adding the followingline to the `MANIFEST.in` file:\n",
    "\n",
    "```\n",
    "graft kicad_helpers/templates\n",
    "```"
   ]
  },
  {
   "cell_type": "code",
   "execution_count": 3,
   "id": "16ae823c-b16e-4c65-9d29-a80316e12bb2",
   "metadata": {},
   "outputs": [],
   "source": [
    "#export\n",
    "@call_parse\n",
    "def update_templates(v:Param(\"verbose\", bool),\n",
    "                     overwrite:Param(\"overwrite existing templates\", bool),\n",
    "                     root:Param(\"project root directory\", str)=\".\"):\n",
    "    \"\"\"\n",
    "    Update project templates from the `kicad_helpers/templates` directory\n",
    "    (ignoring anything in the project's `.gitignore` list).\n",
    "    \"\"\"\n",
    "    templates_path = os.path.abspath(pkg_resources.resource_filename('kicad_helpers', 'templates'))\n",
    "    root = _set_root(root)\n",
    "    metadata = get_project_metadata(root)\n",
    "    \n",
    "    file_list = []\n",
    "    for root_, dirs, files in os.walk(templates_path):\n",
    "        if len(files):\n",
    "            for file in files:\n",
    "                path = os.path.join(root_[len(templates_path) + 1:], file)\n",
    "                if not in_gitignore(path):\n",
    "                    src_path = os.path.abspath(os.path.join(templates_path, path))\n",
    "                    dst_path = os.path.abspath(os.path.join(root, path))\n",
    "                    \n",
    "                    # Create the `dst_path` directory if it doesn't exist\n",
    "                    os.makedirs(os.path.split(dst_path)[0], exist_ok=True)\n",
    "\n",
    "                    if os.path.exists(dst_path):\n",
    "                        if v:\n",
    "                            print(f\"{ path } already exists\")\n",
    "                        if not overwrite:\n",
    "                            continue\n",
    "    \n",
    "                    with open(src_path) as f:\n",
    "                        template = jinja2.Template(f.read())\n",
    "\n",
    "                    with open(dst_path, \"w\") as f:\n",
    "                        if v:\n",
    "                            print(f\"Rendering { path } template.\")\n",
    "                        f.write(template.render(**metadata))"
   ]
  },
  {
   "cell_type": "code",
   "execution_count": 4,
   "id": "9748742e-ef1f-41af-a1ac-761453932637",
   "metadata": {},
   "outputs": [],
   "source": [
    "# Install the patched version of kifield if it isn't already installed\n",
    "# See: https://github.com/devbisme/KiField/issues/59#issuecomment-952298997\n",
    "if subprocess.check_output([sys.executable, \"-m\", \"kifield\", \"--help\"]).decode(\"utf-8\").find('addquantidty') > 0:\n",
    "    install_python_package(\"git+https://github.com/ryanfobel/KiField.git@add-quantity\")\n",
    "root = os.path.join(get_git_root(\".\"), \"_temp\")\n",
    "setup_test_repo(root)"
   ]
  },
  {
   "cell_type": "markdown",
   "id": "65bb2529-1f08-4c2f-bb61-94f9f6d35ac1",
   "metadata": {},
   "source": [
    "```sh\n",
    "kh_update --help\n",
    "```"
   ]
  },
  {
   "cell_type": "code",
   "execution_count": 5,
   "id": "c6467f6e-8224-4342-b661-b40896023453",
   "metadata": {},
   "outputs": [
    {
     "name": "stdout",
     "output_type": "stream",
     "text": [
      "usage: kh_update [-h] [--v] [--overwrite] [--root ROOT]\n",
      "\n",
      "Update project templates from the `kicad_helpers/templates` directory (ignoring anything in the project's `.gitignore`\n",
      "list).\n",
      "\n",
      "optional arguments:\n",
      "  -h, --help   show this help message and exit\n",
      "  --v          verbose (default: False)\n",
      "  --overwrite  overwrite existing templates (default: False)\n",
      "  --root ROOT  project root directory (default: .)\n",
      "\n"
     ]
    }
   ],
   "source": [
    "#hide_input\n",
    "print(subprocess.check_output(f\"kh_update --help\", shell=True).decode(\"utf-8\"))"
   ]
  },
  {
   "cell_type": "markdown",
   "id": "85479a6e-b0a9-471e-a3d2-304a05467bcd",
   "metadata": {},
   "source": [
    "```sh\n",
    "kh_update --v --overwrite\n",
    "```"
   ]
  },
  {
   "cell_type": "code",
   "execution_count": 6,
   "id": "deeea36f-ff52-4c1c-ac05-8d00a8222fcf",
   "metadata": {},
   "outputs": [
    {
     "name": "stdout",
     "output_type": "stream",
     "text": [
      "kitspace.yaml already exists\n",
      "Rendering kitspace.yaml template.\n",
      "settings.ini already exists\n",
      "Rendering settings.ini template.\n",
      ".github/workflows/build.yml already exists\n",
      "Rendering .github/workflows/build.yml template.\n",
      ".kicad_helpers_config/config.kibot.yaml already exists\n",
      "Rendering .kicad_helpers_config/config.kibot.yaml template.\n",
      ".kicad_helpers_config/manufacturers/PCBWay.kibot.yaml already exists\n",
      "Rendering .kicad_helpers_config/manufacturers/PCBWay.kibot.yaml template.\n",
      "tests/tests.ipynb already exists\n",
      "Rendering tests/tests.ipynb template.\n",
      "\n"
     ]
    }
   ],
   "source": [
    "#hide_input\n",
    "print(subprocess.check_output(f\"kh_update --v --overwrite --root { root }\", shell=True).decode(\"utf-8\"))"
   ]
  },
  {
   "cell_type": "markdown",
   "id": "c83d4cce-e155-4c72-8f2a-0aae8e1aaadc",
   "metadata": {},
   "source": [
    "# Project structure\n",
    "\n",
    "Here's an example showing the recommended KiCad project structure."
   ]
  },
  {
   "cell_type": "code",
   "execution_count": 11,
   "id": "098a0499-4612-47e8-80f3-599669e07094",
   "metadata": {},
   "outputs": [
    {
     "name": "stdout",
     "output_type": "stream",
     "text": [
      ".\n",
      "├── docs\n",
      "│   ├── png\n",
      "│   ├── src\n",
      "│   └── svg\n",
      "├── library\n",
      "├── manufacturing\n",
      "│   └── default\n",
      "│       ├── assembly_photos\n",
      "│       ├── gerbers\n",
      "│       └── position\n",
      "└── tests\n",
      "\n",
      "11 directories\n",
      "\n"
     ]
    }
   ],
   "source": [
    "#hide input\n",
    "print(subprocess.check_output(f\"cd { root } && tree --dirsfirst -d -I $(python -c \\\"from kicad_helpers.utilities import get_gitignore_list; print('kicad_helpers|' + get_gitignore_list())\\\") .\", shell=True).decode(\"utf-8\"))"
   ]
  },
  {
   "cell_type": "code",
   "execution_count": 12,
   "id": "05765965-1fbb-4739-b7ec-5ecc0a3ba6b7",
   "metadata": {},
   "outputs": [],
   "source": [
    "#export\n",
    "@call_parse\n",
    "def sch_to_bom(root:Param(\"project root directory\", str)=\".\",\n",
    "               v:Param(\"verbose\", bool)=False,\n",
    "               overwrite:Param(\"update existing schematic\", bool)=False):\n",
    "    \"\"\"\n",
    "    Update/create BOM from KiCad schematic.\n",
    "    \"\"\"\n",
    "    root = _set_root(root)\n",
    "    cmd = f\"{ sys.executable } -m kifield --nobackup --overwrite --group -aq -x { get_schematic_path(root) } -i { get_bom_path(root) }\"\n",
    "    if v:\n",
    "        print(cmd)\n",
    "    subprocess.check_output(cmd, shell=True)\n",
    "    \n",
    "@call_parse\n",
    "def bom_to_sch(root:Param(\"project root directory\", str)=\".\",\n",
    "               v:Param(\"verbose\", bool)=False,\n",
    "               overwrite:Param(\"update existing schematic\", bool)=False):\n",
    "    \"\"\"\n",
    "    Update KiCad schematic from BOM file.\n",
    "    \"\"\"\n",
    "    root = _set_root(root)\n",
    "    cmd = f\"{ sys.executable } -m kifield --nobackup --overwrite --fields ~quantity -x { get_bom_path(root) } -i { get_schematic_path(root) }\"\n",
    "    if v:\n",
    "        print(cmd)\n",
    "    subprocess.check_output(cmd, shell=True)"
   ]
  },
  {
   "cell_type": "code",
   "execution_count": 13,
   "id": "f50c57d9-d659-4ef2-b610-2da53c7a4a7f",
   "metadata": {},
   "outputs": [
    {
     "ename": "NameError",
     "evalue": "name 'pd' is not defined",
     "output_type": "error",
     "traceback": [
      "\u001b[0;31m---------------------------------------------------------------------------\u001b[0m",
      "\u001b[0;31mNameError\u001b[0m                                 Traceback (most recent call last)",
      "\u001b[0;32m/tmp/ipykernel_9760/2017135390.py\u001b[0m in \u001b[0;36m<module>\u001b[0;34m\u001b[0m\n\u001b[1;32m      1\u001b[0m \u001b[0msch_to_bom\u001b[0m\u001b[0;34m(\u001b[0m\u001b[0mroot\u001b[0m\u001b[0;34m=\u001b[0m\u001b[0mroot\u001b[0m\u001b[0;34m)\u001b[0m\u001b[0;34m\u001b[0m\u001b[0;34m\u001b[0m\u001b[0m\n\u001b[0;32m----> 2\u001b[0;31m \u001b[0mdf\u001b[0m \u001b[0;34m=\u001b[0m \u001b[0mpd\u001b[0m\u001b[0;34m.\u001b[0m\u001b[0mread_csv\u001b[0m\u001b[0;34m(\u001b[0m\u001b[0mget_bom_path\u001b[0m\u001b[0;34m(\u001b[0m\u001b[0mroot\u001b[0m\u001b[0;34m)\u001b[0m\u001b[0;34m)\u001b[0m\u001b[0;34m\u001b[0m\u001b[0;34m\u001b[0m\u001b[0m\n\u001b[0m\u001b[1;32m      3\u001b[0m \u001b[0mdf\u001b[0m\u001b[0;34m\u001b[0m\u001b[0;34m\u001b[0m\u001b[0m\n",
      "\u001b[0;31mNameError\u001b[0m: name 'pd' is not defined"
     ]
    }
   ],
   "source": [
    "sch_to_bom(root=root)\n",
    "df = pd.read_csv(get_bom_path(root))\n",
    "df"
   ]
  },
  {
   "cell_type": "code",
   "execution_count": 14,
   "id": "bc6cd366-8deb-454d-bd9c-71555889c315",
   "metadata": {},
   "outputs": [],
   "source": [
    "bom_to_sch(root)"
   ]
  },
  {
   "cell_type": "code",
   "execution_count": null,
   "id": "cc8805e5-748d-49c7-b892-b85e04e128c1",
   "metadata": {},
   "outputs": [],
   "source": []
  }
 ],
 "metadata": {
  "kernelspec": {
   "display_name": "Python 3 (ipykernel)",
   "language": "python",
   "name": "python3"
  },
  "language_info": {
   "codemirror_mode": {
    "name": "ipython",
    "version": 3
   },
   "file_extension": ".py",
   "mimetype": "text/x-python",
   "name": "python",
   "nbconvert_exporter": "python",
   "pygments_lexer": "ipython3",
   "version": "3.9.7"
  }
 },
 "nbformat": 4,
 "nbformat_minor": 5
}
