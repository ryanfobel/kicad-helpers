{
 "cells": [
  {
   "cell_type": "code",
   "execution_count": 1,
   "id": "63c3d1ea-5269-4e4e-bc12-a27f7392a9a8",
   "metadata": {},
   "outputs": [],
   "source": [
    "#hide\n",
    "#default_exp actions\n",
    "%load_ext autoreload\n",
    "%autoreload 2\n",
    "from nbdev.showdoc import show_doc\n",
    "from nbdev.export import notebook2script\n",
    "import shutil"
   ]
  },
  {
   "cell_type": "markdown",
   "id": "32f4c677-eaec-4b28-92e3-3aa428b618a1",
   "metadata": {
    "tags": []
   },
   "source": [
    "# Actions\n",
    "\n",
    "> Functions and scripts that act on a KiCad project\n",
    "\n",
    "* toc: true"
   ]
  },
  {
   "cell_type": "code",
   "execution_count": 2,
   "id": "544c65a0-96d9-4890-8901-aaeddbca732d",
   "metadata": {},
   "outputs": [],
   "source": [
    "#export\n",
    "import os\n",
    "import sys\n",
    "import pkg_resources\n",
    "import subprocess\n",
    "from pprint import pprint\n",
    "import datetime as dt\n",
    "\n",
    "import jinja2\n",
    "from fastcore.script import *\n",
    "import pandas as pd\n",
    "\n",
    "from kicad_helpers import *\n",
    "from kicad_helpers.utilities import _set_root, _run_cmd, _print_cmd_output"
   ]
  },
  {
   "cell_type": "code",
   "execution_count": 3,
   "id": "b1c7eace-6a1f-4f19-890d-bbeed386848a",
   "metadata": {},
   "outputs": [],
   "source": [
    "#hide\n",
    "root = os.path.join(get_git_root(\".\"), \"_temp\")\n",
    "setup_test_repo(root)"
   ]
  },
  {
   "cell_type": "code",
   "execution_count": 4,
   "id": "16ae823c-b16e-4c65-9d29-a80316e12bb2",
   "metadata": {},
   "outputs": [],
   "source": [
    "#export\n",
    "def update_templates(v:Param(\"verbose\", bool),\n",
    "                     overwrite:Param(\"overwrite existing templates\", bool),\n",
    "                     root:Param(\"project root directory\", str)=\".\"):\n",
    "    \"\"\"Install templates from the `kicad_helpers/templates` directory (ignoring\n",
    "    anything in the project's `.gitignore` list).\n",
    "    \"\"\"\n",
    "    templates_path = os.path.abspath(pkg_resources.resource_filename('kicad_helpers', 'templates'))\n",
    "    root = _set_root(root)\n",
    "    metadata = get_project_metadata(root)\n",
    "    file_list = []\n",
    "    exists_flag = False\n",
    "    for root_, dirs, files in os.walk(templates_path):\n",
    "        if len(files):\n",
    "            for file in files:\n",
    "                path = os.path.join(root_[len(templates_path) + 1:], file)\n",
    "                if not in_gitignore(path, root):\n",
    "                    src_path = os.path.abspath(os.path.join(templates_path, path))\n",
    "                    dst_path = os.path.abspath(os.path.join(root, path))\n",
    "                    \n",
    "                    # Create the `dst_path` directory if it doesn't exist\n",
    "                    os.makedirs(os.path.split(dst_path)[0], exist_ok=True)\n",
    "\n",
    "                    if os.path.exists(dst_path):\n",
    "                        if not overwrite:\n",
    "                            print(f\"{ path } already exists\")\n",
    "                            exists_flag = True\n",
    "                            continue\n",
    "    \n",
    "                    with open(src_path) as f:\n",
    "                        template = jinja2.Template(f.read())\n",
    "\n",
    "                    with open(dst_path, \"w\") as f:\n",
    "                        if v:\n",
    "                            print(f\"Render { path } template.\")\n",
    "                        f.write(template.render(**metadata))\n",
    "                        \n",
    "    if not overwrite and exists_flag:\n",
    "        print(\"To overwrite existing files, use the --overwrite flag.\")"
   ]
  },
  {
   "cell_type": "markdown",
   "id": "1cda30f4-1966-4b9d-80a9-772b67a5bb65",
   "metadata": {},
   "source": [
    "The following templates are stored in the [kicad_helpers/templates](https://github.com/ryanfobel/kicad-helpers/tree/main/kicad_helpers/templates) folder and are included with the python package by adding `graft kicad_helpers/templates` to the [MANIFEST.in](https://github.com/ryanfobel/kicad-helpers/blob/main/MANIFEST.in) file:\n"
   ]
  },
  {
   "cell_type": "code",
   "execution_count": 5,
   "id": "f1257315-feea-4d39-ba2a-8600eb413189",
   "metadata": {},
   "outputs": [
    {
     "name": "stdout",
     "output_type": "stream",
     "text": [
      "├── .github\n",
      "│   └── workflows\n",
      "│       └── build.yml\n",
      "├── .kicad_helpers_config\n",
      "│   ├── drc.yaml\n",
      "│   ├── erc.yaml\n",
      "│   ├── manufacturers\n",
      "│   │   ├── PCBWay.yaml\n",
      "│   │   └── default.yaml\n",
      "│   ├── pcb_pdf.yaml\n",
      "│   ├── pcb_svg.yaml\n",
      "│   ├── sch_pdf.yaml\n",
      "│   └── sch_svg.yaml\n",
      "├── kitspace.yaml\n",
      "├── settings.ini\n",
      "└── tests\n",
      "    └── Tests.ipynb\n"
     ]
    }
   ],
   "source": [
    "#hide_input\n",
    "cmd = (f\"tree -a -I \\\"{ '|'.join(get_gitignore_list(root)) }\\\" \"\n",
    "    f\"{ os.path.join(get_git_root('.'), 'kicad_helpers', 'templates') }\"\n",
    ")\n",
    "output = _run_cmd(cmd)\n",
    "print('\\n'.join(output.splitlines()[1:-2]))"
   ]
  },
  {
   "cell_type": "code",
   "execution_count": 6,
   "id": "1714e9e4-51d6-472f-bee3-46df047311e6",
   "metadata": {},
   "outputs": [],
   "source": [
    "#export\n",
    "def _add_lines_to_file(root, file_name, lines, v=False, prepend=False):\n",
    "    file_path = os.path.join(root, file_name)\n",
    "    if os.path.exists(file_path):\n",
    "        with open(file_path, \"r\") as f:\n",
    "            file_lines = f.readlines()\n",
    "    else:\n",
    "        file_lines = []\n",
    "\n",
    "    for line in lines:\n",
    "        if line not in file_lines:\n",
    "            if v:\n",
    "                print(f\"Append \\\"{ line.strip() }\\\" to { file_path }\")\n",
    "            if prepend:\n",
    "                file_lines.insert(0, line)\n",
    "            else:\n",
    "                file_lines.append(line)\n",
    "        elif v:\n",
    "            print(f\"\\\"{ line.strip() }\\\" already exists in { file_path }\")\n",
    "    \n",
    "    with open(file_path, \"w\") as f:\n",
    "        f.writelines(file_lines)"
   ]
  },
  {
   "cell_type": "code",
   "execution_count": 7,
   "id": "6c499c3f-08f3-48a9-9ab6-0aa847708c17",
   "metadata": {},
   "outputs": [],
   "source": [
    "#export\n",
    "@call_parse\n",
    "def add_badges(root:Param(\"project root directory\", str)=\".\",\n",
    "               v:Param(\"verbose\", bool)=False,\n",
    "               github:Param(\"github\", bool)=False,\n",
    "               kitspace:Param(\"kitspace\", bool)=False):\n",
    "    \"\"\"Add badges to the README.md file.\"\"\"\n",
    "    root = _set_root(root)\n",
    "    badges = []\n",
    "    if kitspace:\n",
    "        badges.append(kitspace_badge(root))\n",
    "    if github:\n",
    "        badges.append(github_badge(root))\n",
    "    _add_lines_to_file(root,\n",
    "                       \"README.md\",\n",
    "                       [line + \"\\n\" for line in badges],\n",
    "                       v,\n",
    "                       prepend=True\n",
    "    )"
   ]
  },
  {
   "cell_type": "code",
   "execution_count": 8,
   "id": "cfc62a92-1ec4-4d28-b1fd-c65d08b3fe72",
   "metadata": {},
   "outputs": [
    {
     "name": "stdout",
     "output_type": "stream",
     "text": [
      "\n"
     ]
    }
   ],
   "source": [
    "#hide\n",
    "\n",
    "# Remove badges from the README\n",
    "readme_path = os.path.join(root, \"README.md\")\n",
    "with open(readme_path, \"r\") as f:\n",
    "    readme_lines = f.readlines()\n",
    "readme_lines.remove(github_badge(root) + \"\\n\")\n",
    "readme_lines.remove(kitspace_badge(root) + \"\\n\")\n",
    "with open(readme_path, \"w\") as f:\n",
    "    f.writelines(readme_lines)\n",
    "\n",
    "# Confirm that the badges were removed\n",
    "with open(readme_path, \"r\") as f:\n",
    "    readme_lines = f.readlines()\n",
    "assert github_badge(root) + \"\\n\" not in readme_lines\n",
    "assert kitspace_badge(root) + \"\\n\" not in readme_lines\n",
    "    \n",
    "# Add the badges back\n",
    "_print_cmd_output(f\"kh_add_badges --github --kitspace --root { root }\")\n",
    "\n",
    "# Confirm that the badges were added successfully\n",
    "with open(readme_path, \"r\") as f:\n",
    "    readme_lines = f.readlines()\n",
    "assert github_badge(root) + \"\\n\" in readme_lines\n",
    "assert kitspace_badge(root) + \"\\n\" in readme_lines"
   ]
  },
  {
   "cell_type": "markdown",
   "id": "6d397741-6821-4c3a-8287-8fe098152912",
   "metadata": {},
   "source": [
    "This function is available as a command line script:\n",
    "\n",
    "```sh\n",
    "> kh_add_badges --help\n",
    "```"
   ]
  },
  {
   "cell_type": "code",
   "execution_count": 9,
   "id": "2004b89c-48be-4a40-aef2-0c8460ba59dd",
   "metadata": {},
   "outputs": [
    {
     "name": "stdout",
     "output_type": "stream",
     "text": [
      "usage: kh_add_badges [-h] [--root ROOT] [--v] [--github] [--kitspace]\n",
      "\n",
      "Add badges to the README.md file.\n",
      "\n",
      "optional arguments:\n",
      "  -h, --help   show this help message and exit\n",
      "  --root ROOT  project root directory (default: .)\n",
      "  --v          verbose (default: False)\n",
      "  --github     github (default: False)\n",
      "  --kitspace   kitspace (default: False)\n",
      "\n"
     ]
    }
   ],
   "source": [
    "#hide_input\n",
    "_print_cmd_output(\"kh_add_badges --help\")"
   ]
  },
  {
   "cell_type": "code",
   "execution_count": 10,
   "id": "1881ffbf-3871-4214-b0c5-99d086ce1a44",
   "metadata": {},
   "outputs": [],
   "source": [
    "#export\n",
    "_gitattributes_list = [\"*.pro filter=kicad_project\",\n",
    "    \"*.sch filter=kicad_sch\"\n",
    "]\n",
    "\n",
    "def install_git_filters(root=\".\", v=False):\n",
    "    \"\"\"Install git filters to prevent insignificant changes to the kicad\n",
    "    `*.pro` and `*.sch` files from being tracked by git.\n",
    "\n",
    "    See: https://jnavila.github.io/plotkicadsch/\n",
    "    \"\"\"\n",
    "    root = _set_root(root)\n",
    "\n",
    "    # Add filters for kicad project and schematic files\n",
    "    _add_lines_to_file(root,\n",
    "                       \".gitattributes\",\n",
    "                       [line + \"\\n\" for line in _gitattributes_list],\n",
    "                       v\n",
    "    )\n",
    "    if v:\n",
    "        print(\"Add filters to git config.\")\n",
    "        \n",
    "    # Add filters to the project's git config\n",
    "    _run_cmd(f\"cd { root } && git config filter.kicad_project.clean \\\"sed -E 's/^update=.*$/update=Date/'\\\"\")\n",
    "    _run_cmd(f\"cd { root } && git config filter.kicad_project.smudge cat\")\n",
    "    \n",
    "    # This seems to break ERC checking. Disable for now...\n",
    "    #_run_cmd(f\"cd { root } && git config filter.kicad_sch.clean \\\"sed -E 's/#(PWR|FLG)[0-9]+/#\\1?/'\\\"\")\n",
    "    #_run_cmd(f\"cd { root } && git config filter.kicad_sch.smudge cat\")"
   ]
  },
  {
   "cell_type": "code",
   "execution_count": 11,
   "id": "2e2317c4-d71c-4468-b14b-f54063ed08c8",
   "metadata": {},
   "outputs": [],
   "source": [
    "#hide\n",
    "\n",
    "# Test adding the filters to the .gitattributes file\n",
    "gitattr_path = os.path.join(root, \".gitattributes\")\n",
    "os.remove(gitattr_path)\n",
    "install_git_filters(root)\n",
    "if os.path.exists(gitattr_path):\n",
    "    with open(gitattr_path, \"r\") as f:\n",
    "        gitattr = f.readlines()\n",
    "for line in _gitattributes_list:\n",
    "    assert line + \"\\n\" in gitattr  \n",
    "\n",
    "# Test that the filters have been added to git config\n",
    "filters = _run_cmd(f\"cd { root } && git config --list\").splitlines()\n",
    "assert \"filter.kicad_project.clean=sed -E 's/^update=.*$/update=Date/'\" in filters\n",
    "assert \"filter.kicad_project.smudge=cat\" in filters\n",
    "# This seems to break ERC checking. Disable for now...\n",
    "#assert \"filter.kicad_sch.clean=sed -E 's/#(PWR|FLG)[0-9]+/#\\x01?/'\" in filters\n",
    "#assert \"filter.kicad_sch.smudge=cat\" in filters"
   ]
  },
  {
   "cell_type": "code",
   "execution_count": 12,
   "id": "4f5907ec-ee87-4e88-bb12-170251bef47c",
   "metadata": {},
   "outputs": [],
   "source": [
    "#export\n",
    "\n",
    "_gitignore_list = [\"_autosave*\",\n",
    "    \"*bak\",\n",
    "    \"*.xml\",\n",
    "    \".ipynb_checkpoints\",\n",
    "    \"*-erc.txt\",\n",
    "    \"*-drc.txt\",\n",
    "    \"kibot_errors.filter\"\n",
    "]\n",
    "\n",
    "def update_gitignore(root=\".\", v=False):\n",
    "    \"\"\"Add the following entries to the `.gitignore` file:\n",
    "    ```\n",
    "        _autosave*\n",
    "        *bak\n",
    "        *.xml\n",
    "        .ipynb_checkpoints\n",
    "        *-erc.txt\n",
    "        *-drc.txt\n",
    "        kibot_errors.filter\n",
    "    ```\n",
    "    \"\"\"\n",
    "    # Add filters for kicad project and schematic files\n",
    "    _add_lines_to_file(root,\n",
    "                       \".gitignore\",\n",
    "                       [line + \"\\n\" for line in _gitignore_list],\n",
    "                       v\n",
    "    )"
   ]
  },
  {
   "cell_type": "code",
   "execution_count": 13,
   "id": "d6ff5578-fad2-49d6-b79b-9a98a1f645a6",
   "metadata": {},
   "outputs": [],
   "source": [
    "#hide\n",
    "\n",
    "# Test adding the .gitignore entries\n",
    "gitignore_path = os.path.join(root, \".gitignore\")\n",
    "os.remove(gitignore_path)\n",
    "update_gitignore(root)\n",
    "if os.path.exists(gitignore_path):\n",
    "    with open(gitignore_path, \"r\") as f:\n",
    "        gitignore = f.readlines()\n",
    "\n",
    "for line in _gitignore_list:\n",
    "    assert line + \"\\n\" in gitignore"
   ]
  },
  {
   "cell_type": "code",
   "execution_count": 14,
   "id": "a391baaa-30bf-4671-a0d0-568246b98b68",
   "metadata": {},
   "outputs": [],
   "source": [
    "#export\n",
    "@call_parse\n",
    "def update_project(v:Param(\"verbose\", bool),\n",
    "                   overwrite:Param(\"overwrite existing templates\", bool),\n",
    "                   root:Param(\"project root directory\", str)=\".\"):\n",
    "    \"\"\"Setup a new project (or update an existing project) with templates from\n",
    "    the `kicad_helpers/templates` directory.\n",
    "    Also installs git filters to prevent insignificant changes to the kicad\n",
    "    `*.pro` and `*.sch` files from being tracked by git (see\n",
    "    https://jnavila.github.io/plotkicadsch/ for more details).\n",
    "    \"\"\"\n",
    "    update_templates(v=v, overwrite=overwrite, root=root)\n",
    "    install_git_filters(root=root, v=v)\n",
    "    update_gitignore(root=root, v=v)"
   ]
  },
  {
   "cell_type": "markdown",
   "id": "65bb2529-1f08-4c2f-bb61-94f9f6d35ac1",
   "metadata": {},
   "source": [
    "This function is available as a command line script:\n",
    "\n",
    "```sh\n",
    "> kh_update --help\n",
    "```"
   ]
  },
  {
   "cell_type": "code",
   "execution_count": 15,
   "id": "c6467f6e-8224-4342-b661-b40896023453",
   "metadata": {},
   "outputs": [
    {
     "name": "stdout",
     "output_type": "stream",
     "text": [
      "usage: kh_update [-h] [--v] [--overwrite] [--root ROOT]\n",
      "\n",
      "Setup a new project (or update an existing project) with templates from the `kicad_helpers/templates` directory. Also\n",
      "installs git filters to prevent insignificant changes to the kicad `*.pro` and `*.sch` files from being tracked by git\n",
      "(see https://jnavila.github.io/plotkicadsch/ for more details).\n",
      "\n",
      "optional arguments:\n",
      "  -h, --help   show this help message and exit\n",
      "  --v          verbose (default: False)\n",
      "  --overwrite  overwrite existing templates (default: False)\n",
      "  --root ROOT  project root directory (default: .)\n",
      "\n"
     ]
    }
   ],
   "source": [
    "#hide_input\n",
    "_print_cmd_output(\"kh_update --help\")"
   ]
  },
  {
   "cell_type": "markdown",
   "id": "85479a6e-b0a9-471e-a3d2-304a05467bcd",
   "metadata": {},
   "source": [
    "```sh\n",
    "> kh_update --v --overwrite\n",
    "```"
   ]
  },
  {
   "cell_type": "code",
   "execution_count": 16,
   "id": "deeea36f-ff52-4c1c-ac05-8d00a8222fcf",
   "metadata": {},
   "outputs": [
    {
     "name": "stdout",
     "output_type": "stream",
     "text": [
      "Render kitspace.yaml template.\n",
      "Render settings.ini template.\n",
      "Render tests/Tests.ipynb template.\n",
      "Render .github/workflows/build.yml template.\n",
      "Render .kicad_helpers_config/sch_pdf.yaml template.\n",
      "Render .kicad_helpers_config/pcb_svg.yaml template.\n",
      "Render .kicad_helpers_config/erc.yaml template.\n",
      "Render .kicad_helpers_config/sch_svg.yaml template.\n",
      "Render .kicad_helpers_config/pcb_pdf.yaml template.\n",
      "Render .kicad_helpers_config/drc.yaml template.\n",
      "Render .kicad_helpers_config/manufacturers/default.yaml template.\n",
      "Render .kicad_helpers_config/manufacturers/PCBWay.yaml template.\n",
      "\"*.pro filter=kicad_project\" already exists in /home/ryan/dev/python/kicad-helpers/_temp/.gitattributes\n",
      "\"*.sch filter=kicad_sch\" already exists in /home/ryan/dev/python/kicad-helpers/_temp/.gitattributes\n",
      "Add filters to git config.\n",
      "\"_autosave*\" already exists in /home/ryan/dev/python/kicad-helpers/_temp/.gitignore\n",
      "\"*bak\" already exists in /home/ryan/dev/python/kicad-helpers/_temp/.gitignore\n",
      "\"*.xml\" already exists in /home/ryan/dev/python/kicad-helpers/_temp/.gitignore\n",
      "\".ipynb_checkpoints\" already exists in /home/ryan/dev/python/kicad-helpers/_temp/.gitignore\n",
      "\"*-erc.txt\" already exists in /home/ryan/dev/python/kicad-helpers/_temp/.gitignore\n",
      "\"*-drc.txt\" already exists in /home/ryan/dev/python/kicad-helpers/_temp/.gitignore\n",
      "\"kibot_errors.filter\" already exists in /home/ryan/dev/python/kicad-helpers/_temp/.gitignore\n",
      "\n"
     ]
    }
   ],
   "source": [
    "#hide_input\n",
    "_print_cmd_output(f\"kh_update --v --overwrite --root { root }\")"
   ]
  },
  {
   "cell_type": "code",
   "execution_count": 17,
   "id": "05765965-1fbb-4739-b7ec-5ecc0a3ba6b7",
   "metadata": {},
   "outputs": [],
   "source": [
    "#export\n",
    "@call_parse\n",
    "def sch_to_bom(root:Param(\"project root directory\", str)=\".\",\n",
    "               v:Param(\"verbose\", bool)=False,\n",
    "               overwrite:Param(\"update existing schematic\", bool)=False):\n",
    "    \"\"\"Update/create BOM from KiCad schematic.\n",
    "    \"\"\"\n",
    "    root = _set_root(root)\n",
    "    cmd = f\"{ sys.executable } -m kifield -r --nobackup --overwrite --group -aq -x { get_schematic_path(root) } -i { get_bom_path(root) }\"\n",
    "    if v:\n",
    "        print(cmd)\n",
    "    _print_cmd_output(cmd)"
   ]
  },
  {
   "cell_type": "markdown",
   "id": "f1ca7452-1ad6-4e4f-8a04-932558bde3ce",
   "metadata": {},
   "source": [
    "This function can also be called via a command line script:\n",
    "\n",
    "```sh\n",
    "> kh_sch_to_bom --help\n",
    "```"
   ]
  },
  {
   "cell_type": "code",
   "execution_count": 18,
   "id": "8774b184-aba2-4ecd-ba55-4dd607e9f42b",
   "metadata": {},
   "outputs": [
    {
     "name": "stdout",
     "output_type": "stream",
     "text": [
      "usage: kh_sch_to_bom [-h] [--root ROOT] [--v] [--overwrite]\n",
      "\n",
      "Update/create BOM from KiCad schematic.\n",
      "\n",
      "optional arguments:\n",
      "  -h, --help   show this help message and exit\n",
      "  --root ROOT  project root directory (default: .)\n",
      "  --v          verbose (default: False)\n",
      "  --overwrite  update existing schematic (default: False)\n",
      "\n"
     ]
    }
   ],
   "source": [
    "#hide_input\n",
    "_print_cmd_output(\"kh_sch_to_bom --help\")"
   ]
  },
  {
   "cell_type": "markdown",
   "id": "a43c584d-0910-48cb-8362-c53b6bf273bb",
   "metadata": {},
   "source": [
    "Running `kh_sch_to_bom` within your project dictory will generate a BOM file (e.g., `manufacturing/default/project-name-BOM.csv`) by extracting fields from the KiCad schematic file (e.g., `project-name.sch`).\n",
    "\n",
    "```sh\n",
    "> kh_sch_to_bom --v\n",
    "```"
   ]
  },
  {
   "cell_type": "code",
   "execution_count": 19,
   "id": "e463b18f-13b9-44bd-be32-d62c2095260f",
   "metadata": {},
   "outputs": [
    {
     "name": "stdout",
     "output_type": "stream",
     "text": [
      "/home/ryan/miniconda3/envs/kh/bin/python3.9 -m kifield -r --nobackup --overwrite --group -aq -x /home/ryan/dev/python/kicad-helpers/_temp/40-channel-hv-switching-board.sch -i /home/ryan/dev/python/kicad-helpers/_temp/manufacturing/default/40-channel-hv-switching-board-BOM.csv\n",
      "\n",
      "\n"
     ]
    }
   ],
   "source": [
    "#hide_input\n",
    "_print_cmd_output(f\"kh_sch_to_bom --v --root { root }\")"
   ]
  },
  {
   "cell_type": "markdown",
   "id": "2492c897-f527-416e-bc19-1847a10dc5b0",
   "metadata": {},
   "source": [
    "Here's an example of a BOM extracted from a KiCad schematic."
   ]
  },
  {
   "cell_type": "code",
   "execution_count": 20,
   "id": "f50c57d9-d659-4ef2-b610-2da53c7a4a7f",
   "metadata": {},
   "outputs": [
    {
     "data": {
      "text/html": [
       "<div>\n",
       "<style scoped>\n",
       "    .dataframe tbody tr th:only-of-type {\n",
       "        vertical-align: middle;\n",
       "    }\n",
       "\n",
       "    .dataframe tbody tr th {\n",
       "        vertical-align: top;\n",
       "    }\n",
       "\n",
       "    .dataframe thead th {\n",
       "        text-align: right;\n",
       "    }\n",
       "</style>\n",
       "<table border=\"1\" class=\"dataframe\">\n",
       "  <thead>\n",
       "    <tr style=\"text-align: right;\">\n",
       "      <th></th>\n",
       "      <th>Refs</th>\n",
       "      <th>Quantity</th>\n",
       "      <th>MPN</th>\n",
       "      <th>Manufacturer</th>\n",
       "      <th>datasheet</th>\n",
       "      <th>footprint</th>\n",
       "      <th>value</th>\n",
       "    </tr>\n",
       "  </thead>\n",
       "  <tbody>\n",
       "    <tr>\n",
       "      <th>0</th>\n",
       "      <td>C1, C3, C5, C6, C8-C13, C16</td>\n",
       "      <td>11</td>\n",
       "      <td>CL21B104KBCNNNC</td>\n",
       "      <td>Samsung</td>\n",
       "      <td>NaN</td>\n",
       "      <td>Capacitors_SMD:C_0805</td>\n",
       "      <td>0.1uF</td>\n",
       "    </tr>\n",
       "    <tr>\n",
       "      <th>1</th>\n",
       "      <td>C14, C15</td>\n",
       "      <td>2</td>\n",
       "      <td>CL21C151JBANNNC</td>\n",
       "      <td>Samsung</td>\n",
       "      <td>NaN</td>\n",
       "      <td>Capacitors_SMD:C_0805</td>\n",
       "      <td>150pF</td>\n",
       "    </tr>\n",
       "    <tr>\n",
       "      <th>2</th>\n",
       "      <td>C2, C4</td>\n",
       "      <td>2</td>\n",
       "      <td>T491D336K020AT</td>\n",
       "      <td>KEMET</td>\n",
       "      <td>NaN</td>\n",
       "      <td>Sci-Bots:SM2917</td>\n",
       "      <td>33uF</td>\n",
       "    </tr>\n",
       "    <tr>\n",
       "      <th>3</th>\n",
       "      <td>C7</td>\n",
       "      <td>1</td>\n",
       "      <td>CL21B103KCANNNC</td>\n",
       "      <td>Samsung</td>\n",
       "      <td>NaN</td>\n",
       "      <td>Capacitors_SMD:C_0805</td>\n",
       "      <td>0.01uF</td>\n",
       "    </tr>\n",
       "    <tr>\n",
       "      <th>4</th>\n",
       "      <td>CH0-CH39</td>\n",
       "      <td>40</td>\n",
       "      <td>AQW214EAZ</td>\n",
       "      <td>Panasonic</td>\n",
       "      <td>NaN</td>\n",
       "      <td>SMD_Packages:DIP-8_SMD</td>\n",
       "      <td>AQW214</td>\n",
       "    </tr>\n",
       "    <tr>\n",
       "      <th>5</th>\n",
       "      <td>DS1</td>\n",
       "      <td>1</td>\n",
       "      <td>150080BS75000</td>\n",
       "      <td>Würth Elektronik</td>\n",
       "      <td>NaN</td>\n",
       "      <td>LEDs:LED_0805</td>\n",
       "      <td>+3.3V_PWR</td>\n",
       "    </tr>\n",
       "    <tr>\n",
       "      <th>6</th>\n",
       "      <td>FB1-FB5</td>\n",
       "      <td>5</td>\n",
       "      <td>742792040</td>\n",
       "      <td>Würth Elektronik</td>\n",
       "      <td>NaN</td>\n",
       "      <td>Resistors_SMD:R_0805</td>\n",
       "      <td>FERRITE</td>\n",
       "    </tr>\n",
       "    <tr>\n",
       "      <th>7</th>\n",
       "      <td>JP1</td>\n",
       "      <td>1</td>\n",
       "      <td>DNP</td>\n",
       "      <td>DNP</td>\n",
       "      <td>NaN</td>\n",
       "      <td>Resistors_SMD:R_0805</td>\n",
       "      <td>JUMPER</td>\n",
       "    </tr>\n",
       "    <tr>\n",
       "      <th>8</th>\n",
       "      <td>P1</td>\n",
       "      <td>1</td>\n",
       "      <td>DNP</td>\n",
       "      <td>DNP</td>\n",
       "      <td>NaN</td>\n",
       "      <td>Pin_Headers:Pin_Header_Angled_1x06</td>\n",
       "      <td>CONN_01X06</td>\n",
       "    </tr>\n",
       "    <tr>\n",
       "      <th>9</th>\n",
       "      <td>P2</td>\n",
       "      <td>1</td>\n",
       "      <td>DNP</td>\n",
       "      <td>DNP</td>\n",
       "      <td>NaN</td>\n",
       "      <td>Pin_Headers:Pin_Header_Straight_2x03</td>\n",
       "      <td>CONN_01X06</td>\n",
       "    </tr>\n",
       "    <tr>\n",
       "      <th>10</th>\n",
       "      <td>P3-P6</td>\n",
       "      <td>4</td>\n",
       "      <td>DNP</td>\n",
       "      <td>DNP</td>\n",
       "      <td>NaN</td>\n",
       "      <td>Connect:1pin</td>\n",
       "      <td>CONN_01X01</td>\n",
       "    </tr>\n",
       "    <tr>\n",
       "      <th>11</th>\n",
       "      <td>P7</td>\n",
       "      <td>1</td>\n",
       "      <td>TFM-125-02-L-DH</td>\n",
       "      <td>Samtec</td>\n",
       "      <td>NaN</td>\n",
       "      <td>Sci-Bots:TFM-125-02-X-DH</td>\n",
       "      <td>TFM-125-02-X-DH</td>\n",
       "    </tr>\n",
       "    <tr>\n",
       "      <th>12</th>\n",
       "      <td>R1, R6, R7, R12, R13, R18, R19, R24, R25, R30,...</td>\n",
       "      <td>40</td>\n",
       "      <td>RC0805FR-074K75L</td>\n",
       "      <td>Yageo</td>\n",
       "      <td>NaN</td>\n",
       "      <td>Resistors_SMD:R_0805</td>\n",
       "      <td>4.75k</td>\n",
       "    </tr>\n",
       "    <tr>\n",
       "      <th>13</th>\n",
       "      <td>R125, R126</td>\n",
       "      <td>2</td>\n",
       "      <td>RC0805FR-07150RL</td>\n",
       "      <td>Yageo</td>\n",
       "      <td>NaN</td>\n",
       "      <td>Resistors_SMD:R_0805</td>\n",
       "      <td>150</td>\n",
       "    </tr>\n",
       "    <tr>\n",
       "      <th>14</th>\n",
       "      <td>R2-R5, R8-R11, R14-R17, R20-R23, R26-R29, R32-...</td>\n",
       "      <td>80</td>\n",
       "      <td>RC0805FR-07220RL</td>\n",
       "      <td>Yageo</td>\n",
       "      <td>NaN</td>\n",
       "      <td>Resistors_SMD:R_0805</td>\n",
       "      <td>220</td>\n",
       "    </tr>\n",
       "    <tr>\n",
       "      <th>15</th>\n",
       "      <td>R43</td>\n",
       "      <td>1</td>\n",
       "      <td>RC0805FR-0710KL</td>\n",
       "      <td>Yageo</td>\n",
       "      <td>NaN</td>\n",
       "      <td>Resistors_SMD:R_0805</td>\n",
       "      <td>10k</td>\n",
       "    </tr>\n",
       "    <tr>\n",
       "      <th>16</th>\n",
       "      <td>R45</td>\n",
       "      <td>1</td>\n",
       "      <td>RC0805FR-071KL</td>\n",
       "      <td>Yageo</td>\n",
       "      <td>NaN</td>\n",
       "      <td>Resistors_SMD:R_0805</td>\n",
       "      <td>1k</td>\n",
       "    </tr>\n",
       "    <tr>\n",
       "      <th>17</th>\n",
       "      <td>R99, R100</td>\n",
       "      <td>2</td>\n",
       "      <td>RC0805FR-0751RL</td>\n",
       "      <td>Yageo</td>\n",
       "      <td>NaN</td>\n",
       "      <td>Resistors_SMD:R_0805</td>\n",
       "      <td>51</td>\n",
       "    </tr>\n",
       "    <tr>\n",
       "      <th>18</th>\n",
       "      <td>U1-U5</td>\n",
       "      <td>5</td>\n",
       "      <td>MM74HC595MX</td>\n",
       "      <td>onsemi</td>\n",
       "      <td>~</td>\n",
       "      <td>Sci-Bots:SO16E</td>\n",
       "      <td>74HC595A</td>\n",
       "    </tr>\n",
       "    <tr>\n",
       "      <th>19</th>\n",
       "      <td>U6</td>\n",
       "      <td>1</td>\n",
       "      <td>W25Q64FVSSIG TR</td>\n",
       "      <td>Winbond</td>\n",
       "      <td>NaN</td>\n",
       "      <td>SMD_Packages:SOIC-8-N</td>\n",
       "      <td>W25Q64FV</td>\n",
       "    </tr>\n",
       "    <tr>\n",
       "      <th>20</th>\n",
       "      <td>U7</td>\n",
       "      <td>1</td>\n",
       "      <td>ATMEGA328P-AU</td>\n",
       "      <td>Microchip</td>\n",
       "      <td>NaN</td>\n",
       "      <td>Housings_QFP:TQFP-32_7x7mm_Pitch0.8mm</td>\n",
       "      <td>ATMEGA328P-AU</td>\n",
       "    </tr>\n",
       "    <tr>\n",
       "      <th>21</th>\n",
       "      <td>Y1</td>\n",
       "      <td>1</td>\n",
       "      <td>CSTCE8M00G55-R0</td>\n",
       "      <td>Murata</td>\n",
       "      <td>http://www.murata.com/~/media/webrenewal/suppo...</td>\n",
       "      <td>Sci-Bots:CSTCE_G15C</td>\n",
       "      <td>RESONATOR</td>\n",
       "    </tr>\n",
       "  </tbody>\n",
       "</table>\n",
       "</div>"
      ],
      "text/plain": [
       "                                                 Refs  Quantity  \\\n",
       "0                         C1, C3, C5, C6, C8-C13, C16        11   \n",
       "1                                            C14, C15         2   \n",
       "2                                              C2, C4         2   \n",
       "3                                                  C7         1   \n",
       "4                                            CH0-CH39        40   \n",
       "5                                                 DS1         1   \n",
       "6                                             FB1-FB5         5   \n",
       "7                                                 JP1         1   \n",
       "8                                                  P1         1   \n",
       "9                                                  P2         1   \n",
       "10                                              P3-P6         4   \n",
       "11                                                 P7         1   \n",
       "12  R1, R6, R7, R12, R13, R18, R19, R24, R25, R30,...        40   \n",
       "13                                         R125, R126         2   \n",
       "14  R2-R5, R8-R11, R14-R17, R20-R23, R26-R29, R32-...        80   \n",
       "15                                                R43         1   \n",
       "16                                                R45         1   \n",
       "17                                          R99, R100         2   \n",
       "18                                              U1-U5         5   \n",
       "19                                                 U6         1   \n",
       "20                                                 U7         1   \n",
       "21                                                 Y1         1   \n",
       "\n",
       "                 MPN      Manufacturer  \\\n",
       "0    CL21B104KBCNNNC           Samsung   \n",
       "1    CL21C151JBANNNC           Samsung   \n",
       "2     T491D336K020AT             KEMET   \n",
       "3    CL21B103KCANNNC           Samsung   \n",
       "4          AQW214EAZ         Panasonic   \n",
       "5      150080BS75000  Würth Elektronik   \n",
       "6          742792040  Würth Elektronik   \n",
       "7                DNP               DNP   \n",
       "8                DNP               DNP   \n",
       "9                DNP               DNP   \n",
       "10               DNP               DNP   \n",
       "11   TFM-125-02-L-DH            Samtec   \n",
       "12  RC0805FR-074K75L             Yageo   \n",
       "13  RC0805FR-07150RL             Yageo   \n",
       "14  RC0805FR-07220RL             Yageo   \n",
       "15   RC0805FR-0710KL             Yageo   \n",
       "16    RC0805FR-071KL             Yageo   \n",
       "17   RC0805FR-0751RL             Yageo   \n",
       "18       MM74HC595MX            onsemi   \n",
       "19   W25Q64FVSSIG TR           Winbond   \n",
       "20     ATMEGA328P-AU         Microchip   \n",
       "21   CSTCE8M00G55-R0            Murata   \n",
       "\n",
       "                                            datasheet  \\\n",
       "0                                                 NaN   \n",
       "1                                                 NaN   \n",
       "2                                                 NaN   \n",
       "3                                                 NaN   \n",
       "4                                                 NaN   \n",
       "5                                                 NaN   \n",
       "6                                                 NaN   \n",
       "7                                                 NaN   \n",
       "8                                                 NaN   \n",
       "9                                                 NaN   \n",
       "10                                                NaN   \n",
       "11                                                NaN   \n",
       "12                                                NaN   \n",
       "13                                                NaN   \n",
       "14                                                NaN   \n",
       "15                                                NaN   \n",
       "16                                                NaN   \n",
       "17                                                NaN   \n",
       "18                                                  ~   \n",
       "19                                                NaN   \n",
       "20                                                NaN   \n",
       "21  http://www.murata.com/~/media/webrenewal/suppo...   \n",
       "\n",
       "                                footprint            value  \n",
       "0                   Capacitors_SMD:C_0805            0.1uF  \n",
       "1                   Capacitors_SMD:C_0805            150pF  \n",
       "2                         Sci-Bots:SM2917             33uF  \n",
       "3                   Capacitors_SMD:C_0805           0.01uF  \n",
       "4                  SMD_Packages:DIP-8_SMD           AQW214  \n",
       "5                           LEDs:LED_0805        +3.3V_PWR  \n",
       "6                    Resistors_SMD:R_0805          FERRITE  \n",
       "7                    Resistors_SMD:R_0805           JUMPER  \n",
       "8      Pin_Headers:Pin_Header_Angled_1x06       CONN_01X06  \n",
       "9    Pin_Headers:Pin_Header_Straight_2x03       CONN_01X06  \n",
       "10                           Connect:1pin       CONN_01X01  \n",
       "11               Sci-Bots:TFM-125-02-X-DH  TFM-125-02-X-DH  \n",
       "12                   Resistors_SMD:R_0805            4.75k  \n",
       "13                   Resistors_SMD:R_0805              150  \n",
       "14                   Resistors_SMD:R_0805              220  \n",
       "15                   Resistors_SMD:R_0805              10k  \n",
       "16                   Resistors_SMD:R_0805               1k  \n",
       "17                   Resistors_SMD:R_0805               51  \n",
       "18                         Sci-Bots:SO16E         74HC595A  \n",
       "19                  SMD_Packages:SOIC-8-N         W25Q64FV  \n",
       "20  Housings_QFP:TQFP-32_7x7mm_Pitch0.8mm    ATMEGA328P-AU  \n",
       "21                    Sci-Bots:CSTCE_G15C        RESONATOR  "
      ]
     },
     "execution_count": 20,
     "metadata": {},
     "output_type": "execute_result"
    }
   ],
   "source": [
    "#hide_input\n",
    "df = pd.read_csv(get_bom_path(root))\n",
    "df"
   ]
  },
  {
   "cell_type": "code",
   "execution_count": 21,
   "id": "bc6cd366-8deb-454d-bd9c-71555889c315",
   "metadata": {},
   "outputs": [],
   "source": [
    "#export\n",
    "@call_parse\n",
    "def bom_to_sch(root:Param(\"project root directory\", str)=\".\",\n",
    "               v:Param(\"verbose\", bool)=False,\n",
    "               overwrite:Param(\"update existing schematic\", bool)=False):\n",
    "    \"\"\"Update KiCad schematic from BOM file.\n",
    "    \"\"\"\n",
    "    root = _set_root(root)\n",
    "    cmd = f\"{ sys.executable } -m kifield -r --nobackup --overwrite --fields ~quantity -x { get_bom_path(root) } -i { get_schematic_path(root) }\"\n",
    "    if v:\n",
    "        print(cmd)\n",
    "    _print_cmd_output(cmd)"
   ]
  },
  {
   "cell_type": "markdown",
   "id": "8c6fca8d-60bc-4c45-a994-10e7c0317a72",
   "metadata": {},
   "source": [
    "This function can also be called via a command line script:\n",
    "\n",
    "```sh\n",
    "> kh_bom_to_sch --help\n",
    "```"
   ]
  },
  {
   "cell_type": "code",
   "execution_count": 22,
   "id": "3a62715d-f197-4c9d-a1c5-cd967023c9f9",
   "metadata": {},
   "outputs": [
    {
     "name": "stdout",
     "output_type": "stream",
     "text": [
      "usage: kh_bom_to_sch [-h] [--root ROOT] [--v] [--overwrite]\n",
      "\n",
      "Update KiCad schematic from BOM file.\n",
      "\n",
      "optional arguments:\n",
      "  -h, --help   show this help message and exit\n",
      "  --root ROOT  project root directory (default: .)\n",
      "  --v          verbose (default: False)\n",
      "  --overwrite  update existing schematic (default: False)\n",
      "\n"
     ]
    }
   ],
   "source": [
    "#hide_input\n",
    "_print_cmd_output(\"kh_bom_to_sch --help\")"
   ]
  },
  {
   "cell_type": "markdown",
   "id": "0f9845ce-6a43-4d0d-849d-b4f900072bec",
   "metadata": {},
   "source": [
    "Running `kh_bom_to_sch` within your project dictory will read the BOM file (e.g., `manufacturing/default/project-name-BOM.csv`), and import the fields back into the KiCad schematic file (e.g., `project-name.sch`).\n",
    "\n",
    "```sh\n",
    "> kh_sch_to_bom --v\n",
    "```"
   ]
  },
  {
   "cell_type": "code",
   "execution_count": 23,
   "id": "f67dcbab-ac77-4177-b5a8-7d2bd9d740a8",
   "metadata": {},
   "outputs": [
    {
     "name": "stdout",
     "output_type": "stream",
     "text": [
      "/home/ryan/miniconda3/envs/kh/bin/python3.9 -m kifield -r --nobackup --overwrite --fields ~quantity -x /home/ryan/dev/python/kicad-helpers/_temp/manufacturing/default/40-channel-hv-switching-board-BOM.csv -i /home/ryan/dev/python/kicad-helpers/_temp/40-channel-hv-switching-board.sch\n",
      "\n",
      "\n"
     ]
    }
   ],
   "source": [
    "#hide_input\n",
    "_print_cmd_output(f\"kh_bom_to_sch --v --root { root }\")"
   ]
  },
  {
   "cell_type": "code",
   "execution_count": 24,
   "id": "787f9f12-ad54-4a69-93ad-bcf36c07ec85",
   "metadata": {},
   "outputs": [],
   "source": [
    "#export\n",
    "@call_parse\n",
    "def export_manufacturing(root:Param(\"project root directory\", str)=\".\",\n",
    "                         manufacturer:Param(f\"\\\"default\\\" or manufacturer name\", str)=\"default\",\n",
    "                         v:Param(\"verbose\", bool)=False,\n",
    "                         output:Param(\"output path relative to ROOT\")=\".\"):\n",
    "    \"\"\"Export manufacturing files (gerber, drill, and position) by running\n",
    "    KiBot in a local docker container.\n",
    "    \"\"\"\n",
    "    root = _set_root(root)\n",
    "    if manufacturer not in get_manufacturers(root):\n",
    "        raise RuntimeError(f\"MANUFACTURER must be one of the following: { ', '.join(get_manufacturers(root)) }.\")\n",
    "    \n",
    "    config = f\".kicad_helpers_config/manufacturers/{ manufacturer }.yaml\"\n",
    "    run_kibot_docker(config=config, root=root, v=v, output=output)"
   ]
  },
  {
   "cell_type": "markdown",
   "id": "22e191d7-2ac0-452c-9ce0-8065b2eef19c",
   "metadata": {},
   "source": [
    "This function can also be called via a command line script:\n",
    "\n",
    "```sh\n",
    "> kh_export_man --help\n",
    "```"
   ]
  },
  {
   "cell_type": "code",
   "execution_count": 25,
   "id": "e6cb3fd3-1158-43cd-ae37-2de7685f120c",
   "metadata": {},
   "outputs": [
    {
     "name": "stdout",
     "output_type": "stream",
     "text": [
      "usage: kh_export_man [-h] [--root ROOT] [--manufacturer MANUFACTURER] [--v] [--output OUTPUT]\n",
      "\n",
      "Export manufacturing files (gerber, drill, and position) by running KiBot in a local docker container.\n",
      "\n",
      "optional arguments:\n",
      "  -h, --help                   show this help message and exit\n",
      "  --root ROOT                  project root directory (default: .)\n",
      "  --manufacturer MANUFACTURER  \"default\" or manufacturer name (default: default)\n",
      "  --v                          verbose (default: False)\n",
      "  --output OUTPUT              output path relative to ROOT (default: .)\n",
      "\n"
     ]
    }
   ],
   "source": [
    "#hide_input\n",
    "_print_cmd_output(\"kh_export_man --help\")"
   ]
  },
  {
   "cell_type": "markdown",
   "id": "17fb73d0-1cac-4859-b324-d94412bcc7c0",
   "metadata": {},
   "source": [
    "Running `kh_export_man` within your project directory will export manufacturing outputs (e.g., gerber, drill, and position files).\n",
    "\n",
    "```sh\n",
    "> kh_export_man --output outputs\n",
    "> tree outputs\n",
    "```"
   ]
  },
  {
   "cell_type": "code",
   "execution_count": 26,
   "id": "97f271a6-091a-403d-8204-4e1cd458c56f",
   "metadata": {},
   "outputs": [
    {
     "name": "stdout",
     "output_type": "stream",
     "text": [
      "\n",
      ".\n",
      "├── gerbers\n",
      "│   ├── 40-channel-hv-switching-board-NPTH.drl\n",
      "│   ├── 40-channel-hv-switching-board.drl\n",
      "│   ├── 40-channel-hv-switching-board.gbl\n",
      "│   ├── 40-channel-hv-switching-board.gbo\n",
      "│   ├── 40-channel-hv-switching-board.gbp\n",
      "│   ├── 40-channel-hv-switching-board.gbs\n",
      "│   ├── 40-channel-hv-switching-board.gl2\n",
      "│   ├── 40-channel-hv-switching-board.gl3\n",
      "│   ├── 40-channel-hv-switching-board.gm1\n",
      "│   ├── 40-channel-hv-switching-board.gtl\n",
      "│   ├── 40-channel-hv-switching-board.gto\n",
      "│   ├── 40-channel-hv-switching-board.gtp\n",
      "│   └── 40-channel-hv-switching-board.gts\n",
      "└── position\n",
      "    ├── bottom_pos.pos\n",
      "    └── top_pos.pos\n",
      "\n",
      "2 directories, 15 files\n",
      "\n"
     ]
    }
   ],
   "source": [
    "#hide_input\n",
    "output_path = os.path.join(root, \"outputs\")\n",
    "\n",
    "def remove_test_outputs():\n",
    "    \"\"\"Remove test outputs if the directory already exists.\"\"\"\n",
    "    if os.path.exists(output_path):\n",
    "        shutil.rmtree(output_path)\n",
    "\n",
    "_print_cmd_output(f\"kh_export_man --root { root } --output { output_path[len(root) + 1:] }\")\n",
    "outputs = _run_cmd(f\"cd { os.path.join(root, output_path[len(root) + 1:]) } && tree .\")\n",
    "print(outputs)\n",
    "assert outputs == '.\\n├── gerbers\\n│\\xa0\\xa0 ├── 40-channel-hv-switching-board-NPTH.drl\\n│\\xa0\\xa0 ├── 40-channel-hv-switching-board.drl\\n│\\xa0\\xa0 ├── 40-channel-hv-switching-board.gbl\\n│\\xa0\\xa0 ├── 40-channel-hv-switching-board.gbo\\n│\\xa0\\xa0 ├── 40-channel-hv-switching-board.gbp\\n│\\xa0\\xa0 ├── 40-channel-hv-switching-board.gbs\\n│\\xa0\\xa0 ├── 40-channel-hv-switching-board.gl2\\n│\\xa0\\xa0 ├── 40-channel-hv-switching-board.gl3\\n│\\xa0\\xa0 ├── 40-channel-hv-switching-board.gm1\\n│\\xa0\\xa0 ├── 40-channel-hv-switching-board.gtl\\n│\\xa0\\xa0 ├── 40-channel-hv-switching-board.gto\\n│\\xa0\\xa0 ├── 40-channel-hv-switching-board.gtp\\n│\\xa0\\xa0 └── 40-channel-hv-switching-board.gts\\n└── position\\n    ├── bottom_pos.pos\\n    └── top_pos.pos\\n\\n2 directories, 15 files\\n'\n",
    "remove_test_outputs()"
   ]
  },
  {
   "cell_type": "markdown",
   "id": "4677f0c7-e09c-4b61-a852-c0f24807800f",
   "metadata": {},
   "source": [
    "You can generate manufacturer-specific outputs using the `--manufacturer` flag, e.g.:\n",
    "\n",
    "```sh\n",
    "> kh_export_man --manufacturer PCBWay --output outputs\n",
    "```\n",
    "\n",
    "Support for additional manufacturers can be added by creating a `*.yaml` file in the [.kicad_helpers_config/manufacturers](https://github.com/ryanfobel/kicad-helpers/tree/main/kicad_helpers/templates/.kicad_helpers_config/manufacturers) directory."
   ]
  },
  {
   "cell_type": "code",
   "execution_count": 27,
   "id": "a4e98283-1f01-489c-a792-6ae71c02e4d7",
   "metadata": {},
   "outputs": [],
   "source": [
    "#hide\n",
    "\n",
    "# Test PCBWay manufacturing outputs\n",
    "_run_cmd(f\"kh_export_man --v --manufacturer PCBWay --root { root } --output { output_path[len(root) + 1:] }\")\n",
    "outputs = _run_cmd(f\"cd { os.path.join(root, output_path[len(root) + 1:]) } && tree .\")\n",
    "assert outputs == outputs\n",
    "remove_test_outputs()"
   ]
  },
  {
   "cell_type": "code",
   "execution_count": 28,
   "id": "7bb2a498-bdbf-4ea6-8c11-9c7b362fd6d4",
   "metadata": {},
   "outputs": [],
   "source": [
    "#hide\n",
    "\n",
    "# Test a manufacturer that has no *.yaml configuration file\n",
    "output = None\n",
    "try:\n",
    "    _run_cmd(f\"kh_export_man --root { root } --manufacturer bad --output { output_path[len(root) + 1:] }\")\n",
    "except subprocess.CalledProcessError as e:\n",
    "    output = e.output.decode(\"utf-8\")\n",
    "assert output.splitlines()[-1] == \"RuntimeError: MANUFACTURER must be one of the following: default, PCBWay.\""
   ]
  },
  {
   "cell_type": "code",
   "execution_count": 29,
   "id": "797af8d7-316b-4139-9783-ef22e015214c",
   "metadata": {},
   "outputs": [],
   "source": [
    "#hide \n",
    "\n",
    "# Test using an absolute path for OUTPUT\n",
    "output = None\n",
    "try:\n",
    "    _run_cmd(f\"kh_export_man --root { root } --output { output_path }\")\n",
    "except subprocess.CalledProcessError as e:\n",
    "    output = e.output.decode(\"utf-8\")\n",
    "assert output.splitlines()[-1].startswith(\"RuntimeError: OUTPUT cannot be an absolute path; it must be relative to ROOT=\")"
   ]
  },
  {
   "cell_type": "code",
   "execution_count": 30,
   "id": "ba019093-eade-4dbe-a25e-0fef283d6ed0",
   "metadata": {},
   "outputs": [],
   "source": [
    "#export\n",
    "@call_parse\n",
    "def export_sch(root:Param(\"project root directory\", str)=\".\",\n",
    "               ext:Param(f\"svg or pdf\", str)=\"pdf\",\n",
    "               v:Param(\"verbose\", bool)=False,\n",
    "               output:Param(\"output path relative to ROOT\")=\".\"):\n",
    "    \"\"\"Export the schematic by running KiBot in a local docker container.\n",
    "    \"\"\"\n",
    "    root = _set_root(root)\n",
    "    supported_types = [\"svg\", \"pdf\"]\n",
    "    \n",
    "    if ext not in supported_types:\n",
    "        raise RuntimeError(f\"EXT must be one of: { ','.join(supported_types) }.\")\n",
    "\n",
    "    config = f\".kicad_helpers_config/sch_{ ext }.yaml\"\n",
    "    run_kibot_docker(config=config, root=root, v=v, output=output)"
   ]
  },
  {
   "cell_type": "markdown",
   "id": "cb3a85f5-075b-40f3-8f17-ff0944a75a12",
   "metadata": {},
   "source": [
    "This function can also be called via a command line script:\n",
    "\n",
    "```sh\n",
    "> kh_export_sch --help\n",
    "```"
   ]
  },
  {
   "cell_type": "code",
   "execution_count": 31,
   "id": "f9fc7116-ed0f-4218-b984-2151d750241f",
   "metadata": {},
   "outputs": [
    {
     "name": "stdout",
     "output_type": "stream",
     "text": [
      "usage: kh_export_sch [-h] [--root ROOT] [--ext EXT] [--v] [--output OUTPUT]\n",
      "\n",
      "Export the schematic by running KiBot in a local docker container.\n",
      "\n",
      "optional arguments:\n",
      "  -h, --help       show this help message and exit\n",
      "  --root ROOT      project root directory (default: .)\n",
      "  --ext EXT        svg or pdf (default: pdf)\n",
      "  --v              verbose (default: False)\n",
      "  --output OUTPUT  output path relative to ROOT (default: .)\n",
      "\n"
     ]
    }
   ],
   "source": [
    "#hide_input\n",
    "_print_cmd_output(\"kh_export_sch --help\")"
   ]
  },
  {
   "cell_type": "markdown",
   "id": "be8e87dd-051f-4e57-9c3b-85a01e41fb3d",
   "metadata": {},
   "source": [
    "Export the schematic(s) as a pdfs:\n",
    "\n",
    "```sh\n",
    "> kh_export_sch --ext pdf --output outputs\n",
    "> tree outputs\n",
    "```"
   ]
  },
  {
   "cell_type": "code",
   "execution_count": 32,
   "id": "d6ad27a8-2a14-4568-b0a5-10d47e36eab3",
   "metadata": {},
   "outputs": [
    {
     "name": "stdout",
     "output_type": "stream",
     "text": [
      ".\n",
      "└── 40-channel-hv-switching-board-schematic.pdf\n",
      "\n",
      "0 directories, 1 file\n",
      "\n"
     ]
    }
   ],
   "source": [
    "#hide_input\n",
    "_run_cmd(f\"kh_export_sch --root { root } --ext pdf --output { output_path[len(root) + 1:] }\")\n",
    "outputs = _run_cmd(f\"cd { os.path.join(root, output_path[len(root) + 1:]) } && tree .\")\n",
    "print(outputs)\n",
    "assert outputs == '.\\n└── 40-channel-hv-switching-board-schematic.pdf\\n\\n0 directories, 1 file\\n'\n",
    "remove_test_outputs()"
   ]
  },
  {
   "cell_type": "markdown",
   "id": "7b15df33-323e-4447-8e67-30b65562a391",
   "metadata": {},
   "source": [
    "Export the schematic(s) as svgs:\n",
    "\n",
    "```sh\n",
    "> kh_export_sch --ext svg --output outputs\n",
    "> tree outputs\n",
    "```"
   ]
  },
  {
   "cell_type": "code",
   "execution_count": 33,
   "id": "fb84d186-048c-46fb-9ed3-ac0a22b99fc7",
   "metadata": {},
   "outputs": [
    {
     "name": "stdout",
     "output_type": "stream",
     "text": [
      ".\n",
      "├── 40-channel-hv-switching-board-schematic.svg\n",
      "├── switches_0-19-switches_0-19.svg\n",
      "└── switches_20-39-switches_20-39.svg\n",
      "\n",
      "0 directories, 3 files\n",
      "\n"
     ]
    }
   ],
   "source": [
    "#hide_input\n",
    "_run_cmd(f\"kh_export_sch --root { root } --ext svg --output { output_path[len(root) + 1:] }\")\n",
    "outputs = subprocess.check_output(f\"cd { os.path.join(root, output_path[len(root) + 1:]) } && tree .\", shell=True).decode(\"utf-8\")\n",
    "print(outputs)\n",
    "assert outputs == '.\\n├── 40-channel-hv-switching-board-schematic.svg\\n├── switches_0-19-switches_0-19.svg\\n└── switches_20-39-switches_20-39.svg\\n\\n0 directories, 3 files\\n'\n",
    "remove_test_outputs()"
   ]
  },
  {
   "cell_type": "code",
   "execution_count": 34,
   "id": "6adf7b6d-5e25-4c70-88e6-ced1fb693e87",
   "metadata": {},
   "outputs": [],
   "source": [
    "#export\n",
    "@call_parse\n",
    "def export_pcb(root:Param(\"project root directory\", str)=\".\",\n",
    "               ext:Param(f\"svg or pdf\", str)=\"pdf\",\n",
    "               v:Param(\"verbose\", bool)=False,\n",
    "               output:Param(\"output path relative to ROOT\")=\".\"):\n",
    "    \"\"\"Export the pcb layout by running KiBot in a local docker container.\n",
    "    \"\"\"\n",
    "    root = _set_root(root)\n",
    "    supported_types = [\"svg\", \"pdf\"]\n",
    "    \n",
    "    if ext not in supported_types:\n",
    "        raise RuntimeError(f\"EXT must be one of: { ','.join(supported_types) }.\")\n",
    "    \n",
    "    config = f\".kicad_helpers_config/pcb_{ ext }.yaml\"\n",
    "    run_kibot_docker(config=config, root=root, v=v, output=output)"
   ]
  },
  {
   "cell_type": "markdown",
   "id": "7fbac32e-5116-47a7-a460-58884eac233d",
   "metadata": {},
   "source": [
    "This function can also be called via a command line script:\n",
    "\n",
    "```sh\n",
    "> kh_export_pcb --help\n",
    "```"
   ]
  },
  {
   "cell_type": "code",
   "execution_count": 35,
   "id": "c6b21865-6d81-4100-9794-c406fa7261fc",
   "metadata": {},
   "outputs": [
    {
     "name": "stdout",
     "output_type": "stream",
     "text": [
      "usage: kh_export_pcb [-h] [--root ROOT] [--ext EXT] [--v] [--output OUTPUT]\n",
      "\n",
      "Export the pcb layout by running KiBot in a local docker container.\n",
      "\n",
      "optional arguments:\n",
      "  -h, --help       show this help message and exit\n",
      "  --root ROOT      project root directory (default: .)\n",
      "  --ext EXT        svg or pdf (default: pdf)\n",
      "  --v              verbose (default: False)\n",
      "  --output OUTPUT  output path relative to ROOT (default: .)\n",
      "\n"
     ]
    }
   ],
   "source": [
    "#hide_input\n",
    "_print_cmd_output(\"kh_export_pcb --help\")"
   ]
  },
  {
   "cell_type": "markdown",
   "id": "28f19ba8-faf8-4d2a-9847-2784aa779a6e",
   "metadata": {},
   "source": [
    "Export the board layout as pdfs:\n",
    "\n",
    "```sh\n",
    "> kh_export_pcb --ext pdf --output outputs\n",
    "> tree outputs\n",
    "```"
   ]
  },
  {
   "cell_type": "code",
   "execution_count": 36,
   "id": "070f1030-adfb-44d1-9871-e391d580ee35",
   "metadata": {},
   "outputs": [
    {
     "name": "stdout",
     "output_type": "stream",
     "text": [
      "\n",
      ".\n",
      "├── 40-channel-hv-switching-board-3_3V.pdf\n",
      "├── 40-channel-hv-switching-board-B_Mask.pdf\n",
      "├── 40-channel-hv-switching-board-B_Paste.pdf\n",
      "├── 40-channel-hv-switching-board-B_SilkS.pdf\n",
      "├── 40-channel-hv-switching-board-Back.pdf\n",
      "├── 40-channel-hv-switching-board-Edge_Cuts.pdf\n",
      "├── 40-channel-hv-switching-board-F_Mask.pdf\n",
      "├── 40-channel-hv-switching-board-F_Paste.pdf\n",
      "├── 40-channel-hv-switching-board-F_SilkS.pdf\n",
      "├── 40-channel-hv-switching-board-Front.pdf\n",
      "└── 40-channel-hv-switching-board-GND.pdf\n",
      "\n",
      "0 directories, 11 files\n",
      "\n"
     ]
    }
   ],
   "source": [
    "#hide_input\n",
    "_print_cmd_output(f\"kh_export_pcb --root { root } --ext pdf --output { output_path[len(root) + 1:] }\")\n",
    "outputs = _run_cmd(f\"cd { os.path.join(root, output_path[len(root) + 1:]) } && tree .\")\n",
    "print(outputs)\n",
    "assert outputs == '.\\n├── 40-channel-hv-switching-board-3_3V.pdf\\n├── 40-channel-hv-switching-board-B_Mask.pdf\\n├── 40-channel-hv-switching-board-B_Paste.pdf\\n├── 40-channel-hv-switching-board-B_SilkS.pdf\\n├── 40-channel-hv-switching-board-Back.pdf\\n├── 40-channel-hv-switching-board-Edge_Cuts.pdf\\n├── 40-channel-hv-switching-board-F_Mask.pdf\\n├── 40-channel-hv-switching-board-F_Paste.pdf\\n├── 40-channel-hv-switching-board-F_SilkS.pdf\\n├── 40-channel-hv-switching-board-Front.pdf\\n└── 40-channel-hv-switching-board-GND.pdf\\n\\n0 directories, 11 files\\n'\n",
    "remove_test_outputs()"
   ]
  },
  {
   "cell_type": "markdown",
   "id": "1c703fb5-3a29-4551-a135-de1e8e604f96",
   "metadata": {},
   "source": [
    "Export the board layout as svgs:\n",
    "\n",
    "```sh\n",
    "> kh_export_pcb --ext svg --output outputs\n",
    "> tree outputs\n",
    "```"
   ]
  },
  {
   "cell_type": "code",
   "execution_count": 37,
   "id": "2f34bb76-7650-4033-8b42-6bc178366bbc",
   "metadata": {},
   "outputs": [
    {
     "name": "stdout",
     "output_type": "stream",
     "text": [
      ".\n",
      "├── 40-channel-hv-switching-board-3_3V.svg\n",
      "├── 40-channel-hv-switching-board-B_Mask.svg\n",
      "├── 40-channel-hv-switching-board-B_Paste.svg\n",
      "├── 40-channel-hv-switching-board-B_SilkS.svg\n",
      "├── 40-channel-hv-switching-board-Back.svg\n",
      "├── 40-channel-hv-switching-board-Edge_Cuts.svg\n",
      "├── 40-channel-hv-switching-board-F_Mask.svg\n",
      "├── 40-channel-hv-switching-board-F_Paste.svg\n",
      "├── 40-channel-hv-switching-board-F_SilkS.svg\n",
      "├── 40-channel-hv-switching-board-Front.svg\n",
      "└── 40-channel-hv-switching-board-GND.svg\n",
      "\n",
      "0 directories, 11 files\n",
      "\n"
     ]
    }
   ],
   "source": [
    "#hide_input\n",
    "_run_cmd(f\"kh_export_pcb --root { root } --ext svg --output { output_path[len(root) + 1:] }\")\n",
    "outputs = _run_cmd(f\"cd { os.path.join(root, output_path[len(root) + 1:]) } && tree .\")\n",
    "print(outputs)\n",
    "assert outputs == '.\\n├── 40-channel-hv-switching-board-3_3V.svg\\n├── 40-channel-hv-switching-board-B_Mask.svg\\n├── 40-channel-hv-switching-board-B_Paste.svg\\n├── 40-channel-hv-switching-board-B_SilkS.svg\\n├── 40-channel-hv-switching-board-Back.svg\\n├── 40-channel-hv-switching-board-Edge_Cuts.svg\\n├── 40-channel-hv-switching-board-F_Mask.svg\\n├── 40-channel-hv-switching-board-F_Paste.svg\\n├── 40-channel-hv-switching-board-F_SilkS.svg\\n├── 40-channel-hv-switching-board-Front.svg\\n└── 40-channel-hv-switching-board-GND.svg\\n\\n0 directories, 11 files\\n'\n",
    "remove_test_outputs()"
   ]
  },
  {
   "cell_type": "code",
   "execution_count": 38,
   "id": "6cc72cc6-046a-41ef-b3cb-82cd5e361749",
   "metadata": {},
   "outputs": [],
   "source": [
    "#export\n",
    "@call_parse\n",
    "def run_erc(root:Param(\"project root directory\", str)=\".\",\n",
    "            v:Param(\"verbose\", bool)=False):\n",
    "    \"\"\"Run electrical rules check (ERC) to verify schematic connections. It\n",
    "    checks for output pin conflicts, missing drivers and unconnected pins.\n",
    "    Print the report to `stdout`.\n",
    "    \"\"\"\n",
    "    root = _set_root(root)\n",
    "    cmd = f\"eeschema_do run_erc { get_schematic_path(root)[len(root) + 1:] } .\"\n",
    "    try:\n",
    "        output = run_docker_cmd(cmd,\n",
    "           workdir=os.path.abspath(root),\n",
    "           container=\"setsoft/kicad_auto_test:latest\",\n",
    "           v=v\n",
    "        )\n",
    "    except subprocess.CalledProcessError as e:\n",
    "        output = e.output.decode(\"utf-8\")\n",
    "    if v:\n",
    "        print(output)\n",
    "    erc_path = os.path.join(root, get_project_name(root) + \".erc\")\n",
    "    with open(erc_path, \"r\") as f:\n",
    "        erc = f.read()\n",
    "    os.remove(erc_path)\n",
    "    print(erc)"
   ]
  },
  {
   "cell_type": "markdown",
   "id": "4bb90679-64b2-4e9e-b664-d91fdc01d24e",
   "metadata": {},
   "source": [
    "This function can also be called via a command line script:\n",
    "\n",
    "```sh\n",
    "> kh_run_erc --help\n",
    "```"
   ]
  },
  {
   "cell_type": "code",
   "execution_count": 39,
   "id": "de425551-8152-4fca-9f8f-17985075f0fa",
   "metadata": {},
   "outputs": [
    {
     "name": "stdout",
     "output_type": "stream",
     "text": [
      "usage: kh_run_erc [-h] [--root ROOT] [--v]\n",
      "\n",
      "Run electrical rules check (ERC) to verify schematic connections. It checks for output pin conflicts, missing drivers\n",
      "and unconnected pins. Print the report to `stdout`.\n",
      "\n",
      "optional arguments:\n",
      "  -h, --help   show this help message and exit\n",
      "  --root ROOT  project root directory (default: .)\n",
      "  --v          verbose (default: False)\n",
      "\n"
     ]
    }
   ],
   "source": [
    "#hide_input\n",
    "_print_cmd_output(f\"kh_run_erc --help\")"
   ]
  },
  {
   "cell_type": "markdown",
   "id": "f9b0ad72-5bf3-4c07-beb6-ecb3c63289cf",
   "metadata": {},
   "source": [
    "The ERC report is printed to `stdout` and can be redirected to a file:\n",
    "\n",
    "```sh\n",
    "> kh_run_erc > erc_report.txt\n",
    "> cat erc_report.txt\n",
    "```"
   ]
  },
  {
   "cell_type": "code",
   "execution_count": 40,
   "id": "258d02d2-d735-4819-98dd-1108e50ef09f",
   "metadata": {},
   "outputs": [
    {
     "name": "stdout",
     "output_type": "stream",
     "text": [
      "ERC report (Thu Nov 25 18:17:54 2021, Encoding UTF8 )\n",
      "\n",
      "***** Sheet /\n",
      "\n",
      "***** Sheet /switches_0-19/\n",
      "\n",
      "***** Sheet /switches_20-39/\n",
      "\n",
      " ** ERC messages: 0  Errors 0  Warnings 0\n",
      "\n",
      "\n"
     ]
    }
   ],
   "source": [
    "#hide_input\n",
    "output = _run_cmd(f\"kh_run_erc --root { root }\")\n",
    "print(output)\n",
    "assert(output.startswith(\"ERC report\"))"
   ]
  },
  {
   "cell_type": "code",
   "execution_count": 41,
   "id": "09383612-051f-4bd8-a5cf-24cfedf468e0",
   "metadata": {},
   "outputs": [],
   "source": [
    "#export\n",
    "@call_parse\n",
    "def run_drc(root:Param(\"project root directory\", str)=\".\",\n",
    "            v:Param(\"verbose\", bool)=False):\n",
    "    \"\"\"Run design rules check (DRC) and print the report to `stdout`.\n",
    "    \"\"\"\n",
    "    root = _set_root(root)\n",
    "    cmd = f\"pcbnew_do run_drc { get_board_path(root)[len(root) + 1:] } .\"\n",
    "    try:\n",
    "        output = run_docker_cmd(cmd,\n",
    "            workdir=os.path.abspath(root),\n",
    "            container=\"setsoft/kicad_auto_test:latest\",\n",
    "            v=v\n",
    "        )\n",
    "    except subprocess.CalledProcessError as e:\n",
    "        output = e.output.decode(\"utf-8\")\n",
    "    if v:\n",
    "        print(output)\n",
    "    drc_path = os.path.join(root, \"drc_result.rpt\")\n",
    "    with open(drc_path, \"r\") as f:\n",
    "        drc = f.read()\n",
    "    os.remove(drc_path)\n",
    "    print(drc)"
   ]
  },
  {
   "cell_type": "markdown",
   "id": "91b49000-9c70-44cb-8d1d-a195fefd75c3",
   "metadata": {},
   "source": [
    "This function can also be called via a command line script:\n",
    "\n",
    "```sh\n",
    "> kh_run_drc --help\n",
    "```"
   ]
  },
  {
   "cell_type": "code",
   "execution_count": 42,
   "id": "c6062945-1e7f-443b-95e0-8a3298b848ed",
   "metadata": {},
   "outputs": [
    {
     "name": "stdout",
     "output_type": "stream",
     "text": [
      "usage: kh_run_drc [-h] [--root ROOT] [--v]\n",
      "\n",
      "Run design rules check (DRC) and print the report to `stdout`.\n",
      "\n",
      "optional arguments:\n",
      "  -h, --help   show this help message and exit\n",
      "  --root ROOT  project root directory (default: .)\n",
      "  --v          verbose (default: False)\n",
      "\n"
     ]
    }
   ],
   "source": [
    "#hide_input\n",
    "_print_cmd_output(f\"kh_run_drc --help\")"
   ]
  },
  {
   "cell_type": "markdown",
   "id": "12c0b94b-497f-43ed-bc18-f2a4dee59342",
   "metadata": {},
   "source": [
    "The DRC report is printed to `stdout` and can be redirected to a file:\n",
    "\n",
    "```sh\n",
    "> kh_run_drc > drc_report.txt\n",
    "> cat drc_report.txt\n",
    "```"
   ]
  },
  {
   "cell_type": "code",
   "execution_count": 43,
   "id": "2fea0ba4-b1de-4bcf-a05a-f185e767a3d0",
   "metadata": {},
   "outputs": [],
   "source": [
    "#hide\n",
    "\n",
    "# Checkout `.kicad_helpers_config/drc.yaml` because is contains filters\n",
    "# overriding the default template installed via `kh_update --overwrite`\n",
    "_run_cmd(f\"cd { root } && git checkout .kicad_helpers_config/drc.yaml\");"
   ]
  },
  {
   "cell_type": "code",
   "execution_count": 44,
   "id": "558157ce-0713-4c92-8fdf-227ec54f02b1",
   "metadata": {},
   "outputs": [
    {
     "name": "stdout",
     "output_type": "stream",
     "text": [
      "** Drc report for /workdir/40-channel-hv-switching-board.kicad_pcb **\n",
      "** Created on 2021-11-25 18:18:12 **\n",
      "\n",
      "** Found 4 DRC errors **\n",
      "ErrType(45): Courtyards overlap\n",
      "    @(90.400 mm, 105.600 mm): Footprint C6 on Front\n",
      "    @(88.500 mm, 105.600 mm): Footprint C7 on Front\n",
      "ErrType(45): Courtyards overlap\n",
      "    @(37.725 mm, 111.425 mm): Footprint R99 on Front\n",
      "    @(34.725 mm, 111.425 mm): Footprint R125 on Front\n",
      "ErrType(45): Courtyards overlap\n",
      "    @(37.750 mm, 113.475 mm): Footprint R100 on Front\n",
      "    @(34.725 mm, 113.475 mm): Footprint R126 on Front\n",
      "ErrType(45): Courtyards overlap\n",
      "    @(44.450 mm, 110.200 mm): Footprint FB1 on Back\n",
      "    @(44.450 mm, 111.900 mm): Footprint FB3 on Back\n",
      "\n",
      "** Found 0 unconnected pads **\n",
      "\n",
      "** End of Report **\n",
      "\n",
      "\n"
     ]
    }
   ],
   "source": [
    "#hide_input\n",
    "output = _run_cmd(f\"kh_run_drc --root { root }\")\n",
    "print(output)\n",
    "assert output.startswith(\"** Drc report for\")"
   ]
  },
  {
   "cell_type": "code",
   "execution_count": 45,
   "id": "3d5aa256-7ccd-4852-99a8-e7a903c61615",
   "metadata": {},
   "outputs": [],
   "source": [
    "#export\n",
    "@call_parse\n",
    "def set_date(date:Param(\"date (defaults to today's date)\", str)=None,\n",
    "             root:Param(\"project root directory\", str)=\".\",\n",
    "             v:Param(\"verbose\", bool)=False):\n",
    "    \"\"\"Set the date in all schematic and board files.\n",
    "    \"\"\"\n",
    "    root = _set_root(root)\n",
    "    if date is None:\n",
    "        date = dt.datetime.now().date().isoformat()\n",
    "    update_schematic_metadata({\"Date\": date},\n",
    "                              root=root, all_sheets=True)\n",
    "    update_board_metadata({\"date\": date}, root=root)"
   ]
  },
  {
   "cell_type": "markdown",
   "id": "cc13a40c-6ba7-47e3-b6c3-fb5bbb9f21b5",
   "metadata": {},
   "source": [
    "The following command sets the date in all schematic and board files to today's date:\n",
    "\n",
    "```sh\n",
    "> kh_set_date\n",
    "```"
   ]
  },
  {
   "cell_type": "code",
   "execution_count": 46,
   "id": "49c8c054-db68-4425-954c-2e97e1e98d56",
   "metadata": {},
   "outputs": [
    {
     "name": "stdout",
     "output_type": "stream",
     "text": [
      "schematic_metadata = {'Title': '\"40-channel HV switching board\"', 'Date': '\"2021-11-25\"', 'Rev': '\"v1.0\"', 'Comp': '\"Sci-Bots Inc.\"'}\n",
      "board_metadata = {'title': '\"40-channel HV switching board\"', 'date': '2021-11-25', 'rev': 'v1.0', 'company': '\"Sci-Bots Inc.\"'}\n"
     ]
    }
   ],
   "source": [
    "#hide_input\n",
    "_run_cmd(f\"kh_set_date --root { root }\")\n",
    "print(f\"schematic_metadata = { get_schematic_metadata(root) }\")\n",
    "print(f\"board_metadata = { get_board_metadata(root) }\")"
   ]
  },
  {
   "cell_type": "code",
   "execution_count": 47,
   "id": "57be8139-49a2-4f80-a919-bd72dfa12c9b",
   "metadata": {},
   "outputs": [],
   "source": [
    "#export\n",
    "@call_parse\n",
    "def set_revision(revision:Param(\"revision\", str),\n",
    "                 root:Param(\"project root directory\", str)=\".\",\n",
    "                 v:Param(\"verbose\", bool)=False):\n",
    "    \"\"\"Set the revision in all schematic and board files.\n",
    "    \"\"\"\n",
    "    root = _set_root(root)\n",
    "    update_schematic_metadata({\"Rev\": revision},\n",
    "                              root=root, all_sheets=True)\n",
    "    update_board_metadata({\"rev\": revision}, root=root)"
   ]
  },
  {
   "cell_type": "markdown",
   "id": "a66cd1ff-1302-4727-903a-dbb800344ac0",
   "metadata": {},
   "source": [
    "The following command sets the revision in all schematic and board files:\n",
    "\n",
    "```sh\n",
    "> kh_set_revision v1.0\n",
    "```"
   ]
  },
  {
   "cell_type": "code",
   "execution_count": 48,
   "id": "4bbc250f-ffdc-4424-afb5-7fb3ea176487",
   "metadata": {},
   "outputs": [
    {
     "name": "stdout",
     "output_type": "stream",
     "text": [
      "schematic_metadata = {'Title': '\"40-channel HV switching board\"', 'Date': '\"2021-11-25\"', 'Rev': '\"v1.0\"', 'Comp': '\"Sci-Bots Inc.\"'}\n",
      "board_metadata = {'title': '\"40-channel HV switching board\"', 'date': '2021-11-25', 'rev': 'v1.0', 'company': '\"Sci-Bots Inc.\"'}\n"
     ]
    }
   ],
   "source": [
    "#hide_input\n",
    "_run_cmd(f\"kh_set_revision --root { root } v1.0\")\n",
    "print(f\"schematic_metadata = { get_schematic_metadata(root) }\")\n",
    "print(f\"board_metadata = { get_board_metadata(root) }\")"
   ]
  },
  {
   "cell_type": "code",
   "execution_count": 49,
   "id": "b7d2553c-bd78-44b9-87c4-063ce86fb273",
   "metadata": {},
   "outputs": [
    {
     "name": "stdout",
     "output_type": "stream",
     "text": [
      "Converted 00_actions.ipynb.\n",
      "Converted 01_test.ipynb.\n",
      "Converted 02_utilities.ipynb.\n",
      "Converted index.ipynb.\n"
     ]
    }
   ],
   "source": [
    "#hide\n",
    "notebook2script()"
   ]
  }
 ],
 "metadata": {
  "kernelspec": {
   "display_name": "Python 3 (ipykernel)",
   "language": "python",
   "name": "python3"
  },
  "language_info": {
   "codemirror_mode": {
    "name": "ipython",
    "version": 3
   },
   "file_extension": ".py",
   "mimetype": "text/x-python",
   "name": "python",
   "nbconvert_exporter": "python",
   "pygments_lexer": "ipython3",
   "version": "3.9.7"
  }
 },
 "nbformat": 4,
 "nbformat_minor": 5
}
