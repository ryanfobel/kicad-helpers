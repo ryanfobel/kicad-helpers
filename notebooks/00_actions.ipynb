{
 "cells": [
  {
   "cell_type": "code",
   "execution_count": 1,
   "id": "63c3d1ea-5269-4e4e-bc12-a27f7392a9a8",
   "metadata": {},
   "outputs": [],
   "source": [
    "#hide\n",
    "#default_exp actions\n",
    "from nbdev.showdoc import show_doc\n",
    "from nbdev.export import notebook2script\n",
    "import shutil"
   ]
  },
  {
   "cell_type": "markdown",
   "id": "32f4c677-eaec-4b28-92e3-3aa428b618a1",
   "metadata": {},
   "source": [
    "# Actions\n",
    "\n",
    "> Functions and scripts that act on a KiCad project\n",
    "\n",
    "* toc: true"
   ]
  },
  {
   "cell_type": "code",
   "execution_count": 2,
   "id": "544c65a0-96d9-4890-8901-aaeddbca732d",
   "metadata": {},
   "outputs": [],
   "source": [
    "#export\n",
    "import os\n",
    "import sys\n",
    "import pkg_resources\n",
    "import subprocess\n",
    "\n",
    "import jinja2\n",
    "from fastcore.script import *\n",
    "import pandas as pd\n",
    "\n",
    "from kicad_helpers import *\n",
    "from kicad_helpers.utilities import _set_root"
   ]
  },
  {
   "cell_type": "code",
   "execution_count": 3,
   "id": "16ae823c-b16e-4c65-9d29-a80316e12bb2",
   "metadata": {},
   "outputs": [],
   "source": [
    "#export\n",
    "@call_parse\n",
    "def update_templates(v:Param(\"verbose\", bool),\n",
    "                     overwrite:Param(\"overwrite existing templates\", bool),\n",
    "                     root:Param(\"project root directory\", str)=\".\"):\n",
    "    \"\"\"\n",
    "    Install various templates from the `kicad_helpers/templates` directory\n",
    "    (ignoring anything in the project's `.gitignore` list).\n",
    "    \"\"\"\n",
    "    templates_path = os.path.abspath(pkg_resources.resource_filename('kicad_helpers', 'templates'))\n",
    "    root = _set_root(root)\n",
    "    metadata = get_project_metadata(root)\n",
    "    file_list = []\n",
    "    exists_flag = False\n",
    "    for root_, dirs, files in os.walk(templates_path):\n",
    "        if len(files):\n",
    "            for file in files:\n",
    "                path = os.path.join(root_[len(templates_path) + 1:], file)\n",
    "                if not in_gitignore(path):\n",
    "                    src_path = os.path.abspath(os.path.join(templates_path, path))\n",
    "                    dst_path = os.path.abspath(os.path.join(root, path))\n",
    "                    \n",
    "                    # Create the `dst_path` directory if it doesn't exist\n",
    "                    os.makedirs(os.path.split(dst_path)[0], exist_ok=True)\n",
    "\n",
    "                    if os.path.exists(dst_path):\n",
    "                        if not overwrite:\n",
    "                            if v:\n",
    "                                print(f\"{ path } already exists\")\n",
    "                                exists_flag = True\n",
    "                            continue\n",
    "    \n",
    "                    with open(src_path) as f:\n",
    "                        template = jinja2.Template(f.read())\n",
    "\n",
    "                    with open(dst_path, \"w\") as f:\n",
    "                        if v:\n",
    "                            print(f\"Rendering { path } template.\")\n",
    "                        f.write(template.render(**metadata))\n",
    "                        \n",
    "    if not overwrite and exists_flag:\n",
    "        print(\"To overwrite existing files, use the --overwrite flag.\")"
   ]
  },
  {
   "cell_type": "markdown",
   "id": "08c0d9df-ed75-4918-b16c-1d67fdf0d4b2",
   "metadata": {},
   "source": [
    "Similar to [nbdev_new](https://nbdev.fast.ai/tutorial.html#Set-up-Repo). Templates are stored in the [kicad_helpers/templates](https://github.com/ryanfobel/kicad-helpers/tree/main/kicad_helpers/templates) folder and are included with the python package by adding `graft kicad_helpers/templates` to the [MANIFEST.in](https://github.com/ryanfobel/kicad-helpers/blob/main/MANIFEST.in) file."
   ]
  },
  {
   "cell_type": "code",
   "execution_count": 4,
   "id": "9748742e-ef1f-41af-a1ac-761453932637",
   "metadata": {},
   "outputs": [],
   "source": [
    "#hide\n",
    "\n",
    "# Install the patched version of kifield if it isn't already installed\n",
    "# See: https://github.com/devbisme/KiField/issues/59#issuecomment-952298997\n",
    "if subprocess.check_output([sys.executable, \"-m\", \"kifield\", \"--help\"]).decode(\"utf-8\").find('addquantidty') > 0:\n",
    "    install_python_package(\"git+https://github.com/ryanfobel/KiField.git@add-quantity\")\n",
    "root = os.path.join(get_git_root(\".\"), \"_temp\")\n",
    "setup_test_repo(root)"
   ]
  },
  {
   "cell_type": "markdown",
   "id": "65bb2529-1f08-4c2f-bb61-94f9f6d35ac1",
   "metadata": {},
   "source": [
    "```sh\n",
    "> kh_update --help\n",
    "```"
   ]
  },
  {
   "cell_type": "code",
   "execution_count": 5,
   "id": "c6467f6e-8224-4342-b661-b40896023453",
   "metadata": {},
   "outputs": [
    {
     "name": "stdout",
     "output_type": "stream",
     "text": [
      "usage: kh_update [-h] [--v] [--overwrite] [--root ROOT]\n",
      "\n",
      "Install various templates from the `kicad_helpers/templates` directory (ignoring anything in the project's `.gitignore`\n",
      "list).\n",
      "\n",
      "optional arguments:\n",
      "  -h, --help   show this help message and exit\n",
      "  --v          verbose (default: False)\n",
      "  --overwrite  overwrite existing templates (default: False)\n",
      "  --root ROOT  project root directory (default: .)\n",
      "\n"
     ]
    }
   ],
   "source": [
    "#hide_input\n",
    "print(subprocess.check_output(f\"kh_update --help\", shell=True).decode(\"utf-8\"))"
   ]
  },
  {
   "cell_type": "markdown",
   "id": "85479a6e-b0a9-471e-a3d2-304a05467bcd",
   "metadata": {},
   "source": [
    "```sh\n",
    "> kh_update --v --overwrite\n",
    "```"
   ]
  },
  {
   "cell_type": "code",
   "execution_count": 6,
   "id": "deeea36f-ff52-4c1c-ac05-8d00a8222fcf",
   "metadata": {},
   "outputs": [
    {
     "name": "stdout",
     "output_type": "stream",
     "text": [
      "Rendering kitspace.yaml template.\n",
      "Rendering settings.ini template.\n",
      "Rendering .github/workflows/build.yml template.\n",
      "Rendering .kicad_helpers_config/pcb_pdf.yaml template.\n",
      "Rendering .kicad_helpers_config/pcb_svg.yaml template.\n",
      "Rendering .kicad_helpers_config/sch_pdf.yaml template.\n",
      "Rendering .kicad_helpers_config/sch_svg.yaml template.\n",
      "Rendering .kicad_helpers_config/manufacturers/default.yaml template.\n",
      "Rendering .kicad_helpers_config/manufacturers/PCBWay.yaml template.\n",
      "Rendering tests/tests.ipynb template.\n",
      "\n"
     ]
    }
   ],
   "source": [
    "#hide_input\n",
    "print(subprocess.check_output(f\"kh_update --v --overwrite --root { root }\", shell=True).decode(\"utf-8\"))"
   ]
  },
  {
   "cell_type": "code",
   "execution_count": 7,
   "id": "05765965-1fbb-4739-b7ec-5ecc0a3ba6b7",
   "metadata": {},
   "outputs": [],
   "source": [
    "#export\n",
    "@call_parse\n",
    "def sch_to_bom(root:Param(\"project root directory\", str)=\".\",\n",
    "               v:Param(\"verbose\", bool)=False,\n",
    "               overwrite:Param(\"update existing schematic\", bool)=False):\n",
    "    \"\"\"\n",
    "    Update/create BOM from KiCad schematic.\n",
    "    \"\"\"\n",
    "    root = _set_root(root)\n",
    "    cmd = f\"{ sys.executable } -m kifield --nobackup --overwrite --group -aq -x { get_schematic_path(root) } -i { get_bom_path(root) }\"\n",
    "    if v:\n",
    "        print(cmd)\n",
    "    subprocess.check_output(cmd, shell=True)"
   ]
  },
  {
   "cell_type": "markdown",
   "id": "f1ca7452-1ad6-4e4f-8a04-932558bde3ce",
   "metadata": {},
   "source": [
    "This function can also be called via a command line script:\n",
    "\n",
    "```sh\n",
    "> kh_sch_to_bom --help\n",
    "```"
   ]
  },
  {
   "cell_type": "code",
   "execution_count": 8,
   "id": "8774b184-aba2-4ecd-ba55-4dd607e9f42b",
   "metadata": {},
   "outputs": [
    {
     "name": "stdout",
     "output_type": "stream",
     "text": [
      "usage: kh_sch_to_bom [-h] [--root ROOT] [--v] [--overwrite]\n",
      "\n",
      "Update/create BOM from KiCad schematic.\n",
      "\n",
      "optional arguments:\n",
      "  -h, --help   show this help message and exit\n",
      "  --root ROOT  project root directory (default: .)\n",
      "  --v          verbose (default: False)\n",
      "  --overwrite  update existing schematic (default: False)\n",
      "\n"
     ]
    }
   ],
   "source": [
    "#hide_input\n",
    "print(subprocess.check_output(\"kh_sch_to_bom --help\", shell=True).decode(\"utf-8\"))"
   ]
  },
  {
   "cell_type": "markdown",
   "id": "a43c584d-0910-48cb-8362-c53b6bf273bb",
   "metadata": {},
   "source": [
    "Running `kh_sch_to_bom` within your project dictory will generate a BOM file (e.g., `manufacturing/default/project-name-BOM.csv`) by extracting fields from the KiCad schematic file (e.g., `project-name.sch`).\n",
    "\n",
    "```sh\n",
    "> kh_sch_to_bom --v\n",
    "```"
   ]
  },
  {
   "cell_type": "code",
   "execution_count": 9,
   "id": "e463b18f-13b9-44bd-be32-d62c2095260f",
   "metadata": {},
   "outputs": [
    {
     "name": "stdout",
     "output_type": "stream",
     "text": [
      "/home/ryan/miniconda3/envs/kh/bin/python3.9 -m kifield --nobackup --overwrite --group -aq -x /mnt/c/Users/ryan/OneDrive/dev/python/kicad-helpers/_temp/40-channel-hv-switching-board.sch -i /mnt/c/Users/ryan/OneDrive/dev/python/kicad-helpers/_temp/manufacturing/default/40-channel-hv-switching-board-BOM.csv\n",
      "\n"
     ]
    }
   ],
   "source": [
    "#hide_input\n",
    "print(subprocess.check_output(f\"kh_sch_to_bom --v --root { root }\", shell=True).decode(\"utf-8\"))"
   ]
  },
  {
   "cell_type": "markdown",
   "id": "2492c897-f527-416e-bc19-1847a10dc5b0",
   "metadata": {},
   "source": [
    "Here's an example of a BOM extracted from a KiCad schematic."
   ]
  },
  {
   "cell_type": "code",
   "execution_count": 10,
   "id": "f50c57d9-d659-4ef2-b610-2da53c7a4a7f",
   "metadata": {},
   "outputs": [
    {
     "data": {
      "text/html": [
       "<div>\n",
       "<style scoped>\n",
       "    .dataframe tbody tr th:only-of-type {\n",
       "        vertical-align: middle;\n",
       "    }\n",
       "\n",
       "    .dataframe tbody tr th {\n",
       "        vertical-align: top;\n",
       "    }\n",
       "\n",
       "    .dataframe thead th {\n",
       "        text-align: right;\n",
       "    }\n",
       "</style>\n",
       "<table border=\"1\" class=\"dataframe\">\n",
       "  <thead>\n",
       "    <tr style=\"text-align: right;\">\n",
       "      <th></th>\n",
       "      <th>Refs</th>\n",
       "      <th>Quantity</th>\n",
       "      <th>MPN</th>\n",
       "      <th>Manufacturer</th>\n",
       "      <th>datasheet</th>\n",
       "      <th>footprint</th>\n",
       "      <th>value</th>\n",
       "    </tr>\n",
       "  </thead>\n",
       "  <tbody>\n",
       "    <tr>\n",
       "      <th>0</th>\n",
       "      <td>C1, C3, C5, C6, C8-C13, C16</td>\n",
       "      <td>11</td>\n",
       "      <td>CL21B104KBCNNNC</td>\n",
       "      <td>Samsung</td>\n",
       "      <td>NaN</td>\n",
       "      <td>Capacitors_SMD:C_0805</td>\n",
       "      <td>0.1uF</td>\n",
       "    </tr>\n",
       "    <tr>\n",
       "      <th>1</th>\n",
       "      <td>C14, C15</td>\n",
       "      <td>2</td>\n",
       "      <td>CL21C151JBANNNC</td>\n",
       "      <td>Samsung</td>\n",
       "      <td>NaN</td>\n",
       "      <td>Capacitors_SMD:C_0805</td>\n",
       "      <td>150pF</td>\n",
       "    </tr>\n",
       "    <tr>\n",
       "      <th>2</th>\n",
       "      <td>C2, C4</td>\n",
       "      <td>2</td>\n",
       "      <td>T491D336K020AT</td>\n",
       "      <td>KEMET</td>\n",
       "      <td>NaN</td>\n",
       "      <td>Sci-Bots:SM2917</td>\n",
       "      <td>33uF</td>\n",
       "    </tr>\n",
       "    <tr>\n",
       "      <th>3</th>\n",
       "      <td>C7</td>\n",
       "      <td>1</td>\n",
       "      <td>CL21B103KCANNNC</td>\n",
       "      <td>Samsung</td>\n",
       "      <td>NaN</td>\n",
       "      <td>Capacitors_SMD:C_0805</td>\n",
       "      <td>0.01uF</td>\n",
       "    </tr>\n",
       "    <tr>\n",
       "      <th>4</th>\n",
       "      <td>DS1</td>\n",
       "      <td>1</td>\n",
       "      <td>150080BS75000</td>\n",
       "      <td>Würth Elektronik</td>\n",
       "      <td>NaN</td>\n",
       "      <td>LEDs:LED_0805</td>\n",
       "      <td>+3.3V_PWR</td>\n",
       "    </tr>\n",
       "    <tr>\n",
       "      <th>5</th>\n",
       "      <td>FB1-FB5</td>\n",
       "      <td>5</td>\n",
       "      <td>742792040</td>\n",
       "      <td>Würth Elektronik</td>\n",
       "      <td>NaN</td>\n",
       "      <td>Resistors_SMD:R_0805</td>\n",
       "      <td>FERRITE</td>\n",
       "    </tr>\n",
       "    <tr>\n",
       "      <th>6</th>\n",
       "      <td>JP1</td>\n",
       "      <td>1</td>\n",
       "      <td>NaN</td>\n",
       "      <td>NaN</td>\n",
       "      <td>NaN</td>\n",
       "      <td>Resistors_SMD:R_0805</td>\n",
       "      <td>JUMPER</td>\n",
       "    </tr>\n",
       "    <tr>\n",
       "      <th>7</th>\n",
       "      <td>P1</td>\n",
       "      <td>1</td>\n",
       "      <td>NaN</td>\n",
       "      <td>NaN</td>\n",
       "      <td>NaN</td>\n",
       "      <td>Pin_Headers:Pin_Header_Angled_1x06</td>\n",
       "      <td>CONN_01X06</td>\n",
       "    </tr>\n",
       "    <tr>\n",
       "      <th>8</th>\n",
       "      <td>P2</td>\n",
       "      <td>1</td>\n",
       "      <td>NaN</td>\n",
       "      <td>NaN</td>\n",
       "      <td>NaN</td>\n",
       "      <td>Pin_Headers:Pin_Header_Straight_2x03</td>\n",
       "      <td>CONN_01X06</td>\n",
       "    </tr>\n",
       "    <tr>\n",
       "      <th>9</th>\n",
       "      <td>P3-P6</td>\n",
       "      <td>4</td>\n",
       "      <td>NaN</td>\n",
       "      <td>NaN</td>\n",
       "      <td>NaN</td>\n",
       "      <td>Connect:1pin</td>\n",
       "      <td>CONN_01X01</td>\n",
       "    </tr>\n",
       "    <tr>\n",
       "      <th>10</th>\n",
       "      <td>P7</td>\n",
       "      <td>1</td>\n",
       "      <td>TFM-125-02-L-DH</td>\n",
       "      <td>Samtec</td>\n",
       "      <td>NaN</td>\n",
       "      <td>Sci-Bots:TFM-125-02-X-DH</td>\n",
       "      <td>TFM-125-02-X-DH</td>\n",
       "    </tr>\n",
       "    <tr>\n",
       "      <th>11</th>\n",
       "      <td>R99, R100</td>\n",
       "      <td>2</td>\n",
       "      <td>RC0805FR-0751RL</td>\n",
       "      <td>Yageo</td>\n",
       "      <td>NaN</td>\n",
       "      <td>Resistors_SMD:R_0805</td>\n",
       "      <td>51</td>\n",
       "    </tr>\n",
       "    <tr>\n",
       "      <th>12</th>\n",
       "      <td>R125, R126</td>\n",
       "      <td>2</td>\n",
       "      <td>RC0805FR-07150RL</td>\n",
       "      <td>Yageo</td>\n",
       "      <td>NaN</td>\n",
       "      <td>Resistors_SMD:R_0805</td>\n",
       "      <td>150</td>\n",
       "    </tr>\n",
       "    <tr>\n",
       "      <th>13</th>\n",
       "      <td>R43</td>\n",
       "      <td>1</td>\n",
       "      <td>RC0805FR-0710KL</td>\n",
       "      <td>Yageo</td>\n",
       "      <td>NaN</td>\n",
       "      <td>Resistors_SMD:R_0805</td>\n",
       "      <td>10k</td>\n",
       "    </tr>\n",
       "    <tr>\n",
       "      <th>14</th>\n",
       "      <td>R45</td>\n",
       "      <td>1</td>\n",
       "      <td>RC0805FR-071KL</td>\n",
       "      <td>Yageo</td>\n",
       "      <td>NaN</td>\n",
       "      <td>Resistors_SMD:R_0805</td>\n",
       "      <td>1k</td>\n",
       "    </tr>\n",
       "    <tr>\n",
       "      <th>15</th>\n",
       "      <td>U1-U5</td>\n",
       "      <td>5</td>\n",
       "      <td>MM74HC595MX</td>\n",
       "      <td>onsemi</td>\n",
       "      <td>~</td>\n",
       "      <td>Sci-Bots:SO16E</td>\n",
       "      <td>74HC595A</td>\n",
       "    </tr>\n",
       "    <tr>\n",
       "      <th>16</th>\n",
       "      <td>U6</td>\n",
       "      <td>1</td>\n",
       "      <td>W25Q64FVSSIG TR</td>\n",
       "      <td>Winbond</td>\n",
       "      <td>NaN</td>\n",
       "      <td>SMD_Packages:SOIC-8-N</td>\n",
       "      <td>W25Q64FV</td>\n",
       "    </tr>\n",
       "    <tr>\n",
       "      <th>17</th>\n",
       "      <td>U7</td>\n",
       "      <td>1</td>\n",
       "      <td>ATMEGA328P-AU</td>\n",
       "      <td>Microchip</td>\n",
       "      <td>NaN</td>\n",
       "      <td>Housings_QFP:TQFP-32_7x7mm_Pitch0.8mm</td>\n",
       "      <td>ATMEGA328P-AU</td>\n",
       "    </tr>\n",
       "    <tr>\n",
       "      <th>18</th>\n",
       "      <td>Y1</td>\n",
       "      <td>1</td>\n",
       "      <td>CSTCE8M00G55-R0</td>\n",
       "      <td>Murata</td>\n",
       "      <td>http://www.murata.com/~/media/webrenewal/suppo...</td>\n",
       "      <td>Sci-Bots:CSTCE_G15C</td>\n",
       "      <td>RESONATOR</td>\n",
       "    </tr>\n",
       "  </tbody>\n",
       "</table>\n",
       "</div>"
      ],
      "text/plain": [
       "                           Refs  Quantity               MPN      Manufacturer  \\\n",
       "0   C1, C3, C5, C6, C8-C13, C16        11   CL21B104KBCNNNC           Samsung   \n",
       "1                      C14, C15         2   CL21C151JBANNNC           Samsung   \n",
       "2                        C2, C4         2    T491D336K020AT             KEMET   \n",
       "3                            C7         1   CL21B103KCANNNC           Samsung   \n",
       "4                           DS1         1     150080BS75000  Würth Elektronik   \n",
       "5                       FB1-FB5         5         742792040  Würth Elektronik   \n",
       "6                           JP1         1               NaN               NaN   \n",
       "7                            P1         1               NaN               NaN   \n",
       "8                            P2         1               NaN               NaN   \n",
       "9                         P3-P6         4               NaN               NaN   \n",
       "10                           P7         1   TFM-125-02-L-DH            Samtec   \n",
       "11                    R99, R100         2   RC0805FR-0751RL             Yageo   \n",
       "12                   R125, R126         2  RC0805FR-07150RL             Yageo   \n",
       "13                          R43         1   RC0805FR-0710KL             Yageo   \n",
       "14                          R45         1    RC0805FR-071KL             Yageo   \n",
       "15                        U1-U5         5       MM74HC595MX            onsemi   \n",
       "16                           U6         1   W25Q64FVSSIG TR           Winbond   \n",
       "17                           U7         1     ATMEGA328P-AU         Microchip   \n",
       "18                           Y1         1   CSTCE8M00G55-R0            Murata   \n",
       "\n",
       "                                            datasheet  \\\n",
       "0                                                 NaN   \n",
       "1                                                 NaN   \n",
       "2                                                 NaN   \n",
       "3                                                 NaN   \n",
       "4                                                 NaN   \n",
       "5                                                 NaN   \n",
       "6                                                 NaN   \n",
       "7                                                 NaN   \n",
       "8                                                 NaN   \n",
       "9                                                 NaN   \n",
       "10                                                NaN   \n",
       "11                                                NaN   \n",
       "12                                                NaN   \n",
       "13                                                NaN   \n",
       "14                                                NaN   \n",
       "15                                                  ~   \n",
       "16                                                NaN   \n",
       "17                                                NaN   \n",
       "18  http://www.murata.com/~/media/webrenewal/suppo...   \n",
       "\n",
       "                                footprint            value  \n",
       "0                   Capacitors_SMD:C_0805            0.1uF  \n",
       "1                   Capacitors_SMD:C_0805            150pF  \n",
       "2                         Sci-Bots:SM2917             33uF  \n",
       "3                   Capacitors_SMD:C_0805           0.01uF  \n",
       "4                           LEDs:LED_0805        +3.3V_PWR  \n",
       "5                    Resistors_SMD:R_0805          FERRITE  \n",
       "6                    Resistors_SMD:R_0805           JUMPER  \n",
       "7      Pin_Headers:Pin_Header_Angled_1x06       CONN_01X06  \n",
       "8    Pin_Headers:Pin_Header_Straight_2x03       CONN_01X06  \n",
       "9                            Connect:1pin       CONN_01X01  \n",
       "10               Sci-Bots:TFM-125-02-X-DH  TFM-125-02-X-DH  \n",
       "11                   Resistors_SMD:R_0805               51  \n",
       "12                   Resistors_SMD:R_0805              150  \n",
       "13                   Resistors_SMD:R_0805              10k  \n",
       "14                   Resistors_SMD:R_0805               1k  \n",
       "15                         Sci-Bots:SO16E         74HC595A  \n",
       "16                  SMD_Packages:SOIC-8-N         W25Q64FV  \n",
       "17  Housings_QFP:TQFP-32_7x7mm_Pitch0.8mm    ATMEGA328P-AU  \n",
       "18                    Sci-Bots:CSTCE_G15C        RESONATOR  "
      ]
     },
     "execution_count": 10,
     "metadata": {},
     "output_type": "execute_result"
    }
   ],
   "source": [
    "#hide_input\n",
    "df = pd.read_csv(get_bom_path(root))\n",
    "df"
   ]
  },
  {
   "cell_type": "code",
   "execution_count": 11,
   "id": "bc6cd366-8deb-454d-bd9c-71555889c315",
   "metadata": {},
   "outputs": [],
   "source": [
    "#export\n",
    "@call_parse\n",
    "def bom_to_sch(root:Param(\"project root directory\", str)=\".\",\n",
    "               v:Param(\"verbose\", bool)=False,\n",
    "               overwrite:Param(\"update existing schematic\", bool)=False):\n",
    "    \"\"\"\n",
    "    Update KiCad schematic from BOM file.\n",
    "    \"\"\"\n",
    "    root = _set_root(root)\n",
    "    cmd = f\"{ sys.executable } -m kifield --nobackup --overwrite --fields ~quantity -x { get_bom_path(root) } -i { get_schematic_path(root) }\"\n",
    "    if v:\n",
    "        print(cmd)\n",
    "    subprocess.check_output(cmd, shell=True)"
   ]
  },
  {
   "cell_type": "markdown",
   "id": "8c6fca8d-60bc-4c45-a994-10e7c0317a72",
   "metadata": {},
   "source": [
    "This function can also be called via a command line script:\n",
    "\n",
    "```sh\n",
    "> kh_bom_to_sch --help\n",
    "```"
   ]
  },
  {
   "cell_type": "code",
   "execution_count": 12,
   "id": "3a62715d-f197-4c9d-a1c5-cd967023c9f9",
   "metadata": {},
   "outputs": [
    {
     "name": "stdout",
     "output_type": "stream",
     "text": [
      "usage: kh_bom_to_sch [-h] [--root ROOT] [--v] [--overwrite]\n",
      "\n",
      "Update KiCad schematic from BOM file.\n",
      "\n",
      "optional arguments:\n",
      "  -h, --help   show this help message and exit\n",
      "  --root ROOT  project root directory (default: .)\n",
      "  --v          verbose (default: False)\n",
      "  --overwrite  update existing schematic (default: False)\n",
      "\n"
     ]
    }
   ],
   "source": [
    "#hide_input\n",
    "print(subprocess.check_output(\"kh_bom_to_sch --help\", shell=True).decode(\"utf-8\"))"
   ]
  },
  {
   "cell_type": "markdown",
   "id": "0f9845ce-6a43-4d0d-849d-b4f900072bec",
   "metadata": {},
   "source": [
    "Running `kh_bom_to_sch` within your project dictory will read the BOM file (e.g., `manufacturing/default/project-name-BOM.csv`), and import the fields back into the KiCad schematic file (e.g., `project-name.sch`).\n",
    "\n",
    "```sh\n",
    "> kh_sch_to_bom --v\n",
    "```"
   ]
  },
  {
   "cell_type": "code",
   "execution_count": 13,
   "id": "f67dcbab-ac77-4177-b5a8-7d2bd9d740a8",
   "metadata": {},
   "outputs": [
    {
     "name": "stdout",
     "output_type": "stream",
     "text": [
      "/home/ryan/miniconda3/envs/kh/bin/python3.9 -m kifield --nobackup --overwrite --fields ~quantity -x /mnt/c/Users/ryan/OneDrive/dev/python/kicad-helpers/_temp/manufacturing/default/40-channel-hv-switching-board-BOM.csv -i /mnt/c/Users/ryan/OneDrive/dev/python/kicad-helpers/_temp/40-channel-hv-switching-board.sch\n",
      "\n"
     ]
    }
   ],
   "source": [
    "#hide_input\n",
    "print(subprocess.check_output(f\"kh_bom_to_sch --v --root { root }\", shell=True).decode(\"utf-8\"))"
   ]
  },
  {
   "cell_type": "code",
   "execution_count": 14,
   "id": "d1851280-9420-49ff-8a0c-5fa3337d928f",
   "metadata": {},
   "outputs": [],
   "source": [
    "#export\n",
    "def run_kibot_docker(config:Param(f\"kibot configuation file\", str),\n",
    "              root:Param(\"project root directory\", str)=\".\",\n",
    "              v:Param(\"verbose\", bool)=False,\n",
    "              output:Param(\"output path relative to ROOT\")=\".\"):\n",
    "    \"\"\"\n",
    "    Run kibot script in a local docker container.\n",
    "    \"\"\"\n",
    "    root = _set_root(root)\n",
    "    if os.path.abspath(output) == output:\n",
    "        print(f\"OUTPUT cannot be an absolute path; it must be relative to ROOT={ root }.\")\n",
    "        return 1\n",
    "    \n",
    "    UID = subprocess.check_output(\"id -u\", shell=True).decode(\"utf-8\").strip()\n",
    "    GID = subprocess.check_output(\"id -g\", shell=True).decode(\"utf-8\").strip()    \n",
    "   \n",
    "    cmd = (f\"docker run --rm -v { os.path.abspath(root) }:/workdir --workdir=\\\"/workdir\\\" \"\n",
    "           f\"setsoft/kicad_auto_test:latest \"\n",
    "           f\"/bin/bash -c \\\"useradd --shell /bin/bash -u { UID } -o -c '' -m docker && \"\n",
    "           f\"runuser docker -c 'kibot -c { config } \"\n",
    "           f\"-e { get_schematic_path(root)[len(root) + 1:] } \"\n",
    "           f\"-b { get_board_path(root)[len(root) + 1:] } \"\n",
    "           f\"-d { output }'\\\"\"\n",
    "    )\n",
    "    if v:\n",
    "        print(cmd)\n",
    "    subprocess.check_output(cmd, shell=True)"
   ]
  },
  {
   "cell_type": "code",
   "execution_count": 15,
   "id": "787f9f12-ad54-4a69-93ad-bcf36c07ec85",
   "metadata": {},
   "outputs": [],
   "source": [
    "#export\n",
    "@call_parse\n",
    "def export_manufacturing(root:Param(\"project root directory\", str)=\".\",\n",
    "                         manufacturer:Param(f\"\\\"default\\\" or manufacturer name\", str)=\"default\",\n",
    "                         v:Param(\"verbose\", bool)=False,\n",
    "                         output:Param(\"output path relative to ROOT\")=\".\"):\n",
    "    \"\"\"\n",
    "    Export manufacturing files (gerber, drill, and position) by running kibot in a local docker container.\n",
    "    \"\"\"\n",
    "    root = _set_root(root)\n",
    "    if manufacturer not in get_manufacturers(root):\n",
    "        print(f\"MANUFACTURER must be one of the following: { ', '.join(get_manufacturers(root)) }.\")\n",
    "        return 1\n",
    "    \n",
    "    config = f\".kicad_helpers_config/manufacturers/{ manufacturer }.yaml\"\n",
    "    run_kibot_docker(config=config, root=root, v=v, output=output)"
   ]
  },
  {
   "cell_type": "markdown",
   "id": "22e191d7-2ac0-452c-9ce0-8065b2eef19c",
   "metadata": {},
   "source": [
    "This function can also be called via a command line script:\n",
    "\n",
    "> kh_export_man --help"
   ]
  },
  {
   "cell_type": "code",
   "execution_count": 16,
   "id": "e6cb3fd3-1158-43cd-ae37-2de7685f120c",
   "metadata": {},
   "outputs": [
    {
     "name": "stdout",
     "output_type": "stream",
     "text": [
      "usage: kh_export_man [-h] [--root ROOT] [--manufacturer MANUFACTURER] [--v] [--output OUTPUT]\n",
      "\n",
      "Export manufacturing files (gerber, drill, and position) by running kibot in a local docker container.\n",
      "\n",
      "optional arguments:\n",
      "  -h, --help                   show this help message and exit\n",
      "  --root ROOT                  project root directory (default: .)\n",
      "  --manufacturer MANUFACTURER  \"default\" or manufacturer name (default: default)\n",
      "  --v                          verbose (default: False)\n",
      "  --output OUTPUT              output path relative to ROOT (default: .)\n",
      "\n"
     ]
    }
   ],
   "source": [
    "#hide_input\n",
    "print(subprocess.check_output(\"kh_export_man --help\", shell=True).decode(\"utf-8\"))"
   ]
  },
  {
   "cell_type": "markdown",
   "id": "17fb73d0-1cac-4859-b324-d94412bcc7c0",
   "metadata": {},
   "source": [
    "Running `kh_export_man` within your project directory will export manufacturing outputs (e.g., gerber, drill, and position files).\n",
    "\n",
    "```sh\n",
    "> kh_export_man --output outputs\n",
    "> tree outputs\n",
    "```"
   ]
  },
  {
   "cell_type": "code",
   "execution_count": 17,
   "id": "97f271a6-091a-403d-8204-4e1cd458c56f",
   "metadata": {},
   "outputs": [
    {
     "name": "stdout",
     "output_type": "stream",
     "text": [
      "\n",
      ".\n",
      "├── gerbers\n",
      "│   ├── 40-channel-hv-switching-board-NPTH.drl\n",
      "│   ├── 40-channel-hv-switching-board.drl\n",
      "│   ├── 40-channel-hv-switching-board.gbl\n",
      "│   ├── 40-channel-hv-switching-board.gbo\n",
      "│   ├── 40-channel-hv-switching-board.gbp\n",
      "│   ├── 40-channel-hv-switching-board.gbs\n",
      "│   ├── 40-channel-hv-switching-board.gl2\n",
      "│   ├── 40-channel-hv-switching-board.gl3\n",
      "│   ├── 40-channel-hv-switching-board.gm1\n",
      "│   ├── 40-channel-hv-switching-board.gtl\n",
      "│   ├── 40-channel-hv-switching-board.gto\n",
      "│   ├── 40-channel-hv-switching-board.gtp\n",
      "│   └── 40-channel-hv-switching-board.gts\n",
      "└── position\n",
      "    ├── bottom_pos.pos\n",
      "    └── top_pos.pos\n",
      "\n",
      "2 directories, 15 files\n",
      "\n"
     ]
    }
   ],
   "source": [
    "#hide_input\n",
    "output_path = os.path.join(root, \"outputs\")\n",
    "\n",
    "def remove_test_outputs():\n",
    "    \"\"\"Remove test outputs if the directory already exists.\"\"\"\n",
    "    if os.path.exists(output_path):\n",
    "        shutil.rmtree(output_path)\n",
    "\n",
    "print(subprocess.check_output(f\"kh_export_man --root { root } --output { output_path[len(root) + 1:] }\", shell=True).decode(\"utf-8\"))\n",
    "outputs = subprocess.check_output(f\"cd { os.path.join(root, output_path[len(root) + 1:]) } && tree .\", shell=True).decode(\"utf-8\")\n",
    "assert outputs == '.\\n├── gerbers\\n│\\xa0\\xa0 ├── 40-channel-hv-switching-board-NPTH.drl\\n│\\xa0\\xa0 ├── 40-channel-hv-switching-board.drl\\n│\\xa0\\xa0 ├── 40-channel-hv-switching-board.gbl\\n│\\xa0\\xa0 ├── 40-channel-hv-switching-board.gbo\\n│\\xa0\\xa0 ├── 40-channel-hv-switching-board.gbp\\n│\\xa0\\xa0 ├── 40-channel-hv-switching-board.gbs\\n│\\xa0\\xa0 ├── 40-channel-hv-switching-board.gl2\\n│\\xa0\\xa0 ├── 40-channel-hv-switching-board.gl3\\n│\\xa0\\xa0 ├── 40-channel-hv-switching-board.gm1\\n│\\xa0\\xa0 ├── 40-channel-hv-switching-board.gtl\\n│\\xa0\\xa0 ├── 40-channel-hv-switching-board.gto\\n│\\xa0\\xa0 ├── 40-channel-hv-switching-board.gtp\\n│\\xa0\\xa0 └── 40-channel-hv-switching-board.gts\\n└── position\\n    ├── bottom_pos.pos\\n    └── top_pos.pos\\n\\n2 directories, 15 files\\n'\n",
    "print(outputs)\n",
    "remove_test_outputs()"
   ]
  },
  {
   "cell_type": "markdown",
   "id": "4677f0c7-e09c-4b61-a852-c0f24807800f",
   "metadata": {},
   "source": [
    "You can generate manufacturer-specific outputs using the `--manufacturer` flag, e.g.:\n",
    "\n",
    "```sh\n",
    "> kh_export_man --manufacturer PCBWay --output outputs\n",
    "```\n",
    "\n",
    "Support for additional manufacturers can be added by creating a `*.yaml` file in the [.kicad_helpers_config/manufacturers](https://github.com/ryanfobel/kicad-helpers/tree/main/kicad_helpers/templates/.kicad_helpers_config/manufacturers) directory."
   ]
  },
  {
   "cell_type": "code",
   "execution_count": 18,
   "id": "a4e98283-1f01-489c-a792-6ae71c02e4d7",
   "metadata": {},
   "outputs": [],
   "source": [
    "#hide\n",
    "\n",
    "# Test PCBWay manufacturing outputs\n",
    "subprocess.check_output(f\"kh_export_man --v --manufacturer PCBWay --root { root } --output { output_path[len(root) + 1:] }\", shell=True).decode(\"utf-8\")\n",
    "outputs = subprocess.check_output(f\"cd { os.path.join(root, output_path[len(root) + 1:]) } && tree -I $(python -c \\\"from kicad_helpers.utilities import get_gitignore_list; print('kicad_helpers|' + get_gitignore_list())\\\") .\", shell=True).decode(\"utf-8\")\n",
    "assert outputs == outputs\n",
    "remove_test_outputs()\n",
    "\n",
    "# Test a manufacturer that has no *.yaml configuration file\n",
    "output = subprocess.check_output(f\"kh_export_man --root { root } --manufacturer bad --output { output_path[len(root) + 1:] }\", shell=True).decode(\"utf-8\")\n",
    "assert output == 'MANUFACTURER must be one of the following: default, PCBWay.\\n'\n",
    "\n",
    "# Test using an absolute path for OUTPUT\n",
    "output = subprocess.check_output(f\"kh_export_man --root { root } --output { output_path }\", shell=True).decode(\"utf-8\")\n",
    "assert(output.startswith(\"OUTPUT cannot be an absolute path; it must be relative to ROOT=\"))"
   ]
  },
  {
   "cell_type": "code",
   "execution_count": 19,
   "id": "ba019093-eade-4dbe-a25e-0fef283d6ed0",
   "metadata": {},
   "outputs": [],
   "source": [
    "#export\n",
    "@call_parse\n",
    "def export_sch(root:Param(\"project root directory\", str)=\".\",\n",
    "               ext:Param(f\"svg or pdf\", str)=\"pdf\",\n",
    "               v:Param(\"verbose\", bool)=False,\n",
    "               output:Param(\"output path relative to ROOT\")=\".\"):\n",
    "    \"\"\"\n",
    "    Export the schematic by running kibot in a local docker container.\n",
    "    \"\"\"\n",
    "    root = _set_root(root)\n",
    "    supported_types = [\"svg\", \"pdf\"]\n",
    "    \n",
    "    if ext not in supported_types:\n",
    "        print(f\"EXT must be one of: { ','.join(supported_types) }.\")\n",
    "        return 1\n",
    "\n",
    "    config = f\".kicad_helpers_config/sch_{ ext }.yaml\"\n",
    "    run_kibot_docker(config=config, root=root, v=v, output=output)"
   ]
  },
  {
   "cell_type": "markdown",
   "id": "cb3a85f5-075b-40f3-8f17-ff0944a75a12",
   "metadata": {},
   "source": [
    "This function can also be called via a command line script:\n",
    "\n",
    "> kh_export_sch --help"
   ]
  },
  {
   "cell_type": "code",
   "execution_count": 20,
   "id": "f9fc7116-ed0f-4218-b984-2151d750241f",
   "metadata": {},
   "outputs": [
    {
     "name": "stdout",
     "output_type": "stream",
     "text": [
      "usage: kh_export_sch [-h] [--root ROOT] [--ext EXT] [--v] [--output OUTPUT]\n",
      "\n",
      "Export the schematic by running kibot in a local docker container.\n",
      "\n",
      "optional arguments:\n",
      "  -h, --help       show this help message and exit\n",
      "  --root ROOT      project root directory (default: .)\n",
      "  --ext EXT        svg or pdf (default: pdf)\n",
      "  --v              verbose (default: False)\n",
      "  --output OUTPUT  output path relative to ROOT (default: .)\n",
      "\n"
     ]
    }
   ],
   "source": [
    "#hide_input\n",
    "print(subprocess.check_output(\"kh_export_sch --help\", shell=True).decode(\"utf-8\"))"
   ]
  },
  {
   "cell_type": "code",
   "execution_count": 21,
   "id": "d6ad27a8-2a14-4568-b0a5-10d47e36eab3",
   "metadata": {},
   "outputs": [
    {
     "name": "stderr",
     "output_type": "stream",
     "text": [
      "WARNING:(W008) Unable to find KiCad configuration file (/home/docker/.config/kicad/kicad_common) (kibot.kibot.kicad.config - log.py:82)\n",
      "WARNING:(W011) Missing default symbol library table (kibot.kibot.kicad.config - log.py:82)\n",
      "WARNING:(W042) Missing doc-lib entry for sci-bots:74HC595A (kibot.kibot.kicad.v5_sch - log.py:82)\n",
      "WARNING:(W042) Missing doc-lib entry for sci-bots:AQW214 (kibot.kibot.kicad.v5_sch - log.py:82)\n",
      "WARNING:(W042) Missing doc-lib entry for sci-bots:FERRITE (kibot.kibot.kicad.v5_sch - log.py:82)\n",
      "WARNING:(W042) Missing doc-lib entry for sci-bots:RESONATOR (kibot.kibot.kicad.v5_sch - log.py:82)\n",
      "WARNING:(W042) Missing doc-lib entry for sci-bots:TFM-125-02-X-DH (kibot.kibot.kicad.v5_sch - log.py:82)\n",
      "WARNING:(W042) Missing doc-lib entry for sci-bots:W25Q64FV (kibot.kibot.kicad.v5_sch - log.py:82)\n",
      "WARNING:(W058) Missing KiCad main config file /home/docker/.config/kicad/kicad_common (eeschema_do - misc.py:169) (kibot.kibot.kiplot - log.py:82)\n"
     ]
    },
    {
     "name": "stdout",
     "output_type": "stream",
     "text": [
      "\n",
      ".\n",
      "└── 40-channel-hv-switching-board-schematic.pdf\n",
      "\n",
      "0 directories, 1 file\n",
      "\n"
     ]
    }
   ],
   "source": [
    "#hide_input\n",
    "print(subprocess.check_output(f\"kh_export_sch --root { root } --ext pdf --output { output_path[len(root) + 1:] }\", shell=True).decode(\"utf-8\"))\n",
    "outputs = subprocess.check_output(f\"cd { os.path.join(root, output_path[len(root) + 1:]) } && tree .\", shell=True).decode(\"utf-8\")\n",
    "assert outputs == '.\\n└── 40-channel-hv-switching-board-schematic.pdf\\n\\n0 directories, 1 file\\n'\n",
    "print(outputs)\n",
    "remove_test_outputs()"
   ]
  },
  {
   "cell_type": "code",
   "execution_count": 22,
   "id": "fb84d186-048c-46fb-9ed3-ac0a22b99fc7",
   "metadata": {},
   "outputs": [
    {
     "name": "stderr",
     "output_type": "stream",
     "text": [
      "WARNING:(W008) Unable to find KiCad configuration file (/home/docker/.config/kicad/kicad_common) (kibot.kibot.kicad.config - log.py:82)\n",
      "WARNING:(W011) Missing default symbol library table (kibot.kibot.kicad.config - log.py:82)\n",
      "WARNING:(W042) Missing doc-lib entry for sci-bots:74HC595A (kibot.kibot.kicad.v5_sch - log.py:82)\n",
      "WARNING:(W042) Missing doc-lib entry for sci-bots:AQW214 (kibot.kibot.kicad.v5_sch - log.py:82)\n",
      "WARNING:(W042) Missing doc-lib entry for sci-bots:FERRITE (kibot.kibot.kicad.v5_sch - log.py:82)\n",
      "WARNING:(W042) Missing doc-lib entry for sci-bots:RESONATOR (kibot.kibot.kicad.v5_sch - log.py:82)\n",
      "WARNING:(W042) Missing doc-lib entry for sci-bots:TFM-125-02-X-DH (kibot.kibot.kicad.v5_sch - log.py:82)\n",
      "WARNING:(W042) Missing doc-lib entry for sci-bots:W25Q64FV (kibot.kibot.kicad.v5_sch - log.py:82)\n",
      "WARNING:(W058) Missing KiCad main config file /home/docker/.config/kicad/kicad_common (eeschema_do - misc.py:169) (kibot.kibot.kiplot - log.py:82)\n"
     ]
    },
    {
     "name": "stdout",
     "output_type": "stream",
     "text": [
      "\n",
      ".\n",
      "├── 40-channel-hv-switching-board-schematic.svg\n",
      "├── switches_0-19-switches_0-19.svg\n",
      "└── switches_20-39-switches_20-39.svg\n",
      "\n",
      "0 directories, 3 files\n",
      "\n"
     ]
    }
   ],
   "source": [
    "#hide_input\n",
    "print(subprocess.check_output(f\"kh_export_sch --root { root } --ext svg --output { output_path[len(root) + 1:] }\", shell=True).decode(\"utf-8\"))\n",
    "outputs = subprocess.check_output(f\"cd { os.path.join(root, output_path[len(root) + 1:]) } && tree .\", shell=True).decode(\"utf-8\")\n",
    "assert outputs == '.\\n├── 40-channel-hv-switching-board-schematic.svg\\n├── switches_0-19-switches_0-19.svg\\n└── switches_20-39-switches_20-39.svg\\n\\n0 directories, 3 files\\n'\n",
    "print(outputs)\n",
    "remove_test_outputs()"
   ]
  },
  {
   "cell_type": "code",
   "execution_count": 23,
   "id": "6adf7b6d-5e25-4c70-88e6-ced1fb693e87",
   "metadata": {},
   "outputs": [],
   "source": [
    "#export\n",
    "@call_parse\n",
    "def export_pcb(root:Param(\"project root directory\", str)=\".\",\n",
    "               ext:Param(f\"svg or pdf\", str)=\"pdf\",\n",
    "               v:Param(\"verbose\", bool)=False,\n",
    "               output:Param(\"output path relative to ROOT\")=\".\"):\n",
    "    \"\"\"\n",
    "    Export the pcb layout by running kibot in a local docker container.\n",
    "    \"\"\"\n",
    "    root = _set_root(root)\n",
    "    supported_types = [\"svg\", \"pdf\"]\n",
    "    \n",
    "    if ext not in supported_types:\n",
    "        print(f\"EXT must be one of: { ','.join(supported_types) }.\")\n",
    "        return 1\n",
    "    \n",
    "    config = f\".kicad_helpers_config/pcb_{ ext }.yaml\"\n",
    "    run_kibot_docker(config=config, root=root, v=v, output=output)"
   ]
  },
  {
   "cell_type": "markdown",
   "id": "7fbac32e-5116-47a7-a460-58884eac233d",
   "metadata": {},
   "source": [
    "This function can also be called via a command line script:\n",
    "\n",
    "> kh_export_pcb --help"
   ]
  },
  {
   "cell_type": "code",
   "execution_count": 24,
   "id": "c6b21865-6d81-4100-9794-c406fa7261fc",
   "metadata": {},
   "outputs": [
    {
     "name": "stdout",
     "output_type": "stream",
     "text": [
      "usage: kh_export_pcb [-h] [--root ROOT] [--ext EXT] [--v] [--output OUTPUT]\n",
      "\n",
      "Export the pcb layout by running kibot in a local docker container.\n",
      "\n",
      "optional arguments:\n",
      "  -h, --help       show this help message and exit\n",
      "  --root ROOT      project root directory (default: .)\n",
      "  --ext EXT        svg or pdf (default: pdf)\n",
      "  --v              verbose (default: False)\n",
      "  --output OUTPUT  output path relative to ROOT (default: .)\n",
      "\n"
     ]
    }
   ],
   "source": [
    "#hide_input\n",
    "print(subprocess.check_output(\"kh_export_pcb --help\", shell=True).decode(\"utf-8\"))"
   ]
  },
  {
   "cell_type": "code",
   "execution_count": 25,
   "id": "070f1030-adfb-44d1-9871-e391d580ee35",
   "metadata": {},
   "outputs": [
    {
     "name": "stdout",
     "output_type": "stream",
     "text": [
      "\n",
      ".\n",
      "├── 40-channel-hv-switching-board-3_3V.pdf\n",
      "├── 40-channel-hv-switching-board-B_Mask.pdf\n",
      "├── 40-channel-hv-switching-board-B_Paste.pdf\n",
      "├── 40-channel-hv-switching-board-B_SilkS.pdf\n",
      "├── 40-channel-hv-switching-board-Back.pdf\n",
      "├── 40-channel-hv-switching-board-Edge_Cuts.pdf\n",
      "├── 40-channel-hv-switching-board-F_Mask.pdf\n",
      "├── 40-channel-hv-switching-board-F_Paste.pdf\n",
      "├── 40-channel-hv-switching-board-F_SilkS.pdf\n",
      "├── 40-channel-hv-switching-board-Front.pdf\n",
      "└── 40-channel-hv-switching-board-GND.pdf\n",
      "\n",
      "0 directories, 11 files\n",
      "\n"
     ]
    }
   ],
   "source": [
    "#hide_input\n",
    "print(subprocess.check_output(f\"kh_export_pcb --root { root } --ext pdf --output { output_path[len(root) + 1:] }\", shell=True).decode(\"utf-8\"))\n",
    "outputs = subprocess.check_output(f\"cd { os.path.join(root, output_path[len(root) + 1:]) } && tree .\", shell=True).decode(\"utf-8\")\n",
    "#assert outputs == '.\\n└── 40-channel-hv-switching-board-schematic.pdf\\n\\n0 directories, 1 file\\n'\n",
    "print(outputs)\n",
    "remove_test_outputs()"
   ]
  },
  {
   "cell_type": "code",
   "execution_count": 26,
   "id": "2f34bb76-7650-4033-8b42-6bc178366bbc",
   "metadata": {},
   "outputs": [
    {
     "name": "stdout",
     "output_type": "stream",
     "text": [
      "\n",
      ".\n",
      "├── 40-channel-hv-switching-board-3_3V.svg\n",
      "├── 40-channel-hv-switching-board-B_Mask.svg\n",
      "├── 40-channel-hv-switching-board-B_Paste.svg\n",
      "├── 40-channel-hv-switching-board-B_SilkS.svg\n",
      "├── 40-channel-hv-switching-board-Back.svg\n",
      "├── 40-channel-hv-switching-board-Edge_Cuts.svg\n",
      "├── 40-channel-hv-switching-board-F_Mask.svg\n",
      "├── 40-channel-hv-switching-board-F_Paste.svg\n",
      "├── 40-channel-hv-switching-board-F_SilkS.svg\n",
      "├── 40-channel-hv-switching-board-Front.svg\n",
      "└── 40-channel-hv-switching-board-GND.svg\n",
      "\n",
      "0 directories, 11 files\n",
      "\n"
     ]
    }
   ],
   "source": [
    "#hide_input\n",
    "print(subprocess.check_output(f\"kh_export_pcb --root { root } --ext svg --output { output_path[len(root) + 1:] }\", shell=True).decode(\"utf-8\"))\n",
    "outputs = subprocess.check_output(f\"cd { os.path.join(root, output_path[len(root) + 1:]) } && tree .\", shell=True).decode(\"utf-8\")\n",
    "#assert outputs == '.\\n└── 40-channel-hv-switching-board-schematic.pdf\\n\\n0 directories, 1 file\\n'\n",
    "print(outputs)\n",
    "remove_test_outputs()"
   ]
  },
  {
   "cell_type": "code",
   "execution_count": 27,
   "id": "b7d2553c-bd78-44b9-87c4-063ce86fb273",
   "metadata": {},
   "outputs": [
    {
     "name": "stdout",
     "output_type": "stream",
     "text": [
      "Converted 00_actions.ipynb.\n",
      "Converted 01_test.ipynb.\n",
      "Converted 02_utilities.ipynb.\n",
      "Converted index.ipynb.\n"
     ]
    }
   ],
   "source": [
    "#hide\n",
    "notebook2script()"
   ]
  }
 ],
 "metadata": {
  "kernelspec": {
   "display_name": "Python 3 (ipykernel)",
   "language": "python",
   "name": "python3"
  },
  "language_info": {
   "codemirror_mode": {
    "name": "ipython",
    "version": 3
   },
   "file_extension": ".py",
   "mimetype": "text/x-python",
   "name": "python",
   "nbconvert_exporter": "python",
   "pygments_lexer": "ipython3",
   "version": "3.9.7"
  }
 },
 "nbformat": 4,
 "nbformat_minor": 5
}
