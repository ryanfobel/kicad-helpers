{
 "cells": [
  {
   "cell_type": "code",
   "execution_count": null,
   "id": "63c3d1ea-5269-4e4e-bc12-a27f7392a9a8",
   "metadata": {},
   "outputs": [],
   "source": [
    "#hide\n",
    "#default_exp init_project\n",
    "from nbdev.showdoc import show_doc"
   ]
  },
  {
   "cell_type": "code",
   "execution_count": null,
   "id": "6e261d24-7a5f-4f2a-ab73-860c196cdbcd",
   "metadata": {},
   "outputs": [],
   "source": [
    "#export\n",
    "import os\n",
    "import pkg_resources\n",
    "\n",
    "import jinja2\n",
    "from fastcore.script import *\n",
    "\n",
    "from kicad_helpers.core import get_project_root, get_project_name"
   ]
  },
  {
   "cell_type": "markdown",
   "id": "32f4c677-eaec-4b28-92e3-3aa428b618a1",
   "metadata": {},
   "source": [
    "# init_project\n",
    "\n",
    "> Functions scripts to initialize a new kicad-helpers project.\n",
    "\n",
    "* toc: true"
   ]
  },
  {
   "cell_type": "code",
   "execution_count": null,
   "id": "16ae823c-b16e-4c65-9d29-a80316e12bb2",
   "metadata": {},
   "outputs": [],
   "source": [
    "#export\n",
    "@call_parse\n",
    "def init_github_workflows():\n",
    "    src_path = os.path.abspath(pkg_resources.resource_filename('kicad_helpers', 'templates/build.yml'))\n",
    "\n",
    "    root = get_project_root()\n",
    "    dst_path = os.path.abspath(os.path.join(root,\n",
    "                                            \".github\",\n",
    "                                            \"workflows\",\n",
    "                                            \"build.yml\"\n",
    "    ))\n",
    "    # Create the `.github/workflows` directory if it doesn't exist\n",
    "    os.makedirs(os.path.split(dst_path)[0], exist_ok=True)\n",
    "\n",
    "    print(f\"src_path={src_path}\")\n",
    "    print(f\"dst_path={dst_path}\")    \n",
    "    \n",
    "    if os.path.exists(dst_path):\n",
    "        print(f\"{dst_path} already exists\")\n",
    "    \n",
    "    with open(src_path) as f:\n",
    "        template = jinja2.Template(f.read())\n",
    "\n",
    "    with open(dst_path, \"w\") as f:\n",
    "        f.write(template.render(PROJECT_NAME=get_project_name()))"
   ]
  },
  {
   "cell_type": "code",
   "execution_count": null,
   "id": "94ae696e-6856-49c3-8c8a-9c97fb035429",
   "metadata": {},
   "outputs": [
    {
     "name": "stdout",
     "output_type": "stream",
     "text": [
      "/home/ryan/miniconda3/envs/kh/lib/python3.9/site-packages/kicad_helpers/templates/build.yml\n"
     ]
    }
   ],
   "source": [
    "%%sh\n",
    "ls /home/ryan/miniconda3/envs/kh/lib/python3.9/site-packages/kicad_helpers/templates/*.yml"
   ]
  },
  {
   "cell_type": "code",
   "execution_count": null,
   "id": "5f1b7a2c-f9ca-442c-97dc-e67d6ae47f8d",
   "metadata": {},
   "outputs": [],
   "source": []
  }
 ],
 "metadata": {
  "kernelspec": {
   "display_name": "Python 3 (ipykernel)",
   "language": "python",
   "name": "python3"
  }
 },
 "nbformat": 4,
 "nbformat_minor": 5
}
