{
 "cells": [
  {
   "cell_type": "code",
   "execution_count": null,
   "id": "db58c073-d670-444b-977c-c677486e8a70",
   "metadata": {},
   "outputs": [],
   "source": [
    "#hide\n",
    "#default_exp cli\n",
    "from nbdev.showdoc import show_doc"
   ]
  },
  {
   "cell_type": "markdown",
   "id": "8a154a87-af99-43a6-8887-fc3139fc2dff",
   "metadata": {},
   "source": [
    "# Command line functions\n",
    "\n",
    "> Console commands added by the nbdev library"
   ]
  },
  {
   "cell_type": "code",
   "execution_count": null,
   "id": "21bc8a89-7d78-4788-9d18-6c2324556b56",
   "metadata": {},
   "outputs": [],
   "source": []
  }
 ],
 "metadata": {
  "kernelspec": {
   "display_name": "Python 3 (ipykernel)",
   "language": "python",
   "name": "python3"
  }
 },
 "nbformat": 4,
 "nbformat_minor": 5
}
