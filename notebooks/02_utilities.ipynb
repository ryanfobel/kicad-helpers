{
 "cells": [
  {
   "cell_type": "code",
   "execution_count": 1,
   "metadata": {},
   "outputs": [],
   "source": [
    "#hide\n",
    "# default_exp utilities\n",
    "from nbdev.showdoc import *"
   ]
  },
  {
   "cell_type": "markdown",
   "metadata": {},
   "source": [
    "# Utilities\n",
    "\n",
    "> Scripts and functions used by other modules"
   ]
  },
  {
   "cell_type": "code",
   "execution_count": 2,
   "metadata": {},
   "outputs": [],
   "source": [
    "#export\n",
    "import glob\n",
    "import os\n",
    "import subprocess\n",
    "import tempfile\n",
    "\n",
    "import git\n",
    "from yaml import load, dump\n",
    "try:\n",
    "    from yaml import CLoader as Loader, CDumper as Dumper\n",
    "except ImportError:\n",
    "    from yaml import Loader, Dumper\n",
    "from fastcore.script import *"
   ]
  },
  {
   "cell_type": "code",
   "execution_count": 3,
   "metadata": {},
   "outputs": [],
   "source": [
    "#export\n",
    "def get_git_root(path=\".\"):\n",
    "    # Find the current projects' root directory\n",
    "    git_repo = git.Repo(path, search_parent_directories=True)\n",
    "    return git_repo.git.rev_parse(\"--show-toplevel\")"
   ]
  },
  {
   "cell_type": "markdown",
   "metadata": {},
   "source": [
    "# Project metadata/configuration\n",
    "\n",
    "Metadata and configuration for the project are stored in the `.kicad_helpers_config` directory (including [kibot](https://github.com/INTI-CMNB/KiBot) config files for producting manufacturing outputs via continuous integration). Additional metadata (e.g., project summary, website, and manufacturing details) is stored in the project's `kitspace.yaml` file which makes it easy for other people to manufacture boards using https://kitspace.org/."
   ]
  },
  {
   "cell_type": "code",
   "execution_count": 4,
   "metadata": {},
   "outputs": [],
   "source": [
    "#export\n",
    "def _set_root(root):\n",
    "    if root == \".\":\n",
    "        # Use defaults\n",
    "        root = get_git_root(\".\")\n",
    "        \n",
    "        # Override with environment variable if set\n",
    "        root = os.getenv(\"KH_PROJECT_ROOT\", root)\n",
    "    return root\n",
    "\n",
    "def get_project_name(root=\".\"):\n",
    "    # This is based on the name of the KiCad `*.pro` file.\n",
    "    root = _set_root(root)\n",
    "    return os.path.splitext(os.path.split(glob.glob(os.path.join(root, \"*.pro\"))[0])[1])[0]\n",
    "\n",
    "def get_project_metadata(root=\".\"):\n",
    "    root = _set_root(root)\n",
    "    # Default metadata if there's no existing `kicad.yaml` file.\n",
    "    metadata = {\"summary\": \"A description for your project\",\n",
    "                \"site\": \"https://example.com # A site you would like to link to (include http:// or https://)\",\n",
    "                \"color\": \"black\"\n",
    "    }\n",
    "    \n",
    "    try:\n",
    "        # If there's an existing `kicad.yaml` file, those settings override the defaults.\n",
    "        with open(os.path.join(root, \"kitspace.yaml\")) as f:\n",
    "            metadata.update({k: v for k, v in load(f, Loader=Loader).items() if k in [\"summary\", \"site\", \"color\"]})\n",
    "    except FileNotFoundError:\n",
    "        pass\n",
    "\n",
    "    # Add the project name\n",
    "    metadata[\"project_name\"]=get_project_name(root)\n",
    "    return metadata\n",
    "\n",
    "def get_schematic_path(root=\".\"):\n",
    "    root = _set_root(root)\n",
    "    return os.path.join(root, get_project_name(root) + \".sch\")\n",
    "\n",
    "def get_bom_path(root=\".\"):\n",
    "    root = _set_root(root)\n",
    "    return os.path.join(root, \"manufacturing\", \"default\", get_project_name(root) + \"-BOM.csv\")"
   ]
  },
  {
   "cell_type": "code",
   "execution_count": 5,
   "metadata": {},
   "outputs": [],
   "source": [
    "#export\n",
    "@call_parse\n",
    "def setup_test_repo(root:Param(\"project root directory\", str)=\"_temp\"):\n",
    "    if not os.path.exists(root):\n",
    "        subprocess.check_call(f\"git clone https://github.com/sci-bots/dropbot-40-channel-HV-switching-board.kicad { root }\", shell=True)"
   ]
  },
  {
   "cell_type": "code",
   "execution_count": 6,
   "metadata": {},
   "outputs": [
    {
     "name": "stdout",
     "output_type": "stream",
     "text": [
      "get_project_name() = 40-channel-hv-switching-board\n",
      "get_project_metadata() = {'summary': 'DropBot v3 40-channel high-voltage switching board', 'site': 'https://github.com/sci-bots/dropbot-40-channel-HV-switching-board.kicad', 'color': 'black', 'project_name': '40-channel-hv-switching-board'}\n",
      "get_schematic_path() = /mnt/c/Users/ryan/OneDrive/dev/python/kicad-helpers/_temp/40-channel-hv-switching-board.sch\n",
      "get_bom_path() = /mnt/c/Users/ryan/OneDrive/dev/python/kicad-helpers/_temp/manufacturing/default/40-channel-hv-switching-board-BOM.csv\n"
     ]
    }
   ],
   "source": [
    "root = os.path.join(get_git_root(\".\"), \"_temp\")\n",
    "setup_test_repo(root)\n",
    "print(f\"get_project_name() = { get_project_name(root) }\")\n",
    "print(f\"get_project_metadata() = { get_project_metadata(root) }\")\n",
    "print(f\"get_schematic_path() = { get_schematic_path(root) }\")\n",
    "print(f\"get_bom_path() = { get_bom_path(root) }\")\n",
    "assert get_project_name(root) == \"40-channel-hv-switching-board\"\n",
    "assert get_project_metadata(root) == {'summary': 'DropBot v3 40-channel high-voltage switching board', 'site': 'https://github.com/sci-bots/dropbot-40-channel-HV-switching-board.kicad', 'color': 'black', 'project_name': '40-channel-hv-switching-board'}\n",
    "assert os.path.exists(get_schematic_path(root))\n",
    "assert os.path.exists(get_bom_path(root))"
   ]
  },
  {
   "cell_type": "code",
   "execution_count": 7,
   "metadata": {},
   "outputs": [],
   "source": [
    "#export\n",
    "def get_gitignore_list(root=\".\"):\n",
    "    root =_set_root(root)\n",
    "    with open(f\"{ root }/.gitignore\") as f:\n",
    "        gitignore = f.readlines()\n",
    "    return \"|\".join([line.strip() for line in gitignore])\n",
    "\n",
    "def in_gitignore(filename):\n",
    "    try:\n",
    "        if len(subprocess.check_output(f\"echo '{ filename }' | git check-ignore --stdin --no-index\", shell=True)):\n",
    "            return True\n",
    "    except subprocess.CalledProcessError:\n",
    "        pass\n",
    "    return False\n",
    "\n",
    "def install_python_package(package):\n",
    "    subprocess.check_call([sys.executable, \"-m\", \"pip\", \"install\", package])"
   ]
  }
 ],
 "metadata": {
  "kernelspec": {
   "display_name": "Python 3 (ipykernel)",
   "language": "python",
   "name": "python3"
  },
  "language_info": {
   "codemirror_mode": {
    "name": "ipython",
    "version": 3
   },
   "file_extension": ".py",
   "mimetype": "text/x-python",
   "name": "python",
   "nbconvert_exporter": "python",
   "pygments_lexer": "ipython3",
   "version": "3.9.7"
  }
 },
 "nbformat": 4,
 "nbformat_minor": 4
}
