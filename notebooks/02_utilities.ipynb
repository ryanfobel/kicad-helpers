{
 "cells": [
  {
   "cell_type": "code",
   "execution_count": 1,
   "metadata": {},
   "outputs": [],
   "source": [
    "# hide\n",
    "# default_exp utilities\n",
    "%load_ext autoreload\n",
    "%autoreload 2\n",
    "from nbdev.showdoc import *\n",
    "from nbdev.export import notebook2script"
   ]
  },
  {
   "cell_type": "markdown",
   "metadata": {},
   "source": [
    "# Utilities\n",
    "\n",
    "> Scripts and functions used by other modules"
   ]
  },
  {
   "cell_type": "code",
   "execution_count": 2,
   "metadata": {},
   "outputs": [],
   "source": [
    "# export\n",
    "import glob\n",
    "import os\n",
    "import re\n",
    "import subprocess\n",
    "import tempfile\n",
    "from pprint import pprint\n",
    "\n",
    "import git\n",
    "from yaml import load, dump\n",
    "try:\n",
    "    from yaml import CLoader as Loader, CDumper as Dumper\n",
    "except ImportError:\n",
    "    from yaml import Loader, Dumper\n",
    "from fastcore.script import *"
   ]
  },
  {
   "cell_type": "code",
   "execution_count": 3,
   "metadata": {},
   "outputs": [],
   "source": [
    "# export\n",
    "def _run_cmd(cmd):\n",
    "    return subprocess.check_output(cmd, stderr=subprocess.STDOUT, shell=True).decode(\"utf-8\")\n",
    "\n",
    "def _print_cmd_output(cmd):\n",
    "    print(_run_cmd(cmd))"
   ]
  },
  {
   "cell_type": "markdown",
   "metadata": {},
   "source": [
    "# Project metadata/configuration\n",
    "\n",
    "Metadata and configuration for the project are stored in the `.kicad_helpers_config` directory (including [KiBot](https://github.com/INTI-CMNB/KiBot) config files for producting manufacturing outputs via continuous integration). Additional metadata (e.g., project summary, website, and manufacturing details) is stored in the project's `kitspace.yaml` file which makes it easy for other people to manufacture boards using https://kitspace.org/."
   ]
  },
  {
   "cell_type": "code",
   "execution_count": 4,
   "metadata": {},
   "outputs": [],
   "source": [
    "#export\n",
    "def get_git_root(path=\".\"):\n",
    "    # Find the current projects' root directory\n",
    "    git_repo = git.Repo(path, search_parent_directories=True)\n",
    "    return git_repo.git.rev_parse(\"--show-toplevel\").replace(\"/\", os.path.sep)"
   ]
  },
  {
   "cell_type": "code",
   "execution_count": 5,
   "metadata": {},
   "outputs": [],
   "source": [
    "#export\n",
    "@call_parse\n",
    "def setup_test_repo(root:Param(\"project root directory\", str)=\"_temp\"):\n",
    "    \"\"\"Setup a test KiCad repository to test against.\n",
    "    \"\"\"\n",
    "    if not os.path.exists(root):\n",
    "        subprocess.check_call(f\"git clone --recursive https://github.com/sci-bots/dropbot-40-channel-HV-switching-board.kicad { root }\", shell=True)"
   ]
  },
  {
   "cell_type": "code",
   "execution_count": 6,
   "metadata": {},
   "outputs": [],
   "source": [
    "#hide\n",
    "root = os.path.join(get_git_root(\".\"), \"_temp\")\n",
    "setup_test_repo(root)"
   ]
  },
  {
   "cell_type": "code",
   "execution_count": 7,
   "metadata": {},
   "outputs": [],
   "source": [
    "#export\n",
    "def _set_root(root):\n",
    "    \"\"\"If `root` is the default value (\".\"), use the project's git root\n",
    "    or override with the environment variable `KH_PROJECT_ROOT` if it\n",
    "    exists.\n",
    "    \"\"\"\n",
    "    if root == \".\":\n",
    "        # Use defaults\n",
    "        root = get_git_root(\".\")\n",
    "        \n",
    "        # Override with environment variable if set\n",
    "        root = os.getenv(\"KH_PROJECT_ROOT\", root)\n",
    "    return root"
   ]
  },
  {
   "cell_type": "code",
   "execution_count": 8,
   "metadata": {},
   "outputs": [],
   "source": [
    "#export\n",
    "def get_project_name(root=\".\"):\n",
    "    \"\"\"Get the project name based on the name of the KiCad `*.pro` file.\n",
    "    \"\"\"\n",
    "    root = _set_root(root)\n",
    "    return os.path.splitext(os.path.split(glob.glob(os.path.join(root, \"*.pro\"))[0])[1])[0]"
   ]
  },
  {
   "cell_type": "code",
   "execution_count": 9,
   "metadata": {},
   "outputs": [
    {
     "name": "stdout",
     "output_type": "stream",
     "text": [
      "> get_project_name()\n",
      "40-channel-hv-switching-board\n"
     ]
    }
   ],
   "source": [
    "#hide_input\n",
    "print(f\"> get_project_name()\\n{ get_project_name(root) }\")\n",
    "assert get_project_name(root) == \"40-channel-hv-switching-board\""
   ]
  },
  {
   "cell_type": "code",
   "execution_count": 10,
   "metadata": {},
   "outputs": [],
   "source": [
    "#export\n",
    "def get_project_metadata(root=\".\"):\n",
    "    \"\"\"Get the project metatdata from the `kitspace.yaml` file.\n",
    "    \"\"\"\n",
    "    root = _set_root(root)\n",
    "\n",
    "    # Default metadata if there's no existing `kitspace.yaml` file.\n",
    "    metadata = {\"summary\": \"A description for your project\",\n",
    "                \"site\": \"https://example.com # A site you would like to link to (include http:// or https://)\",\n",
    "                \"color\": \"black\"\n",
    "    }\n",
    "    \n",
    "    try:\n",
    "        # If there's an existing `kicad.yaml` file, those settings override the defaults.\n",
    "        with open(os.path.join(root, \"kitspace.yaml\")) as f:\n",
    "            metadata.update({k: v for k, v in load(f, Loader=Loader).items() if k in [\"summary\", \"site\", \"color\"]})\n",
    "    except FileNotFoundError:\n",
    "        pass\n",
    "\n",
    "    # Add the project name\n",
    "    metadata[\"project_name\"]=get_project_name(root)\n",
    "    return metadata\n"
   ]
  },
  {
   "cell_type": "code",
   "execution_count": 11,
   "metadata": {},
   "outputs": [
    {
     "name": "stdout",
     "output_type": "stream",
     "text": [
      "> get_project_metadata()\n",
      "{'color': 'black',\n",
      " 'project_name': '40-channel-hv-switching-board',\n",
      " 'site': 'https://github.com/sci-bots/dropbot-40-channel-HV-switching-board.kicad',\n",
      " 'summary': 'DropBot v3 40-channel high-voltage switching board'}\n"
     ]
    }
   ],
   "source": [
    "#hide_input\n",
    "print(\"> get_project_metadata()\")\n",
    "pprint(get_project_metadata(root))\n",
    "assert get_project_metadata(root) == {'summary': 'DropBot v3 40-channel high-voltage switching board', 'site': 'https://github.com/sci-bots/dropbot-40-channel-HV-switching-board.kicad', 'color': 'black', 'project_name': '40-channel-hv-switching-board'}"
   ]
  },
  {
   "cell_type": "code",
   "execution_count": 12,
   "metadata": {},
   "outputs": [],
   "source": [
    "#export\n",
    "def get_schematic_path(root=\".\"):\n",
    "    \"\"\"Get the path to the KiCad schematic.\n",
    "    \"\"\"\n",
    "    root = _set_root(root)\n",
    "    return os.path.join(root, get_project_name(root) + \".sch\")"
   ]
  },
  {
   "cell_type": "code",
   "execution_count": 13,
   "metadata": {},
   "outputs": [
    {
     "name": "stdout",
     "output_type": "stream",
     "text": [
      "> get_schematic_path()\n",
      "C:\\Users\\Ryan\\OneDrive\\dev\\kicad-helpers\\_temp\\40-channel-hv-switching-board.sch\n"
     ]
    }
   ],
   "source": [
    "#hide_input\n",
    "print(f\"> get_schematic_path()\\n{ get_schematic_path(root) }\")\n",
    "assert os.path.exists(get_schematic_path(root))"
   ]
  },
  {
   "cell_type": "code",
   "execution_count": 14,
   "metadata": {},
   "outputs": [],
   "source": [
    "#export\n",
    "def get_bom_path(root=\".\"):\n",
    "    \"\"\"Get the path to the BOM.\n",
    "    \"\"\"\n",
    "    root = _set_root(root)\n",
    "    return os.path.join(root, \"manufacturing\", \"default\", get_project_name(root) + \"-BOM.csv\")"
   ]
  },
  {
   "cell_type": "code",
   "execution_count": 15,
   "metadata": {},
   "outputs": [
    {
     "name": "stdout",
     "output_type": "stream",
     "text": [
      "> get_bom_path()\n",
      "C:\\Users\\Ryan\\OneDrive\\dev\\kicad-helpers\\_temp\\manufacturing\\default\\40-channel-hv-switching-board-BOM.csv\n"
     ]
    }
   ],
   "source": [
    "#hide_input\n",
    "print(f\"> get_bom_path()\\n{ get_bom_path(root) }\")\n",
    "assert os.path.exists(get_bom_path(root))"
   ]
  },
  {
   "cell_type": "code",
   "execution_count": 16,
   "metadata": {},
   "outputs": [],
   "source": [
    "#export\n",
    "def get_board_path(root=\".\"):\n",
    "    \"\"\"Get the path to the KiCad board file.\n",
    "    \"\"\"\n",
    "    root = _set_root(root)\n",
    "    return os.path.join(root, get_project_name(root) + \".kicad_pcb\")"
   ]
  },
  {
   "cell_type": "code",
   "execution_count": 17,
   "metadata": {},
   "outputs": [
    {
     "name": "stdout",
     "output_type": "stream",
     "text": [
      "> get_board_path()\n",
      "C:\\Users\\Ryan\\OneDrive\\dev\\kicad-helpers\\_temp\\40-channel-hv-switching-board.kicad_pcb\n"
     ]
    }
   ],
   "source": [
    "#hide_input\n",
    "print(f\"> get_board_path()\\n{ get_board_path(root) }\")\n",
    "assert os.path.exists(get_board_path(root))"
   ]
  },
  {
   "cell_type": "code",
   "execution_count": 18,
   "metadata": {},
   "outputs": [],
   "source": [
    "#export\n",
    "def get_manufacturers(root=\".\"):\n",
    "    \"\"\"Get the supported manufacturers.\n",
    "    \"\"\"\n",
    "    root = _set_root(root)\n",
    "    return [os.path.split(f)[1][:-5] for f in glob.glob(os.path.join(root, \".kicad_helpers_config\", \"manufacturers\", \"*.yaml\"))]"
   ]
  },
  {
   "cell_type": "code",
   "execution_count": 19,
   "metadata": {},
   "outputs": [
    {
     "name": "stdout",
     "output_type": "stream",
     "text": [
      "> get_manufacturers()\n",
      "['default', 'PCBWay']\n"
     ]
    }
   ],
   "source": [
    "#hide_input\n",
    "print(f\"> get_manufacturers()\\n{ get_manufacturers(root) }\")\n",
    "assert get_manufacturers(root) == ['default', 'PCBWay']"
   ]
  },
  {
   "cell_type": "code",
   "execution_count": 20,
   "metadata": {},
   "outputs": [],
   "source": [
    "#export\n",
    "def get_gitignore_list(root=\".\"):\n",
    "    root =_set_root(root)\n",
    "    with open(f\"{ root }/.gitignore\") as f:\n",
    "        gitignore = f.readlines()\n",
    "    return [line.strip() for line in gitignore]"
   ]
  },
  {
   "cell_type": "code",
   "execution_count": 21,
   "metadata": {},
   "outputs": [
    {
     "name": "stdout",
     "output_type": "stream",
     "text": [
      "> get_gitignore_list()\n",
      "['_autosave*', '*bak', '*.xml', '.ipynb_checkpoints', '*-erc.txt', '*-drc.txt', 'kibot_errors.filter']\n"
     ]
    }
   ],
   "source": [
    "#hide_input\n",
    "print(f\"> get_gitignore_list()\\n{ get_gitignore_list(root) }\")\n",
    "assert get_gitignore_list(root) == ['_autosave*',\n",
    "    '*bak',\n",
    "    '*.xml',\n",
    "    '.ipynb_checkpoints',\n",
    "    '*-erc.txt',\n",
    "    '*-drc.txt',\n",
    "    'kibot_errors.filter'\n",
    "]"
   ]
  },
  {
   "cell_type": "code",
   "execution_count": 22,
   "metadata": {},
   "outputs": [
    {
     "data": {
      "text/plain": [
       "['_autosave*',\n",
       " '*bak',\n",
       " '*.xml',\n",
       " '.ipynb_checkpoints',\n",
       " '*-erc.txt',\n",
       " '*-drc.txt',\n",
       " 'kibot_errors.filter']"
      ]
     },
     "execution_count": 22,
     "metadata": {},
     "output_type": "execute_result"
    }
   ],
   "source": [
    "get_gitignore_list(root)"
   ]
  },
  {
   "cell_type": "code",
   "execution_count": 23,
   "metadata": {},
   "outputs": [],
   "source": [
    "#export\n",
    "def in_gitignore(filename, root=\".\"):\n",
    "    root = _set_root(root)\n",
    "    try:\n",
    "        cmd = f\"cd { root } && git check-ignore --no-index { filename }\"\n",
    "        if len(_run_cmd(cmd)):\n",
    "            return True\n",
    "    except subprocess.CalledProcessError:\n",
    "        pass\n",
    "    return False"
   ]
  },
  {
   "cell_type": "code",
   "execution_count": 24,
   "metadata": {},
   "outputs": [],
   "source": [
    "#hide\n",
    "assert in_gitignore(\"project.sch-bak\", root) == True\n",
    "assert in_gitignore(\"project.sch\", root) == False"
   ]
  },
  {
   "cell_type": "code",
   "execution_count": 25,
   "metadata": {},
   "outputs": [],
   "source": [
    "#export\n",
    "def run_docker_cmd(cmd,\n",
    "                   workdir,\n",
    "                   container,\n",
    "                   v=False):\n",
    "    \"\"\"\n",
    "    Run a command in a docker container under a UID mapped to the current user.\n",
    "    This ensures that the current user is owner of any files created in the\n",
    "    workdir.\n",
    "    \"\"\"\n",
    "    UID = subprocess.check_output(\"id -u\", shell=True).decode(\"utf-8\").strip()\n",
    "    docker_cmd = (f\"docker run --rm -v { workdir }:/workdir --workdir=\\\"/workdir\\\" \"\n",
    "        f\"{ container } \"\n",
    "        f\"/bin/bash -c \\\"useradd --shell /bin/bash -u { UID } -o -c '' -m docker && \"\n",
    "        f\"runuser docker -c '{ cmd }'\\\"\"\n",
    "    )\n",
    "    if v:\n",
    "        print(docker_cmd)\n",
    "    return subprocess.check_output(docker_cmd, stderr=subprocess.STDOUT, shell=True)"
   ]
  },
  {
   "cell_type": "code",
   "execution_count": 26,
   "metadata": {},
   "outputs": [],
   "source": [
    "#export\n",
    "def run_kibot_docker(config:Param(f\"KiBot configuation file\", str),\n",
    "                     root:Param(\"project root directory\", str)=\".\",\n",
    "                     v:Param(\"verbose\", bool)=False,\n",
    "                     output:Param(\"output path relative to ROOT\")=\".\"):\n",
    "    \"\"\"\n",
    "    Run KiBot in a local docker container.\n",
    "    \"\"\"\n",
    "    root = _set_root(root)\n",
    "    if os.path.abspath(output) == output:\n",
    "        raise RuntimeError(f\"OUTPUT cannot be an absolute path; it must be relative to ROOT={ root }.\")\n",
    "\n",
    "    cmd = (f\"kibot -c { config } \"\n",
    "       f\"-e { get_schematic_path(root)[len(root) + 1:] } \"\n",
    "       f\"-b { get_board_path(root)[len(root) + 1:] } \"\n",
    "       f\"-d { output }\"\n",
    "    )\n",
    "    run_docker_cmd(cmd,\n",
    "                   workdir=os.path.abspath(root),\n",
    "                   container=\"setsoft/kicad_auto_test:latest\",\n",
    "                   v=v\n",
    "    )"
   ]
  },
  {
   "cell_type": "code",
   "execution_count": 27,
   "metadata": {},
   "outputs": [],
   "source": [
    "#export\n",
    "def get_board_metadata(root=\".\"):\n",
    "    \"\"\"Get metadata from the `*.kicad_pcb` board file.\n",
    "    \"\"\"\n",
    "    root = _set_root(root)\n",
    "    with open(get_board_path(root), 'r') as f:\n",
    "        board = f.read()\n",
    "    matches = re.search(\"\\(title_block.*title (?P<title>[^\\)]*)\\)\"\n",
    "        \".*date (?P<date>[^\\)]*)\\)\"\n",
    "        \".*rev (?P<rev>[^\\)]*)\\)\"\n",
    "        \".*company (?P<company>[^\\)]*)\\)\",\n",
    "        board, re.DOTALL\n",
    "    )\n",
    "    return matches.groupdict()"
   ]
  },
  {
   "cell_type": "code",
   "execution_count": 28,
   "metadata": {},
   "outputs": [
    {
     "data": {
      "text/plain": [
       "{'title': '\"40-channel HV switching board\"',\n",
       " 'date': '2017-06-01',\n",
       " 'rev': '3.1.1',\n",
       " 'company': '\"Sci-Bots Inc.\"'}"
      ]
     },
     "execution_count": 28,
     "metadata": {},
     "output_type": "execute_result"
    }
   ],
   "source": [
    "get_board_metadata(root)"
   ]
  },
  {
   "cell_type": "code",
   "execution_count": 29,
   "metadata": {},
   "outputs": [],
   "source": [
    "#export\n",
    "def update_board_metadata(update_dict, root=\".\"):\n",
    "    \"\"\"Update metadata in the `*.kicad_pcb` board file.\n",
    "    \"\"\"\n",
    "    root = _set_root(root)\n",
    "    with open(get_board_path(root), 'r') as f:\n",
    "        board = f.read()\n",
    "    \n",
    "    for key, value in update_dict.items():\n",
    "        if \" \" in value and not value.startswith('\\\"') and not value.endswith('\\\"'):\n",
    "            value = '\\\"' + value + '\\\"'\n",
    "        board, n = re.subn(f\"(?s)(?P<pre>\\(title_block.*{ key } )[^\\)]*\\)\",\n",
    "            f\"\\g<pre>{ value })\",\n",
    "            board\n",
    "        )\n",
    "        assert n == 1\n",
    "    with open(get_board_path(root), 'w') as f:\n",
    "        f.write(board)"
   ]
  },
  {
   "cell_type": "code",
   "execution_count": 30,
   "metadata": {},
   "outputs": [
    {
     "data": {
      "text/plain": [
       "{'title': '\"40-channel HV switching board\"',\n",
       " 'date': '2017-06-01',\n",
       " 'rev': '3.1.1',\n",
       " 'company': '\"Sci-Bots Inc.\"'}"
      ]
     },
     "execution_count": 30,
     "metadata": {},
     "output_type": "execute_result"
    }
   ],
   "source": [
    "get_board_metadata(root)"
   ]
  },
  {
   "cell_type": "code",
   "execution_count": 31,
   "metadata": {},
   "outputs": [],
   "source": [
    "original_metadata = get_board_metadata(root)\n",
    "\n",
    "# Test setting new metadata\n",
    "new_metadata = {\"title\": '\"new title\"',\n",
    "    \"date\": '\"new date\"',\n",
    "    \"rev\": '\"new rev\"',\n",
    "    \"company\": '\"new company\"'\n",
    "}\n",
    "update_board_metadata(new_metadata, root)\n",
    "assert get_board_metadata(root) == new_metadata\n",
    "\n",
    "# Restore original metadata\n",
    "update_board_metadata(original_metadata, root)\n",
    "assert get_board_metadata(root) == original_metadata"
   ]
  },
  {
   "cell_type": "code",
   "execution_count": 32,
   "metadata": {},
   "outputs": [],
   "source": [
    "#export\n",
    "def get_schematic_metadata(root, filename=None):\n",
    "    \"\"\"Get metadata from a `*.sch` schematic file.\n",
    "    \"\"\"\n",
    "    if filename is None:\n",
    "        filename = get_schematic_path(root)\n",
    "    elif os.path.abspath(filename) != filename:\n",
    "        filename = os.path.join(root, filename)\n",
    "    \n",
    "    with open(filename, 'r') as f:\n",
    "        schematic = f.read()\n",
    "\n",
    "    matches = re.search(\"Title (?P<Title>[^\\n]*)\\n\"\n",
    "        \".*Date (?P<Date>[^\\n]*)\\n\"\n",
    "        \".*Rev (?P<Rev>[^\\n]*)\\n\"\n",
    "        \".*Comp (?P<Comp>[^\\n]*)\\n\",\n",
    "        schematic, re.DOTALL\n",
    "    )\n",
    "\n",
    "    return matches.groupdict()"
   ]
  },
  {
   "cell_type": "code",
   "execution_count": 33,
   "metadata": {},
   "outputs": [
    {
     "data": {
      "text/plain": [
       "{'Title': '\"40-channel HV switching board\"',\n",
       " 'Date': '\"2017-06-01\"',\n",
       " 'Rev': '\"3.1.1\"',\n",
       " 'Comp': '\"Sci-Bots Inc.\"'}"
      ]
     },
     "execution_count": 33,
     "metadata": {},
     "output_type": "execute_result"
    }
   ],
   "source": [
    "get_schematic_metadata(root)"
   ]
  },
  {
   "cell_type": "code",
   "execution_count": 34,
   "metadata": {},
   "outputs": [
    {
     "data": {
      "text/plain": [
       "{'Title': '\"40-channel HV switching board\"',\n",
       " 'Date': '\"2017-06-01\"',\n",
       " 'Rev': '\"3.1.1\"',\n",
       " 'Comp': '\"Sci-Bots Inc.\"'}"
      ]
     },
     "execution_count": 34,
     "metadata": {},
     "output_type": "execute_result"
    }
   ],
   "source": [
    "get_schematic_metadata(root, filename=\"switches_0-19.sch\")"
   ]
  },
  {
   "cell_type": "code",
   "execution_count": 35,
   "metadata": {},
   "outputs": [],
   "source": [
    "#export\n",
    "def update_schematic_metadata(update_dict:dict,      # keys/values to update\n",
    "                              root:str=\".\",          # project root directory\n",
    "                              all_sheets:bool=True): # update subsheets\n",
    "    \"\"\"Update metadata in a `*.sch` schematic file.\n",
    "    \"\"\"\n",
    "    root = _set_root(root)\n",
    "    \n",
    "    if all_sheets:\n",
    "        files = glob.glob(os.path.join(root, \"*.sch\"))\n",
    "    else:\n",
    "        files = [get_schematic_path(root)]\n",
    "    \n",
    "    for file in files:\n",
    "        with open(file, 'r') as f:\n",
    "            schematic = f.read()\n",
    "\n",
    "        for key, value in update_dict.items():\n",
    "            if not value.startswith('\\\"') and not value.endswith('\\\"'):\n",
    "                value = '\\\"' + value + '\\\"'\n",
    "            schematic, n = re.subn(f\"(?s)(?P<pre>{ key } )([^\\n]*)\\n\",\n",
    "                f\"\\g<pre>{ value }\\n\",\n",
    "                schematic\n",
    "            )\n",
    "            assert n == 1\n",
    "        with open(file, 'w') as f:\n",
    "            f.write(schematic)"
   ]
  },
  {
   "cell_type": "code",
   "execution_count": 36,
   "metadata": {},
   "outputs": [
    {
     "data": {
      "text/plain": [
       "{'Title': '\"40-channel HV switching board\"',\n",
       " 'Date': '\"2017-06-01\"',\n",
       " 'Rev': '\"3.1.1\"',\n",
       " 'Comp': '\"Sci-Bots Inc.\"'}"
      ]
     },
     "execution_count": 36,
     "metadata": {},
     "output_type": "execute_result"
    }
   ],
   "source": [
    "original_metadata = get_schematic_metadata(root)\n",
    "original_metadata"
   ]
  },
  {
   "cell_type": "code",
   "execution_count": 37,
   "metadata": {},
   "outputs": [],
   "source": [
    "# Test setting new metadata\n",
    "new_metadata = {\"Title\": '\"new title\"',\n",
    "    \"Date\": '\"new date\"',\n",
    "    \"Rev\": '\"new rev\"',\n",
    "    \"Comp\": '\"new company\"'\n",
    "}\n",
    "update_schematic_metadata(new_metadata, root, all_sheets=True)\n",
    "assert get_schematic_metadata(root) == new_metadata\n",
    "assert get_schematic_metadata(root, \"switches_0-19.sch\") == new_metadata\n",
    "\n",
    "# Restore original metadata\n",
    "update_schematic_metadata(original_metadata, root, all_sheets=True)\n",
    "assert get_schematic_metadata(root) == original_metadata\n",
    "assert get_schematic_metadata(root, \"switches_0-19.sch\") == original_metadata"
   ]
  },
  {
   "cell_type": "code",
   "execution_count": 38,
   "metadata": {},
   "outputs": [
    {
     "name": "stdout",
     "output_type": "stream",
     "text": [
      "Converted 00_actions.ipynb.\n",
      "Converted 01_test.ipynb.\n",
      "Converted 02_utilities.ipynb.\n",
      "Converted index.ipynb.\n"
     ]
    }
   ],
   "source": [
    "#hide\n",
    "notebook2script()"
   ]
  }
 ],
 "metadata": {
  "kernelspec": {
   "display_name": "Python 3 (ipykernel)",
   "language": "python",
   "name": "python3"
  },
  "language_info": {
   "codemirror_mode": {
    "name": "ipython",
    "version": 3
   },
   "file_extension": ".py",
   "mimetype": "text/x-python",
   "name": "python",
   "nbconvert_exporter": "python",
   "pygments_lexer": "ipython3",
   "version": "3.9.7"
  }
 },
 "nbformat": 4,
 "nbformat_minor": 4
}
