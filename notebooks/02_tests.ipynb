{
 "cells": [
  {
   "cell_type": "code",
   "execution_count": 1,
   "id": "a83fc968-6c3c-4567-847d-74cae2794346",
   "metadata": {},
   "outputs": [],
   "source": [
    "#hide\n",
    "# default_exp test\n",
    "from nbdev.showdoc import *"
   ]
  },
  {
   "cell_type": "markdown",
   "id": "6c737b05-fa2e-4431-b917-2a35dfb8955b",
   "metadata": {},
   "source": [
    "# Test `kicad-helpers` scripts on a demo repository\n",
    "\n",
    "* [ ] git clone test repository (e.g., https://github.com/sci-bots/dropbot-40-channel-HV-switching-board.kicad) into temp directory\n",
    "* [ ] run kh_update\n",
    "* [ ] run tests\n",
    "* [ ] test the .github/workflows?"
   ]
  },
  {
   "cell_type": "code",
   "execution_count": 2,
   "id": "b4e0ed22-74f4-4a63-b204-6482090b6db0",
   "metadata": {},
   "outputs": [],
   "source": [
    "#export\n",
    "import os\n",
    "import subprocess\n",
    "\n",
    "from fastcore.script import *\n",
    "from nbdev.test import *\n",
    "from nbdev.test import nbglob, num_cpus, parallel, _test_one, Path\n",
    "from kicad_helpers import get_git_root, setup_test_repo, get_project_name, get_schematic_path, get_bom_path\n",
    "from kicad_helpers.core import _set_root"
   ]
  },
  {
   "cell_type": "code",
   "execution_count": 3,
   "id": "5cca3277-6df4-4bef-a47d-b5bd1d64980e",
   "metadata": {},
   "outputs": [],
   "source": [
    "#export\n",
    "@call_parse\n",
    "def test_notebooks(fname:Param(\"A notebook name or glob to convert\", str)=None,\n",
    "                   flags:Param(\"Space separated list of flags\", str)=None,\n",
    "                   n_workers:Param(\"Number of workers to use\", int)=None,\n",
    "                   verbose:Param(\"Print errors along the way\", bool_arg)=True,\n",
    "                   timing:Param(\"Timing each notebook to see the ones are slow\", bool)=False,\n",
    "                   pause:Param(\"Pause time (in secs) between notebooks to avoid race conditions\", float)=0.5,\n",
    "                   root:Param(\"project root directory\", str)=\".\"):\n",
    "    \"Test in parallel the notebooks matching `fname`, passing along `flags`\"\n",
    "    root = _set_root(root)\n",
    "    if flags is not None: flags = flags.split(' ')\n",
    "    if fname is None:\n",
    "        fname = os.path.join(root, \"tests\", \"*.ipynb\")\n",
    "    files = nbglob(fname, recursive=False)\n",
    "    files = [Path(f).absolute() for f in sorted(files)]\n",
    "    assert len(files) > 0, \"No files to test found.\"\n",
    "    if n_workers is None: n_workers = 0 if len(files)==1 else min(num_cpus(), 8)\n",
    "    # make sure we are inside the tests folder\n",
    "    os.chdir(os.path.join(root, \"tests\"))\n",
    "    results = parallel(_test_one, files, flags=flags, verbose=verbose, n_workers=n_workers, pause=pause)\n",
    "    passed,times = [r[0] for r in results],[r[1] for r in results]\n",
    "    if all(passed): print(\"All tests are passing!\")\n",
    "    else:\n",
    "        msg = \"The following notebooks failed:\\n\"\n",
    "        raise Exception(msg + '\\n'.join([f.name for p,f in zip(passed,files) if not p]))\n",
    "    if timing:\n",
    "        for i,t in sorted(enumerate(times), key=lambda o:o[1], reverse=True):\n",
    "            print(f\"Notebook {files[i].name} took {int(t)} seconds\")"
   ]
  },
  {
   "cell_type": "code",
   "execution_count": 4,
   "id": "2f8fe79c-dbb4-46fd-aa36-956b0d24bfc1",
   "metadata": {},
   "outputs": [
    {
     "name": "stderr",
     "output_type": "stream",
     "text": [
      "Cloning into '/mnt/c/Users/ryan/OneDrive/dev/python/kicad-helpers/_temp'...\n",
      "Updating files: 100% (60/60), done.\n"
     ]
    }
   ],
   "source": [
    "#hide\n",
    "root = os.path.join(get_git_root(\".\"), \"_temp\")\n",
    "setup_test_repo(root)"
   ]
  },
  {
   "cell_type": "code",
   "execution_count": 5,
   "id": "bb948139-d390-4817-810e-be2e7ad0f2c4",
   "metadata": {},
   "outputs": [
    {
     "name": "stdout",
     "output_type": "stream",
     "text": [
      "\n"
     ]
    }
   ],
   "source": [
    "#hide_input\n",
    "print(subprocess.check_output(f\"kh_update --overwrite --root { root }\", shell=True).decode(\"utf-8\"))"
   ]
  },
  {
   "cell_type": "code",
   "execution_count": 6,
   "id": "fa33a6e8-80c6-4840-8dff-75a9a738c62f",
   "metadata": {},
   "outputs": [
    {
     "name": "stdout",
     "output_type": "stream",
     "text": [
      "root=/mnt/c/Users/ryan/OneDrive/dev/python/kicad-helpers/_temp\n",
      "fname=/mnt/c/Users/ryan/OneDrive/dev/python/kicad-helpers/_temp/tests/*.ipynb\n",
      "files=[Path('/mnt/c/Users/ryan/OneDrive/dev/python/kicad-helpers/_temp/tests/Tests.ipynb')]\n",
      "testing /mnt/c/Users/ryan/OneDrive/dev/python/kicad-helpers/_temp/tests/Tests.ipynb\n",
      "All tests are passing!\n",
      "\n"
     ]
    }
   ],
   "source": [
    "print(subprocess.check_output(f\"kh_test --root { root }\", shell=True).decode(\"utf-8\"))"
   ]
  },
  {
   "cell_type": "code",
   "execution_count": null,
   "id": "0902fe29-fd89-49b7-a8c9-cc2c95937df3",
   "metadata": {},
   "outputs": [],
   "source": []
  }
 ],
 "metadata": {
  "kernelspec": {
   "display_name": "Python 3 (ipykernel)",
   "language": "python",
   "name": "python3"
  },
  "language_info": {
   "codemirror_mode": {
    "name": "ipython",
    "version": 3
   },
   "file_extension": ".py",
   "mimetype": "text/x-python",
   "name": "python",
   "nbconvert_exporter": "python",
   "pygments_lexer": "ipython3",
   "version": "3.9.7"
  }
 },
 "nbformat": 4,
 "nbformat_minor": 5
}
