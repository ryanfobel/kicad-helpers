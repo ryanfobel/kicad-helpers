{
 "cells": [
  {
   "cell_type": "markdown",
   "id": "6ce641f3-a75b-4490-aa95-b95e150eb2f6",
   "metadata": {},
   "source": [
    "# Test `kicad-helpers` scripts on a demo repository\n",
    "\n",
    "* [ ] git clone test repository (e.g., https://github.com/sci-bots/dropbot-40-channel-HV-switching-board.kicad) into temp directory\n",
    "* [ ] run kh_update\n",
    "* [ ] run tests\n",
    "* [ ] test the .github/workflows?"
   ]
  },
  {
   "cell_type": "code",
   "execution_count": null,
   "id": "5cca3277-6df4-4bef-a47d-b5bd1d64980e",
   "metadata": {},
   "outputs": [],
   "source": []
  }
 ],
 "metadata": {
  "kernelspec": {
   "display_name": "Python 3 (ipykernel)",
   "language": "python",
   "name": "python3"
  }
 },
 "nbformat": 4,
 "nbformat_minor": 5
}
