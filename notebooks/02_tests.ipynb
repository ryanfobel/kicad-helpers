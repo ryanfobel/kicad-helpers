{
 "cells": [
  {
   "cell_type": "code",
   "execution_count": 1,
   "id": "a83fc968-6c3c-4567-847d-74cae2794346",
   "metadata": {},
   "outputs": [],
   "source": [
    "#hide\n",
    "# default_exp test\n",
    "from nbdev.showdoc import *\n",
    "import tempfile"
   ]
  },
  {
   "cell_type": "markdown",
   "id": "6c737b05-fa2e-4431-b917-2a35dfb8955b",
   "metadata": {},
   "source": [
    "# Test `kicad-helpers` scripts on a demo repository\n",
    "\n",
    "* [ ] git clone test repository (e.g., https://github.com/sci-bots/dropbot-40-channel-HV-switching-board.kicad) into temp directory\n",
    "* [ ] run kh_update\n",
    "* [ ] run tests\n",
    "* [ ] test the .github/workflows?"
   ]
  },
  {
   "cell_type": "code",
   "execution_count": 2,
   "id": "b4e0ed22-74f4-4a63-b204-6482090b6db0",
   "metadata": {},
   "outputs": [],
   "source": [
    "#export\n",
    "import os\n",
    "\n",
    "from fastcore.script import *\n",
    "from nbdev.test import *\n",
    "from nbdev.test import nbglob, num_cpus, parallel, _test_one, Path\n",
    "from kicad_helpers import setup_test_repo, get_project_name, get_schematic_path, get_bom_path\n",
    "from kicad_helpers.core import _set_root"
   ]
  },
  {
   "cell_type": "code",
   "execution_count": 3,
   "id": "5cca3277-6df4-4bef-a47d-b5bd1d64980e",
   "metadata": {},
   "outputs": [],
   "source": [
    "#export\n",
    "@call_parse\n",
    "def test_notebooks(fname:Param(\"A notebook name or glob to convert\", str)=None,\n",
    "                   flags:Param(\"Space separated list of flags\", str)=None,\n",
    "                   n_workers:Param(\"Number of workers to use\", int)=None,\n",
    "                   verbose:Param(\"Print errors along the way\", bool_arg)=True,\n",
    "                   timing:Param(\"Timing each notebook to see the ones are slow\", bool)=False,\n",
    "                   pause:Param(\"Pause time (in secs) between notebooks to avoid race conditions\", float)=0.5,\n",
    "                   root:Param(\"project root directory\", str)=\".\"):\n",
    "    \"Test in parallel the notebooks matching `fname`, passing along `flags`\"\n",
    "    root = _set_root(root)\n",
    "    if flags is not None: flags = flags.split(' ')\n",
    "    if fname is None:\n",
    "        fname=os.path.join(root, \"tests\", \"*.ipynb\")\n",
    "    files = nbglob(fname, recursive=False)\n",
    "    files = [Path(f).absolute() for f in sorted(files)]\n",
    "    assert len(files) > 0, \"No files to test found.\"\n",
    "    if n_workers is None: n_workers = 0 if len(files)==1 else min(num_cpus(), 8)\n",
    "    # make sure we are inside the tests folder\n",
    "    os.chdir(os.path.join(root, \"tests\"))\n",
    "    results = parallel(_test_one, files, flags=flags, verbose=verbose, n_workers=n_workers, pause=pause)\n",
    "    passed,times = [r[0] for r in results],[r[1] for r in results]\n",
    "    if all(passed): print(\"All tests are passing!\")\n",
    "    else:\n",
    "        msg = \"The following notebooks failed:\\n\"\n",
    "        raise Exception(msg + '\\n'.join([f.name for p,f in zip(passed,files) if not p]))\n",
    "    if timing:\n",
    "        for i,t in sorted(enumerate(times), key=lambda o:o[1], reverse=True):\n",
    "            print(f\"Notebook {files[i].name} took {int(t)} seconds\")"
   ]
  },
  {
   "cell_type": "code",
   "execution_count": 4,
   "id": "2f8fe79c-dbb4-46fd-aa36-956b0d24bfc1",
   "metadata": {},
   "outputs": [],
   "source": [
    "#hide\n",
    "#root = tempfile.mkdtemp()\n",
    "#setup_test_repo(root)"
   ]
  },
  {
   "cell_type": "code",
   "execution_count": 7,
   "id": "91e551a7-d699-4921-8924-5f3d8f1cdcec",
   "metadata": {},
   "outputs": [
    {
     "name": "stdout",
     "output_type": "stream",
     "text": [
      "arg_root=.\n",
      "git_root=/mnt/c/Users/ryan/OneDrive/dev/python/sci-bots-manufacturing/products/dropbot-v3/hardware/40-channel-HV-switching-board\n",
      "env_root=/mnt/c/Users/ryan/OneDrive/dev/python/sci-bots-manufacturing/products/dropbot-v3/hardware/40-channel-HV-switching-board\n",
      "root=/mnt/c/Users/ryan/OneDrive/dev/python/sci-bots-manufacturing/products/dropbot-v3/hardware/40-channel-HV-switching-board\n",
      "fname=/mnt/c/Users/ryan/OneDrive/dev/python/sci-bots-manufacturing/products/dropbot-v3/hardware/40-channel-HV-switching-board/tests/*.ipynb\n",
      "testing /mnt/c/Users/ryan/OneDrive/dev/python/sci-bots-manufacturing/products/dropbot-v3/hardware/40-channel-HV-switching-board/tests/Untitled.ipynb\n",
      "All tests are passing!\n"
     ]
    }
   ],
   "source": [
    "try:\n",
    "    del os.environ[\"KH_PROJECT_ROOT\"]\n",
    "except:\n",
    "    pass\n",
    "\n",
    "root=\"/home/ryan/dev/python/sci-bots-manufacturing/products/dropbot-v3/hardware/40-channel-HV-switching-board\"\n",
    "os.chdir(root)\n",
    "test_notebooks()"
   ]
  }
 ],
 "metadata": {
  "kernelspec": {
   "display_name": "Python 3 (ipykernel)",
   "language": "python",
   "name": "python3"
  },
  "language_info": {
   "codemirror_mode": {
    "name": "ipython",
    "version": 3
   },
   "file_extension": ".py",
   "mimetype": "text/x-python",
   "name": "python",
   "nbconvert_exporter": "python",
   "pygments_lexer": "ipython3",
   "version": "3.9.7"
  }
 },
 "nbformat": 4,
 "nbformat_minor": 5
}
